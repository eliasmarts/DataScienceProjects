{
 "cells": [
  {
   "cell_type": "code",
   "execution_count": 1,
   "id": "79313c71",
   "metadata": {
    "_cell_guid": "b1076dfc-b9ad-4769-8c92-a6c4dae69d19",
    "_uuid": "8f2839f25d086af736a60e9eeb907d3b93b6e0e5",
    "execution": {
     "iopub.execute_input": "2023-07-16T20:01:13.416683Z",
     "iopub.status.busy": "2023-07-16T20:01:13.416301Z",
     "iopub.status.idle": "2023-07-16T20:01:14.907402Z",
     "shell.execute_reply": "2023-07-16T20:01:14.906217Z"
    },
    "papermill": {
     "duration": 1.513695,
     "end_time": "2023-07-16T20:01:14.909911",
     "exception": false,
     "start_time": "2023-07-16T20:01:13.396216",
     "status": "completed"
    },
    "tags": []
   },
   "outputs": [
    {
     "name": "stderr",
     "output_type": "stream",
     "text": [
      "/opt/conda/lib/python3.10/site-packages/scipy/__init__.py:146: UserWarning: A NumPy version >=1.16.5 and <1.23.0 is required for this version of SciPy (detected version 1.23.5\n",
      "  warnings.warn(f\"A NumPy version >={np_minversion} and <{np_maxversion}\"\n"
     ]
    },
    {
     "name": "stdout",
     "output_type": "stream",
     "text": [
      "/kaggle/input/chocolate-bar-ratings-2022/Chocolate bar ratings 2022.csv\n"
     ]
    }
   ],
   "source": [
    "# This Python 3 environment comes with many helpful analytics libraries installed\n",
    "# It is defined by the kaggle/python Docker image: https://github.com/kaggle/docker-python\n",
    "# For example, here's several helpful packages to load\n",
    "\n",
    "import numpy as np # linear algebra\n",
    "import pandas as pd # data processing, CSV file I/O (e.g. pd.read_csv)\n",
    "import matplotlib.pyplot as plt\n",
    "import matplotlib as mlt\n",
    "import seaborn as sns\n",
    "\n",
    "# Input data files are available in the read-only \"../input/\" directory\n",
    "# For example, running this (by clicking run or pressing Shift+Enter) will list all files under the input directory\n",
    "\n",
    "import os\n",
    "for dirname, _, filenames in os.walk('/kaggle/input'):\n",
    "    for filename in filenames:\n",
    "        print(os.path.join(dirname, filename))\n",
    "\n",
    "# You can write up to 20GB to the current directory (/kaggle/working/) that gets preserved as output when you create a version using \"Save & Run All\" \n",
    "# You can also write temporary files to /kaggle/temp/, but they won't be saved outside of the current session"
   ]
  },
  {
   "cell_type": "markdown",
   "id": "d3e21ab9",
   "metadata": {
    "papermill": {
     "duration": 0.017552,
     "end_time": "2023-07-16T20:01:14.945022",
     "exception": false,
     "start_time": "2023-07-16T20:01:14.927470",
     "status": "completed"
    },
    "tags": []
   },
   "source": [
    "### Obs: I am a brazilian learning english. Sorry for the bad english =/"
   ]
  },
  {
   "cell_type": "markdown",
   "id": "724c93df",
   "metadata": {
    "papermill": {
     "duration": 0.017233,
     "end_time": "2023-07-16T20:01:14.980948",
     "exception": false,
     "start_time": "2023-07-16T20:01:14.963715",
     "status": "completed"
    },
    "tags": []
   },
   "source": [
    "# Chocolate database EDA"
   ]
  },
  {
   "cell_type": "markdown",
   "id": "ebcd93b9",
   "metadata": {
    "execution": {
     "iopub.execute_input": "2023-07-13T17:25:15.366071Z",
     "iopub.status.busy": "2023-07-13T17:25:15.365511Z",
     "iopub.status.idle": "2023-07-13T17:25:15.381288Z",
     "shell.execute_reply": "2023-07-13T17:25:15.378960Z",
     "shell.execute_reply.started": "2023-07-13T17:25:15.366032Z"
    },
    "papermill": {
     "duration": 0.017064,
     "end_time": "2023-07-16T20:01:15.015746",
     "exception": false,
     "start_time": "2023-07-16T20:01:14.998682",
     "status": "completed"
    },
    "tags": []
   },
   "source": [
    "## About the dataset\n",
    "The dataset comprises various chocolate bars with their ingredients. These determine the overall taste and flavour of the chocolates, which consequently affect their ratings.\n",
    "\n",
    "The chocolate reviews are between 2006 and 2022. The dataset was last updated on June 26, 2022.\n",
    "Rating Scale\n",
    "\n",
    "The ratings are between 1 and 5 with 1 considered the lowest rating and 5 as the highest rating possible.\n",
    "\n",
    "    4.0 - 5.0 = Outstanding\n",
    "    3.5 - 3.9 = Highly Recommended\n",
    "    3.0 - 3.49 = Recommended\n",
    "    2.0 - 2.9 = Disappointing\n",
    "    1.0 - 1.9 = Unpleasant\n",
    "\n",
    "### Review Guide\n",
    "\n",
    "Ratings assigned to the chocolate bars are based on the following aspects:\n",
    "\n",
    "    Flavor is the most important component of the Flavors of Cacao ratings. Diversity, balance, intensity and purity of flavors are all considered.\n",
    "    Texture has a great impact on the overall experience and it is also possible for texture-related issues to impact flavour.\n",
    "    Aftermelt is the experience after the chocolate has melted. Higher quality chocolate will linger and be long-lasting and enjoyable.\n",
    "    Overall Opinion is really where the ratings reflect a subjective opinion.\n",
    "    Other Notes- These are topics that may be interesting to discuss but may not necessarily impact the flavour or experience. For example, appearance, snap, packaging, cost etc.\n"
   ]
  },
  {
   "cell_type": "markdown",
   "id": "b1635d04",
   "metadata": {
    "papermill": {
     "duration": 0.017119,
     "end_time": "2023-07-16T20:01:15.050674",
     "exception": false,
     "start_time": "2023-07-16T20:01:15.033555",
     "status": "completed"
    },
    "tags": []
   },
   "source": [
    "## Goals"
   ]
  },
  {
   "cell_type": "markdown",
   "id": "34e732ee",
   "metadata": {
    "papermill": {
     "duration": 0.016998,
     "end_time": "2023-07-16T20:01:15.084967",
     "exception": false,
     "start_time": "2023-07-16T20:01:15.067969",
     "status": "completed"
    },
    "tags": []
   },
   "source": []
  },
  {
   "cell_type": "markdown",
   "id": "cfbb4703",
   "metadata": {
    "papermill": {
     "duration": 0.017115,
     "end_time": "2023-07-16T20:01:15.119446",
     "exception": false,
     "start_time": "2023-07-16T20:01:15.102331",
     "status": "completed"
    },
    "tags": []
   },
   "source": [
    "- Understanding what makes a high rating chocolate\n",
    "- Which characteristics affects the most"
   ]
  },
  {
   "cell_type": "markdown",
   "id": "c1ef0815",
   "metadata": {
    "papermill": {
     "duration": 0.016981,
     "end_time": "2023-07-16T20:01:15.153945",
     "exception": false,
     "start_time": "2023-07-16T20:01:15.136964",
     "status": "completed"
    },
    "tags": []
   },
   "source": [
    "## Loading the dataset"
   ]
  },
  {
   "cell_type": "code",
   "execution_count": 2,
   "id": "61d7bb47",
   "metadata": {
    "execution": {
     "iopub.execute_input": "2023-07-16T20:01:15.190260Z",
     "iopub.status.busy": "2023-07-16T20:01:15.189848Z",
     "iopub.status.idle": "2023-07-16T20:01:15.227350Z",
     "shell.execute_reply": "2023-07-16T20:01:15.226357Z"
    },
    "papermill": {
     "duration": 0.058943,
     "end_time": "2023-07-16T20:01:15.230118",
     "exception": false,
     "start_time": "2023-07-16T20:01:15.171175",
     "status": "completed"
    },
    "tags": []
   },
   "outputs": [],
   "source": [
    "chocolate_rating_data = pd.read_csv('/kaggle/input/chocolate-bar-ratings-2022/Chocolate bar ratings 2022.csv')"
   ]
  },
  {
   "cell_type": "code",
   "execution_count": 3,
   "id": "d0c050f6",
   "metadata": {
    "execution": {
     "iopub.execute_input": "2023-07-16T20:01:15.266793Z",
     "iopub.status.busy": "2023-07-16T20:01:15.266352Z",
     "iopub.status.idle": "2023-07-16T20:01:15.291732Z",
     "shell.execute_reply": "2023-07-16T20:01:15.290873Z"
    },
    "papermill": {
     "duration": 0.04613,
     "end_time": "2023-07-16T20:01:15.293913",
     "exception": false,
     "start_time": "2023-07-16T20:01:15.247783",
     "status": "completed"
    },
    "tags": []
   },
   "outputs": [
    {
     "data": {
      "text/html": [
       "<div>\n",
       "<style scoped>\n",
       "    .dataframe tbody tr th:only-of-type {\n",
       "        vertical-align: middle;\n",
       "    }\n",
       "\n",
       "    .dataframe tbody tr th {\n",
       "        vertical-align: top;\n",
       "    }\n",
       "\n",
       "    .dataframe thead th {\n",
       "        text-align: right;\n",
       "    }\n",
       "</style>\n",
       "<table border=\"1\" class=\"dataframe\">\n",
       "  <thead>\n",
       "    <tr style=\"text-align: right;\">\n",
       "      <th></th>\n",
       "      <th>REF</th>\n",
       "      <th>Company (Manufacturer)</th>\n",
       "      <th>Company Location</th>\n",
       "      <th>Review Date</th>\n",
       "      <th>Country of Bean Origin</th>\n",
       "      <th>Specific Bean Origin or Bar Name</th>\n",
       "      <th>Cocoa Percent</th>\n",
       "      <th>Ingredients</th>\n",
       "      <th>Most Memorable Characteristics</th>\n",
       "      <th>Rating</th>\n",
       "    </tr>\n",
       "  </thead>\n",
       "  <tbody>\n",
       "    <tr>\n",
       "      <th>0</th>\n",
       "      <td>2454</td>\n",
       "      <td>5150</td>\n",
       "      <td>U.S.A.</td>\n",
       "      <td>2019</td>\n",
       "      <td>Tanzania</td>\n",
       "      <td>Kokoa Kamili, batch 1</td>\n",
       "      <td>76%</td>\n",
       "      <td>3- B,S,C</td>\n",
       "      <td>rich cocoa, fatty, bready</td>\n",
       "      <td>3.25</td>\n",
       "    </tr>\n",
       "    <tr>\n",
       "      <th>1</th>\n",
       "      <td>2454</td>\n",
       "      <td>5150</td>\n",
       "      <td>U.S.A.</td>\n",
       "      <td>2019</td>\n",
       "      <td>Madagascar</td>\n",
       "      <td>Bejofo Estate, batch 1</td>\n",
       "      <td>76%</td>\n",
       "      <td>3- B,S,C</td>\n",
       "      <td>cocoa, blackberry, full body</td>\n",
       "      <td>3.75</td>\n",
       "    </tr>\n",
       "    <tr>\n",
       "      <th>2</th>\n",
       "      <td>2458</td>\n",
       "      <td>5150</td>\n",
       "      <td>U.S.A.</td>\n",
       "      <td>2019</td>\n",
       "      <td>Dominican Republic</td>\n",
       "      <td>Zorzal, batch 1</td>\n",
       "      <td>76%</td>\n",
       "      <td>3- B,S,C</td>\n",
       "      <td>cocoa, vegetal, savory</td>\n",
       "      <td>3.50</td>\n",
       "    </tr>\n",
       "    <tr>\n",
       "      <th>3</th>\n",
       "      <td>2542</td>\n",
       "      <td>5150</td>\n",
       "      <td>U.S.A.</td>\n",
       "      <td>2021</td>\n",
       "      <td>Fiji</td>\n",
       "      <td>Matasawalevu, batch 1</td>\n",
       "      <td>68%</td>\n",
       "      <td>3- B,S,C</td>\n",
       "      <td>chewy, off, rubbery</td>\n",
       "      <td>3.00</td>\n",
       "    </tr>\n",
       "    <tr>\n",
       "      <th>4</th>\n",
       "      <td>2542</td>\n",
       "      <td>5150</td>\n",
       "      <td>U.S.A.</td>\n",
       "      <td>2021</td>\n",
       "      <td>India</td>\n",
       "      <td>Anamalai, batch 1</td>\n",
       "      <td>68%</td>\n",
       "      <td>3- B,S,C</td>\n",
       "      <td>milk brownie, macadamia,chewy</td>\n",
       "      <td>3.50</td>\n",
       "    </tr>\n",
       "  </tbody>\n",
       "</table>\n",
       "</div>"
      ],
      "text/plain": [
       "    REF Company (Manufacturer) Company Location  Review Date  \\\n",
       "0  2454                   5150           U.S.A.         2019   \n",
       "1  2454                   5150           U.S.A.         2019   \n",
       "2  2458                   5150           U.S.A.         2019   \n",
       "3  2542                   5150           U.S.A.         2021   \n",
       "4  2542                   5150           U.S.A.         2021   \n",
       "\n",
       "  Country of Bean Origin Specific Bean Origin or Bar Name Cocoa Percent  \\\n",
       "0               Tanzania            Kokoa Kamili, batch 1           76%   \n",
       "1             Madagascar           Bejofo Estate, batch 1           76%   \n",
       "2     Dominican Republic                  Zorzal, batch 1           76%   \n",
       "3                   Fiji            Matasawalevu, batch 1           68%   \n",
       "4                  India                Anamalai, batch 1           68%   \n",
       "\n",
       "  Ingredients Most Memorable Characteristics  Rating  \n",
       "0    3- B,S,C      rich cocoa, fatty, bready    3.25  \n",
       "1    3- B,S,C   cocoa, blackberry, full body    3.75  \n",
       "2    3- B,S,C         cocoa, vegetal, savory    3.50  \n",
       "3    3- B,S,C            chewy, off, rubbery    3.00  \n",
       "4    3- B,S,C  milk brownie, macadamia,chewy    3.50  "
      ]
     },
     "execution_count": 3,
     "metadata": {},
     "output_type": "execute_result"
    }
   ],
   "source": [
    "chocolate_rating_data.head()"
   ]
  },
  {
   "cell_type": "code",
   "execution_count": 4,
   "id": "b5de93f4",
   "metadata": {
    "execution": {
     "iopub.execute_input": "2023-07-16T20:01:15.331131Z",
     "iopub.status.busy": "2023-07-16T20:01:15.330480Z",
     "iopub.status.idle": "2023-07-16T20:01:15.336479Z",
     "shell.execute_reply": "2023-07-16T20:01:15.335667Z"
    },
    "papermill": {
     "duration": 0.026991,
     "end_time": "2023-07-16T20:01:15.338487",
     "exception": false,
     "start_time": "2023-07-16T20:01:15.311496",
     "status": "completed"
    },
    "tags": []
   },
   "outputs": [
    {
     "data": {
      "text/plain": [
       "(2588, 10)"
      ]
     },
     "execution_count": 4,
     "metadata": {},
     "output_type": "execute_result"
    }
   ],
   "source": [
    "chocolate_rating_data.shape"
   ]
  },
  {
   "cell_type": "markdown",
   "id": "c3afc565",
   "metadata": {
    "papermill": {
     "duration": 0.017428,
     "end_time": "2023-07-16T20:01:15.373677",
     "exception": false,
     "start_time": "2023-07-16T20:01:15.356249",
     "status": "completed"
    },
    "tags": []
   },
   "source": [
    "## Checking the integrity of data"
   ]
  },
  {
   "cell_type": "code",
   "execution_count": 5,
   "id": "9d762df7",
   "metadata": {
    "execution": {
     "iopub.execute_input": "2023-07-16T20:01:15.411070Z",
     "iopub.status.busy": "2023-07-16T20:01:15.410349Z",
     "iopub.status.idle": "2023-07-16T20:01:15.436157Z",
     "shell.execute_reply": "2023-07-16T20:01:15.434985Z"
    },
    "papermill": {
     "duration": 0.047318,
     "end_time": "2023-07-16T20:01:15.438562",
     "exception": false,
     "start_time": "2023-07-16T20:01:15.391244",
     "status": "completed"
    },
    "tags": []
   },
   "outputs": [
    {
     "data": {
      "text/html": [
       "<div>\n",
       "<style scoped>\n",
       "    .dataframe tbody tr th:only-of-type {\n",
       "        vertical-align: middle;\n",
       "    }\n",
       "\n",
       "    .dataframe tbody tr th {\n",
       "        vertical-align: top;\n",
       "    }\n",
       "\n",
       "    .dataframe thead th {\n",
       "        text-align: right;\n",
       "    }\n",
       "</style>\n",
       "<table border=\"1\" class=\"dataframe\">\n",
       "  <thead>\n",
       "    <tr style=\"text-align: right;\">\n",
       "      <th></th>\n",
       "      <th>REF</th>\n",
       "      <th>Review Date</th>\n",
       "      <th>Rating</th>\n",
       "    </tr>\n",
       "  </thead>\n",
       "  <tbody>\n",
       "    <tr>\n",
       "      <th>count</th>\n",
       "      <td>2588.000000</td>\n",
       "      <td>2588.000000</td>\n",
       "      <td>2588.000000</td>\n",
       "    </tr>\n",
       "    <tr>\n",
       "      <th>mean</th>\n",
       "      <td>1459.185471</td>\n",
       "      <td>2014.545209</td>\n",
       "      <td>3.198319</td>\n",
       "    </tr>\n",
       "    <tr>\n",
       "      <th>std</th>\n",
       "      <td>773.852201</td>\n",
       "      <td>4.082722</td>\n",
       "      <td>0.444069</td>\n",
       "    </tr>\n",
       "    <tr>\n",
       "      <th>min</th>\n",
       "      <td>5.000000</td>\n",
       "      <td>2006.000000</td>\n",
       "      <td>1.000000</td>\n",
       "    </tr>\n",
       "    <tr>\n",
       "      <th>25%</th>\n",
       "      <td>820.000000</td>\n",
       "      <td>2012.000000</td>\n",
       "      <td>3.000000</td>\n",
       "    </tr>\n",
       "    <tr>\n",
       "      <th>50%</th>\n",
       "      <td>1470.000000</td>\n",
       "      <td>2015.000000</td>\n",
       "      <td>3.250000</td>\n",
       "    </tr>\n",
       "    <tr>\n",
       "      <th>75%</th>\n",
       "      <td>2122.000000</td>\n",
       "      <td>2018.000000</td>\n",
       "      <td>3.500000</td>\n",
       "    </tr>\n",
       "    <tr>\n",
       "      <th>max</th>\n",
       "      <td>2768.000000</td>\n",
       "      <td>2022.000000</td>\n",
       "      <td>4.000000</td>\n",
       "    </tr>\n",
       "  </tbody>\n",
       "</table>\n",
       "</div>"
      ],
      "text/plain": [
       "               REF  Review Date       Rating\n",
       "count  2588.000000  2588.000000  2588.000000\n",
       "mean   1459.185471  2014.545209     3.198319\n",
       "std     773.852201     4.082722     0.444069\n",
       "min       5.000000  2006.000000     1.000000\n",
       "25%     820.000000  2012.000000     3.000000\n",
       "50%    1470.000000  2015.000000     3.250000\n",
       "75%    2122.000000  2018.000000     3.500000\n",
       "max    2768.000000  2022.000000     4.000000"
      ]
     },
     "execution_count": 5,
     "metadata": {},
     "output_type": "execute_result"
    }
   ],
   "source": [
    "chocolate_rating_data.describe()"
   ]
  },
  {
   "cell_type": "markdown",
   "id": "20669301",
   "metadata": {
    "papermill": {
     "duration": 0.017665,
     "end_time": "2023-07-16T20:01:15.474344",
     "exception": false,
     "start_time": "2023-07-16T20:01:15.456679",
     "status": "completed"
    },
    "tags": []
   },
   "source": [
    "The numeric data seems to make sense, with all rating values between 1 and 5, and all review date values between 2006 and 2022"
   ]
  },
  {
   "cell_type": "code",
   "execution_count": 6,
   "id": "851f0d75",
   "metadata": {
    "execution": {
     "iopub.execute_input": "2023-07-16T20:01:15.512034Z",
     "iopub.status.busy": "2023-07-16T20:01:15.511621Z",
     "iopub.status.idle": "2023-07-16T20:01:15.541445Z",
     "shell.execute_reply": "2023-07-16T20:01:15.539999Z"
    },
    "papermill": {
     "duration": 0.051466,
     "end_time": "2023-07-16T20:01:15.543687",
     "exception": false,
     "start_time": "2023-07-16T20:01:15.492221",
     "status": "completed"
    },
    "tags": []
   },
   "outputs": [
    {
     "name": "stdout",
     "output_type": "stream",
     "text": [
      "<class 'pandas.core.frame.DataFrame'>\n",
      "RangeIndex: 2588 entries, 0 to 2587\n",
      "Data columns (total 10 columns):\n",
      " #   Column                            Non-Null Count  Dtype  \n",
      "---  ------                            --------------  -----  \n",
      " 0   REF                               2588 non-null   int64  \n",
      " 1   Company (Manufacturer)            2588 non-null   object \n",
      " 2   Company Location                  2588 non-null   object \n",
      " 3   Review Date                       2588 non-null   int64  \n",
      " 4   Country of Bean Origin            2588 non-null   object \n",
      " 5   Specific Bean Origin or Bar Name  2588 non-null   object \n",
      " 6   Cocoa Percent                     2588 non-null   object \n",
      " 7   Ingredients                       2501 non-null   object \n",
      " 8   Most Memorable Characteristics    2588 non-null   object \n",
      " 9   Rating                            2588 non-null   float64\n",
      "dtypes: float64(1), int64(2), object(7)\n",
      "memory usage: 202.3+ KB\n"
     ]
    }
   ],
   "source": [
    "chocolate_rating_data.info()"
   ]
  },
  {
   "cell_type": "code",
   "execution_count": 7,
   "id": "72f901f9",
   "metadata": {
    "execution": {
     "iopub.execute_input": "2023-07-16T20:01:15.582059Z",
     "iopub.status.busy": "2023-07-16T20:01:15.581305Z",
     "iopub.status.idle": "2023-07-16T20:01:15.592603Z",
     "shell.execute_reply": "2023-07-16T20:01:15.591550Z"
    },
    "papermill": {
     "duration": 0.032741,
     "end_time": "2023-07-16T20:01:15.594678",
     "exception": false,
     "start_time": "2023-07-16T20:01:15.561937",
     "status": "completed"
    },
    "tags": []
   },
   "outputs": [
    {
     "data": {
      "text/plain": [
       "Soma                                  57\n",
       "Fresco                                39\n",
       "Arete                                 32\n",
       "Bonnat                                30\n",
       "A. Morin                              29\n",
       "                                      ..\n",
       "Rococo (Grenada Chocolate Co.)         1\n",
       "Cacao Arabuco                          1\n",
       "Britarev                               1\n",
       "Love Bar                               1\n",
       "Chocolates by Josh (Box Chocolate)     1\n",
       "Name: Company (Manufacturer), Length: 593, dtype: int64"
      ]
     },
     "execution_count": 7,
     "metadata": {},
     "output_type": "execute_result"
    }
   ],
   "source": [
    "chocolate_rating_data['Company (Manufacturer)'].value_counts()"
   ]
  },
  {
   "cell_type": "code",
   "execution_count": 8,
   "id": "d47b7b9d",
   "metadata": {
    "execution": {
     "iopub.execute_input": "2023-07-16T20:01:15.633484Z",
     "iopub.status.busy": "2023-07-16T20:01:15.632775Z",
     "iopub.status.idle": "2023-07-16T20:01:15.641278Z",
     "shell.execute_reply": "2023-07-16T20:01:15.640439Z"
    },
    "papermill": {
     "duration": 0.030211,
     "end_time": "2023-07-16T20:01:15.643349",
     "exception": false,
     "start_time": "2023-07-16T20:01:15.613138",
     "status": "completed"
    },
    "tags": []
   },
   "outputs": [
    {
     "data": {
      "text/plain": [
       "U.S.A.                   1168\n",
       "France                    179\n",
       "Canada                    178\n",
       "U.K.                      134\n",
       "Italy                      79\n",
       "                         ... \n",
       "St.Vincent-Grenadines       1\n",
       "Wales                       1\n",
       "Martinique                  1\n",
       "Ghana                       1\n",
       "Suriname                    1\n",
       "Name: Company Location, Length: 65, dtype: int64"
      ]
     },
     "execution_count": 8,
     "metadata": {},
     "output_type": "execute_result"
    }
   ],
   "source": [
    "chocolate_rating_data['Company Location'].value_counts()"
   ]
  },
  {
   "cell_type": "code",
   "execution_count": 9,
   "id": "877a995a",
   "metadata": {
    "execution": {
     "iopub.execute_input": "2023-07-16T20:01:15.682844Z",
     "iopub.status.busy": "2023-07-16T20:01:15.682109Z",
     "iopub.status.idle": "2023-07-16T20:01:15.691699Z",
     "shell.execute_reply": "2023-07-16T20:01:15.690485Z"
    },
    "papermill": {
     "duration": 0.032123,
     "end_time": "2023-07-16T20:01:15.694015",
     "exception": false,
     "start_time": "2023-07-16T20:01:15.661892",
     "status": "completed"
    },
    "tags": []
   },
   "outputs": [
    {
     "data": {
      "text/plain": [
       "Venezuela             254\n",
       "Peru                  248\n",
       "Dominican Republic    234\n",
       "Ecuador               223\n",
       "Madagascar            184\n",
       "                     ... \n",
       "China                   1\n",
       "Principe                1\n",
       "Sulawesi                1\n",
       "Suriname                1\n",
       "DR Congo                1\n",
       "Name: Country of Bean Origin, Length: 63, dtype: int64"
      ]
     },
     "execution_count": 9,
     "metadata": {},
     "output_type": "execute_result"
    }
   ],
   "source": [
    "chocolate_rating_data['Country of Bean Origin'].value_counts()"
   ]
  },
  {
   "cell_type": "code",
   "execution_count": 10,
   "id": "42ddf5e2",
   "metadata": {
    "execution": {
     "iopub.execute_input": "2023-07-16T20:01:15.733723Z",
     "iopub.status.busy": "2023-07-16T20:01:15.733005Z",
     "iopub.status.idle": "2023-07-16T20:01:15.741385Z",
     "shell.execute_reply": "2023-07-16T20:01:15.740513Z"
    },
    "papermill": {
     "duration": 0.030742,
     "end_time": "2023-07-16T20:01:15.743481",
     "exception": false,
     "start_time": "2023-07-16T20:01:15.712739",
     "status": "completed"
    },
    "tags": []
   },
   "outputs": [
    {
     "data": {
      "text/plain": [
       "70%       1070\n",
       "75%        312\n",
       "72%        309\n",
       "65%         93\n",
       "80%         90\n",
       "68%         75\n",
       "74%         69\n",
       "73%         67\n",
       "60%         46\n",
       "71%         44\n",
       "77%         43\n",
       "85%         40\n",
       "64%         37\n",
       "76%         35\n",
       "67%         35\n",
       "66%         28\n",
       "78%         22\n",
       "100%        21\n",
       "82%         18\n",
       "62%         16\n",
       "55%         16\n",
       "63%         15\n",
       "69%         13\n",
       "90%          9\n",
       "88%          8\n",
       "58%          8\n",
       "61%          7\n",
       "81%          6\n",
       "83%          5\n",
       "84%          4\n",
       "72.50%       4\n",
       "91%          3\n",
       "99%          2\n",
       "89%          2\n",
       "56%          2\n",
       "73.50%       2\n",
       "71.50%       2\n",
       "79%          2\n",
       "60.50%       1\n",
       "57%          1\n",
       "46%          1\n",
       "50%          1\n",
       "42%          1\n",
       "86%          1\n",
       "53%          1\n",
       "87%          1\n",
       "Name: Cocoa Percent, dtype: int64"
      ]
     },
     "execution_count": 10,
     "metadata": {},
     "output_type": "execute_result"
    }
   ],
   "source": [
    "chocolate_rating_data['Cocoa Percent'].value_counts()"
   ]
  },
  {
   "cell_type": "code",
   "execution_count": 11,
   "id": "566e7631",
   "metadata": {
    "execution": {
     "iopub.execute_input": "2023-07-16T20:01:15.783163Z",
     "iopub.status.busy": "2023-07-16T20:01:15.782471Z",
     "iopub.status.idle": "2023-07-16T20:01:15.791907Z",
     "shell.execute_reply": "2023-07-16T20:01:15.790827Z"
    },
    "papermill": {
     "duration": 0.03213,
     "end_time": "2023-07-16T20:01:15.794291",
     "exception": false,
     "start_time": "2023-07-16T20:01:15.762161",
     "status": "completed"
    },
    "tags": []
   },
   "outputs": [
    {
     "data": {
      "text/plain": [
       "3- B,S,C          1029\n",
       "2- B,S             738\n",
       "4- B,S,C,L         293\n",
       "5- B,S,C,V,L       184\n",
       "4- B,S,C,V         141\n",
       "2- B,S*             31\n",
       "4- B,S*,C,Sa        20\n",
       "3- B,S*,C           13\n",
       "3- B,S,L             8\n",
       "4- B,S*,C,V          7\n",
       "1- B                 6\n",
       "5-B,S,C,V,Sa         6\n",
       "4- B,S,V,L           5\n",
       "4- B,S,C,Sa          5\n",
       "6-B,S,C,V,L,Sa       4\n",
       "3- B,S,V             3\n",
       "4- B,S*,V,L          3\n",
       "4- B,S*,C,L          2\n",
       "3- B,S*,Sa           1\n",
       "2- B,C               1\n",
       "5- B,S,C,L,Sa        1\n",
       "Name: Ingredients, dtype: int64"
      ]
     },
     "execution_count": 11,
     "metadata": {},
     "output_type": "execute_result"
    }
   ],
   "source": [
    "chocolate_rating_data['Ingredients'].value_counts()"
   ]
  },
  {
   "cell_type": "code",
   "execution_count": 12,
   "id": "440dbd96",
   "metadata": {
    "execution": {
     "iopub.execute_input": "2023-07-16T20:01:15.834492Z",
     "iopub.status.busy": "2023-07-16T20:01:15.833713Z",
     "iopub.status.idle": "2023-07-16T20:01:15.856979Z",
     "shell.execute_reply": "2023-07-16T20:01:15.855926Z"
    },
    "papermill": {
     "duration": 0.046418,
     "end_time": "2023-07-16T20:01:15.859685",
     "exception": false,
     "start_time": "2023-07-16T20:01:15.813267",
     "status": "completed"
    },
    "tags": []
   },
   "outputs": [
    {
     "data": {
      "text/html": [
       "<div>\n",
       "<style scoped>\n",
       "    .dataframe tbody tr th:only-of-type {\n",
       "        vertical-align: middle;\n",
       "    }\n",
       "\n",
       "    .dataframe tbody tr th {\n",
       "        vertical-align: top;\n",
       "    }\n",
       "\n",
       "    .dataframe thead th {\n",
       "        text-align: right;\n",
       "    }\n",
       "</style>\n",
       "<table border=\"1\" class=\"dataframe\">\n",
       "  <thead>\n",
       "    <tr style=\"text-align: right;\">\n",
       "      <th></th>\n",
       "      <th>REF</th>\n",
       "      <th>Company (Manufacturer)</th>\n",
       "      <th>Company Location</th>\n",
       "      <th>Review Date</th>\n",
       "      <th>Country of Bean Origin</th>\n",
       "      <th>Specific Bean Origin or Bar Name</th>\n",
       "      <th>Cocoa Percent</th>\n",
       "      <th>Ingredients</th>\n",
       "      <th>Most Memorable Characteristics</th>\n",
       "      <th>Rating</th>\n",
       "    </tr>\n",
       "  </thead>\n",
       "  <tbody>\n",
       "    <tr>\n",
       "      <th>88</th>\n",
       "      <td>1964</td>\n",
       "      <td>Amazing Cacao</td>\n",
       "      <td>Russia</td>\n",
       "      <td>2017</td>\n",
       "      <td>Peru</td>\n",
       "      <td>Maranon</td>\n",
       "      <td>70%</td>\n",
       "      <td>NaN</td>\n",
       "      <td>raisins, pungent</td>\n",
       "      <td>3.00</td>\n",
       "    </tr>\n",
       "    <tr>\n",
       "      <th>89</th>\n",
       "      <td>1964</td>\n",
       "      <td>Amazing Cacao</td>\n",
       "      <td>Russia</td>\n",
       "      <td>2017</td>\n",
       "      <td>Peru</td>\n",
       "      <td>Platan Bajo</td>\n",
       "      <td>70%</td>\n",
       "      <td>NaN</td>\n",
       "      <td>few grits, blackcherry, licorice</td>\n",
       "      <td>3.50</td>\n",
       "    </tr>\n",
       "    <tr>\n",
       "      <th>167</th>\n",
       "      <td>486</td>\n",
       "      <td>Artisan du Chocolat</td>\n",
       "      <td>U.K.</td>\n",
       "      <td>2010</td>\n",
       "      <td>Venezuela</td>\n",
       "      <td>Venezuela</td>\n",
       "      <td>100%</td>\n",
       "      <td>NaN</td>\n",
       "      <td>very nutty, very bitter</td>\n",
       "      <td>1.75</td>\n",
       "    </tr>\n",
       "    <tr>\n",
       "      <th>303</th>\n",
       "      <td>81</td>\n",
       "      <td>Bonnat</td>\n",
       "      <td>France</td>\n",
       "      <td>2006</td>\n",
       "      <td>Blend</td>\n",
       "      <td>One Hundred</td>\n",
       "      <td>100%</td>\n",
       "      <td>NaN</td>\n",
       "      <td>acidic, bitter, dry</td>\n",
       "      <td>1.50</td>\n",
       "    </tr>\n",
       "    <tr>\n",
       "      <th>330</th>\n",
       "      <td>341</td>\n",
       "      <td>Bouga Cacao (Tulicorp)</td>\n",
       "      <td>Ecuador</td>\n",
       "      <td>2009</td>\n",
       "      <td>Ecuador</td>\n",
       "      <td>El Oro, Hacienda de Oro</td>\n",
       "      <td>100%</td>\n",
       "      <td>NaN</td>\n",
       "      <td>cardboard, very bitter, floral</td>\n",
       "      <td>1.50</td>\n",
       "    </tr>\n",
       "    <tr>\n",
       "      <th>...</th>\n",
       "      <td>...</td>\n",
       "      <td>...</td>\n",
       "      <td>...</td>\n",
       "      <td>...</td>\n",
       "      <td>...</td>\n",
       "      <td>...</td>\n",
       "      <td>...</td>\n",
       "      <td>...</td>\n",
       "      <td>...</td>\n",
       "      <td>...</td>\n",
       "    </tr>\n",
       "    <tr>\n",
       "      <th>2478</th>\n",
       "      <td>153</td>\n",
       "      <td>Vintage Plantations (Tulicorp)</td>\n",
       "      <td>U.S.A.</td>\n",
       "      <td>2007</td>\n",
       "      <td>Ecuador</td>\n",
       "      <td>Los Rios, Rancho Grande 2004/2007</td>\n",
       "      <td>100%</td>\n",
       "      <td>NaN</td>\n",
       "      <td>bland, mild fruit, strong bitter</td>\n",
       "      <td>2.00</td>\n",
       "    </tr>\n",
       "    <tr>\n",
       "      <th>2479</th>\n",
       "      <td>153</td>\n",
       "      <td>Vintage Plantations (Tulicorp)</td>\n",
       "      <td>U.S.A.</td>\n",
       "      <td>2007</td>\n",
       "      <td>Ecuador</td>\n",
       "      <td>Los Rios, Rancho Grande 2004/2007</td>\n",
       "      <td>90%</td>\n",
       "      <td>NaN</td>\n",
       "      <td>some fruit, strong bitter</td>\n",
       "      <td>2.00</td>\n",
       "    </tr>\n",
       "    <tr>\n",
       "      <th>2480</th>\n",
       "      <td>153</td>\n",
       "      <td>Vintage Plantations (Tulicorp)</td>\n",
       "      <td>U.S.A.</td>\n",
       "      <td>2007</td>\n",
       "      <td>Ecuador</td>\n",
       "      <td>Los Rios, Rancho Grande 2004/2007</td>\n",
       "      <td>75%</td>\n",
       "      <td>NaN</td>\n",
       "      <td>cocoa,earthy,very astringent</td>\n",
       "      <td>3.00</td>\n",
       "    </tr>\n",
       "    <tr>\n",
       "      <th>2505</th>\n",
       "      <td>733</td>\n",
       "      <td>Whittakers</td>\n",
       "      <td>New Zealand</td>\n",
       "      <td>2011</td>\n",
       "      <td>Ghana</td>\n",
       "      <td>Ghana</td>\n",
       "      <td>72%</td>\n",
       "      <td>NaN</td>\n",
       "      <td>sticky, dry, vanilla dominates</td>\n",
       "      <td>2.50</td>\n",
       "    </tr>\n",
       "    <tr>\n",
       "      <th>2515</th>\n",
       "      <td>1109</td>\n",
       "      <td>Willie's Cacao</td>\n",
       "      <td>U.K.</td>\n",
       "      <td>2013</td>\n",
       "      <td>Indonesia</td>\n",
       "      <td>Java, Indonesian Black</td>\n",
       "      <td>100%</td>\n",
       "      <td>NaN</td>\n",
       "      <td>fruit, strong smoke, bitter</td>\n",
       "      <td>2.25</td>\n",
       "    </tr>\n",
       "  </tbody>\n",
       "</table>\n",
       "<p>87 rows × 10 columns</p>\n",
       "</div>"
      ],
      "text/plain": [
       "       REF          Company (Manufacturer) Company Location  Review Date  \\\n",
       "88    1964                   Amazing Cacao           Russia         2017   \n",
       "89    1964                   Amazing Cacao           Russia         2017   \n",
       "167    486             Artisan du Chocolat             U.K.         2010   \n",
       "303     81                          Bonnat           France         2006   \n",
       "330    341          Bouga Cacao (Tulicorp)          Ecuador         2009   \n",
       "...    ...                             ...              ...          ...   \n",
       "2478   153  Vintage Plantations (Tulicorp)           U.S.A.         2007   \n",
       "2479   153  Vintage Plantations (Tulicorp)           U.S.A.         2007   \n",
       "2480   153  Vintage Plantations (Tulicorp)           U.S.A.         2007   \n",
       "2505   733                      Whittakers      New Zealand         2011   \n",
       "2515  1109                  Willie's Cacao             U.K.         2013   \n",
       "\n",
       "     Country of Bean Origin   Specific Bean Origin or Bar Name Cocoa Percent  \\\n",
       "88                     Peru                            Maranon           70%   \n",
       "89                     Peru                        Platan Bajo           70%   \n",
       "167               Venezuela                          Venezuela          100%   \n",
       "303                   Blend                        One Hundred          100%   \n",
       "330                 Ecuador            El Oro, Hacienda de Oro          100%   \n",
       "...                     ...                                ...           ...   \n",
       "2478                Ecuador  Los Rios, Rancho Grande 2004/2007          100%   \n",
       "2479                Ecuador  Los Rios, Rancho Grande 2004/2007           90%   \n",
       "2480                Ecuador  Los Rios, Rancho Grande 2004/2007           75%   \n",
       "2505                  Ghana                              Ghana           72%   \n",
       "2515              Indonesia             Java, Indonesian Black          100%   \n",
       "\n",
       "     Ingredients    Most Memorable Characteristics  Rating  \n",
       "88           NaN                  raisins, pungent    3.00  \n",
       "89           NaN  few grits, blackcherry, licorice    3.50  \n",
       "167          NaN           very nutty, very bitter    1.75  \n",
       "303          NaN               acidic, bitter, dry    1.50  \n",
       "330          NaN    cardboard, very bitter, floral    1.50  \n",
       "...          ...                               ...     ...  \n",
       "2478         NaN  bland, mild fruit, strong bitter    2.00  \n",
       "2479         NaN         some fruit, strong bitter    2.00  \n",
       "2480         NaN      cocoa,earthy,very astringent    3.00  \n",
       "2505         NaN    sticky, dry, vanilla dominates    2.50  \n",
       "2515         NaN       fruit, strong smoke, bitter    2.25  \n",
       "\n",
       "[87 rows x 10 columns]"
      ]
     },
     "execution_count": 12,
     "metadata": {},
     "output_type": "execute_result"
    }
   ],
   "source": [
    "chocolate_rating_data[chocolate_rating_data['Ingredients'].isna()]"
   ]
  },
  {
   "cell_type": "code",
   "execution_count": 13,
   "id": "3df17083",
   "metadata": {
    "execution": {
     "iopub.execute_input": "2023-07-16T20:01:15.900769Z",
     "iopub.status.busy": "2023-07-16T20:01:15.900359Z",
     "iopub.status.idle": "2023-07-16T20:01:15.913406Z",
     "shell.execute_reply": "2023-07-16T20:01:15.912319Z"
    },
    "papermill": {
     "duration": 0.036576,
     "end_time": "2023-07-16T20:01:15.915751",
     "exception": false,
     "start_time": "2023-07-16T20:01:15.879175",
     "status": "completed"
    },
    "tags": []
   },
   "outputs": [
    {
     "data": {
      "text/plain": [
       "Cocoa Percent\n",
       "70%              32\n",
       "100%             14\n",
       "65%               8\n",
       "72%               8\n",
       "80%               4\n",
       "64%               3\n",
       "75%               3\n",
       "63%               2\n",
       "68%               2\n",
       "60%               2\n",
       "85%               2\n",
       "66%               1\n",
       "55%               1\n",
       "77%               1\n",
       "82%               1\n",
       "88%               1\n",
       "90%               1\n",
       "99%               1\n",
       "dtype: int64"
      ]
     },
     "execution_count": 13,
     "metadata": {},
     "output_type": "execute_result"
    }
   ],
   "source": [
    "chocolate_rating_data.loc[chocolate_rating_data['Ingredients'].isna(), ['Cocoa Percent']].value_counts()"
   ]
  },
  {
   "cell_type": "markdown",
   "id": "8affdb88",
   "metadata": {
    "papermill": {
     "duration": 0.019784,
     "end_time": "2023-07-16T20:01:15.955323",
     "exception": false,
     "start_time": "2023-07-16T20:01:15.935539",
     "status": "completed"
    },
    "tags": []
   },
   "source": [
    "Since there is only a few missing values in Ingredients, we are goind just to remove these entries"
   ]
  },
  {
   "cell_type": "code",
   "execution_count": 14,
   "id": "e1d21c3f",
   "metadata": {
    "execution": {
     "iopub.execute_input": "2023-07-16T20:01:15.997263Z",
     "iopub.status.busy": "2023-07-16T20:01:15.996194Z",
     "iopub.status.idle": "2023-07-16T20:01:16.005757Z",
     "shell.execute_reply": "2023-07-16T20:01:16.004529Z"
    },
    "papermill": {
     "duration": 0.033293,
     "end_time": "2023-07-16T20:01:16.008465",
     "exception": false,
     "start_time": "2023-07-16T20:01:15.975172",
     "status": "completed"
    },
    "tags": []
   },
   "outputs": [],
   "source": [
    "chocolate_rating_data = chocolate_rating_data.dropna(axis=0, subset='Ingredients')"
   ]
  },
  {
   "cell_type": "code",
   "execution_count": 15,
   "id": "e6d5410c",
   "metadata": {
    "execution": {
     "iopub.execute_input": "2023-07-16T20:01:16.052122Z",
     "iopub.status.busy": "2023-07-16T20:01:16.051376Z",
     "iopub.status.idle": "2023-07-16T20:01:16.061517Z",
     "shell.execute_reply": "2023-07-16T20:01:16.060663Z"
    },
    "papermill": {
     "duration": 0.035302,
     "end_time": "2023-07-16T20:01:16.063627",
     "exception": false,
     "start_time": "2023-07-16T20:01:16.028325",
     "status": "completed"
    },
    "tags": []
   },
   "outputs": [
    {
     "data": {
      "text/plain": [
       "spicy, cocoa                         4\n",
       "creamy, nutty, cocoa                 4\n",
       "sweet, vanilla, cocoa                3\n",
       "sandy, sweet, cocoa                  3\n",
       "sweet, marshmallow                   3\n",
       "                                    ..\n",
       "roasty, hammy, sour                  1\n",
       "dried fruit, raisiny, mild roast     1\n",
       "fatty, floral, rum, roasty           1\n",
       "dominate roast, fruit then earthy    1\n",
       "muted, roasty, accessible            1\n",
       "Name: Most Memorable Characteristics, Length: 2461, dtype: int64"
      ]
     },
     "execution_count": 15,
     "metadata": {},
     "output_type": "execute_result"
    }
   ],
   "source": [
    "chocolate_rating_data['Most Memorable Characteristics'].value_counts()"
   ]
  },
  {
   "cell_type": "markdown",
   "id": "b28f5a9f",
   "metadata": {
    "papermill": {
     "duration": 0.019652,
     "end_time": "2023-07-16T20:01:16.103547",
     "exception": false,
     "start_time": "2023-07-16T20:01:16.083895",
     "status": "completed"
    },
    "tags": []
   },
   "source": [
    "The entire dataset seems to be clean and consistent."
   ]
  },
  {
   "cell_type": "markdown",
   "id": "9fb8be11",
   "metadata": {
    "papermill": {
     "duration": 0.020001,
     "end_time": "2023-07-16T20:01:16.143509",
     "exception": false,
     "start_time": "2023-07-16T20:01:16.123508",
     "status": "completed"
    },
    "tags": []
   },
   "source": [
    "## Formatting data"
   ]
  },
  {
   "cell_type": "markdown",
   "id": "47c49162",
   "metadata": {
    "papermill": {
     "duration": 0.019899,
     "end_time": "2023-07-16T20:01:16.183375",
     "exception": false,
     "start_time": "2023-07-16T20:01:16.163476",
     "status": "completed"
    },
    "tags": []
   },
   "source": [
    "### Turning Cocoa percent numeric"
   ]
  },
  {
   "cell_type": "code",
   "execution_count": 16,
   "id": "5952ec58",
   "metadata": {
    "execution": {
     "iopub.execute_input": "2023-07-16T20:01:16.225364Z",
     "iopub.status.busy": "2023-07-16T20:01:16.224636Z",
     "iopub.status.idle": "2023-07-16T20:01:16.232260Z",
     "shell.execute_reply": "2023-07-16T20:01:16.231441Z"
    },
    "papermill": {
     "duration": 0.0312,
     "end_time": "2023-07-16T20:01:16.234441",
     "exception": false,
     "start_time": "2023-07-16T20:01:16.203241",
     "status": "completed"
    },
    "tags": []
   },
   "outputs": [
    {
     "data": {
      "text/plain": [
       "0       76%\n",
       "1       76%\n",
       "2       76%\n",
       "3       68%\n",
       "4       68%\n",
       "       ... \n",
       "2583    80%\n",
       "2584    75%\n",
       "2585    75%\n",
       "2586    70%\n",
       "2587    72%\n",
       "Name: Cocoa Percent, Length: 2501, dtype: object"
      ]
     },
     "execution_count": 16,
     "metadata": {},
     "output_type": "execute_result"
    }
   ],
   "source": [
    "chocolate_rating_data['Cocoa Percent']"
   ]
  },
  {
   "cell_type": "code",
   "execution_count": 17,
   "id": "22dd2332",
   "metadata": {
    "execution": {
     "iopub.execute_input": "2023-07-16T20:01:16.276884Z",
     "iopub.status.busy": "2023-07-16T20:01:16.276482Z",
     "iopub.status.idle": "2023-07-16T20:01:16.285631Z",
     "shell.execute_reply": "2023-07-16T20:01:16.284791Z"
    },
    "papermill": {
     "duration": 0.032944,
     "end_time": "2023-07-16T20:01:16.287831",
     "exception": false,
     "start_time": "2023-07-16T20:01:16.254887",
     "status": "completed"
    },
    "tags": []
   },
   "outputs": [
    {
     "data": {
      "text/plain": [
       "70%       1038\n",
       "75%        309\n",
       "72%        301\n",
       "80%         86\n",
       "65%         85\n",
       "68%         73\n",
       "74%         69\n",
       "73%         67\n",
       "71%         44\n",
       "60%         44\n",
       "77%         42\n",
       "85%         38\n",
       "67%         35\n",
       "76%         35\n",
       "64%         34\n",
       "66%         27\n",
       "78%         22\n",
       "82%         17\n",
       "62%         16\n",
       "55%         15\n",
       "69%         13\n",
       "63%         13\n",
       "58%          8\n",
       "90%          8\n",
       "61%          7\n",
       "100%         7\n",
       "88%          7\n",
       "81%          6\n",
       "83%          5\n",
       "84%          4\n",
       "72.50%       4\n",
       "91%          3\n",
       "73.50%       2\n",
       "79%          2\n",
       "71.50%       2\n",
       "89%          2\n",
       "56%          2\n",
       "46%          1\n",
       "53%          1\n",
       "99%          1\n",
       "86%          1\n",
       "57%          1\n",
       "60.50%       1\n",
       "42%          1\n",
       "50%          1\n",
       "87%          1\n",
       "Name: Cocoa Percent, dtype: int64"
      ]
     },
     "execution_count": 17,
     "metadata": {},
     "output_type": "execute_result"
    }
   ],
   "source": [
    "chocolate_rating_data['Cocoa Percent'].value_counts()"
   ]
  },
  {
   "cell_type": "code",
   "execution_count": 18,
   "id": "cc70f432",
   "metadata": {
    "execution": {
     "iopub.execute_input": "2023-07-16T20:01:16.330957Z",
     "iopub.status.busy": "2023-07-16T20:01:16.330265Z",
     "iopub.status.idle": "2023-07-16T20:01:16.345910Z",
     "shell.execute_reply": "2023-07-16T20:01:16.344678Z"
    },
    "papermill": {
     "duration": 0.040042,
     "end_time": "2023-07-16T20:01:16.348608",
     "exception": false,
     "start_time": "2023-07-16T20:01:16.308566",
     "status": "completed"
    },
    "tags": []
   },
   "outputs": [
    {
     "data": {
      "text/plain": [
       "0       76.0\n",
       "1       76.0\n",
       "2       76.0\n",
       "3       68.0\n",
       "4       68.0\n",
       "        ... \n",
       "2583    80.0\n",
       "2584    75.0\n",
       "2585    75.0\n",
       "2586    70.0\n",
       "2587    72.0\n",
       "Name: Cocoa Percent, Length: 2501, dtype: float64"
      ]
     },
     "execution_count": 18,
     "metadata": {},
     "output_type": "execute_result"
    }
   ],
   "source": [
    "# all of the percentages ends with %, so we can do\n",
    "chocolate_rating_data['Cocoa Percent'] = pd.to_numeric(chocolate_rating_data['Cocoa Percent'].str[:-1])\n",
    "chocolate_rating_data['Cocoa Percent']"
   ]
  },
  {
   "cell_type": "markdown",
   "id": "3009b1a1",
   "metadata": {
    "papermill": {
     "duration": 0.020285,
     "end_time": "2023-07-16T20:01:16.389466",
     "exception": false,
     "start_time": "2023-07-16T20:01:16.369181",
     "status": "completed"
    },
    "tags": []
   },
   "source": [
    "### Dividing the ingredients column"
   ]
  },
  {
   "cell_type": "code",
   "execution_count": 19,
   "id": "b5dd7997",
   "metadata": {
    "execution": {
     "iopub.execute_input": "2023-07-16T20:01:16.432725Z",
     "iopub.status.busy": "2023-07-16T20:01:16.431601Z",
     "iopub.status.idle": "2023-07-16T20:01:16.440474Z",
     "shell.execute_reply": "2023-07-16T20:01:16.439447Z"
    },
    "papermill": {
     "duration": 0.033035,
     "end_time": "2023-07-16T20:01:16.442904",
     "exception": false,
     "start_time": "2023-07-16T20:01:16.409869",
     "status": "completed"
    },
    "tags": []
   },
   "outputs": [
    {
     "data": {
      "text/plain": [
       "3- B,S,C          1029\n",
       "2- B,S             738\n",
       "4- B,S,C,L         293\n",
       "5- B,S,C,V,L       184\n",
       "4- B,S,C,V         141\n",
       "2- B,S*             31\n",
       "4- B,S*,C,Sa        20\n",
       "3- B,S*,C           13\n",
       "3- B,S,L             8\n",
       "4- B,S*,C,V          7\n",
       "1- B                 6\n",
       "5-B,S,C,V,Sa         6\n",
       "4- B,S,V,L           5\n",
       "4- B,S,C,Sa          5\n",
       "6-B,S,C,V,L,Sa       4\n",
       "3- B,S,V             3\n",
       "4- B,S*,V,L          3\n",
       "4- B,S*,C,L          2\n",
       "3- B,S*,Sa           1\n",
       "2- B,C               1\n",
       "5- B,S,C,L,Sa        1\n",
       "Name: Ingredients, dtype: int64"
      ]
     },
     "execution_count": 19,
     "metadata": {},
     "output_type": "execute_result"
    }
   ],
   "source": [
    "chocolate_rating_data['Ingredients'].value_counts()"
   ]
  },
  {
   "cell_type": "markdown",
   "id": "115e8f5b",
   "metadata": {
    "papermill": {
     "duration": 0.020315,
     "end_time": "2023-07-16T20:01:16.483872",
     "exception": false,
     "start_time": "2023-07-16T20:01:16.463557",
     "status": "completed"
    },
    "tags": []
   },
   "source": [
    "Here, we can see that all bars have beans as a ingredient, so we going to create boolean columns that inform the presence of other ingredients"
   ]
  },
  {
   "cell_type": "code",
   "execution_count": 20,
   "id": "ae6e0503",
   "metadata": {
    "execution": {
     "iopub.execute_input": "2023-07-16T20:01:16.527180Z",
     "iopub.status.busy": "2023-07-16T20:01:16.526790Z",
     "iopub.status.idle": "2023-07-16T20:01:16.573929Z",
     "shell.execute_reply": "2023-07-16T20:01:16.572834Z"
    },
    "papermill": {
     "duration": 0.071887,
     "end_time": "2023-07-16T20:01:16.576262",
     "exception": false,
     "start_time": "2023-07-16T20:01:16.504375",
     "status": "completed"
    },
    "tags": []
   },
   "outputs": [
    {
     "data": {
      "text/html": [
       "<div>\n",
       "<style scoped>\n",
       "    .dataframe tbody tr th:only-of-type {\n",
       "        vertical-align: middle;\n",
       "    }\n",
       "\n",
       "    .dataframe tbody tr th {\n",
       "        vertical-align: top;\n",
       "    }\n",
       "\n",
       "    .dataframe thead th {\n",
       "        text-align: right;\n",
       "    }\n",
       "</style>\n",
       "<table border=\"1\" class=\"dataframe\">\n",
       "  <thead>\n",
       "    <tr style=\"text-align: right;\">\n",
       "      <th></th>\n",
       "      <th>sugar</th>\n",
       "      <th>sweetener</th>\n",
       "      <th>cocoa butter</th>\n",
       "      <th>vanilla</th>\n",
       "      <th>salt</th>\n",
       "    </tr>\n",
       "    <tr>\n",
       "      <th>Ingredients</th>\n",
       "      <th></th>\n",
       "      <th></th>\n",
       "      <th></th>\n",
       "      <th></th>\n",
       "      <th></th>\n",
       "    </tr>\n",
       "  </thead>\n",
       "  <tbody>\n",
       "    <tr>\n",
       "      <th>1- B</th>\n",
       "      <td>False</td>\n",
       "      <td>False</td>\n",
       "      <td>False</td>\n",
       "      <td>False</td>\n",
       "      <td>False</td>\n",
       "    </tr>\n",
       "    <tr>\n",
       "      <th>2- B,C</th>\n",
       "      <td>False</td>\n",
       "      <td>False</td>\n",
       "      <td>True</td>\n",
       "      <td>False</td>\n",
       "      <td>False</td>\n",
       "    </tr>\n",
       "    <tr>\n",
       "      <th>2- B,S</th>\n",
       "      <td>True</td>\n",
       "      <td>False</td>\n",
       "      <td>False</td>\n",
       "      <td>False</td>\n",
       "      <td>False</td>\n",
       "    </tr>\n",
       "    <tr>\n",
       "      <th>2- B,S*</th>\n",
       "      <td>False</td>\n",
       "      <td>True</td>\n",
       "      <td>False</td>\n",
       "      <td>False</td>\n",
       "      <td>False</td>\n",
       "    </tr>\n",
       "    <tr>\n",
       "      <th>3- B,S*,C</th>\n",
       "      <td>False</td>\n",
       "      <td>True</td>\n",
       "      <td>True</td>\n",
       "      <td>False</td>\n",
       "      <td>False</td>\n",
       "    </tr>\n",
       "    <tr>\n",
       "      <th>3- B,S*,Sa</th>\n",
       "      <td>False</td>\n",
       "      <td>True</td>\n",
       "      <td>False</td>\n",
       "      <td>False</td>\n",
       "      <td>True</td>\n",
       "    </tr>\n",
       "    <tr>\n",
       "      <th>3- B,S,C</th>\n",
       "      <td>True</td>\n",
       "      <td>False</td>\n",
       "      <td>True</td>\n",
       "      <td>False</td>\n",
       "      <td>False</td>\n",
       "    </tr>\n",
       "    <tr>\n",
       "      <th>3- B,S,L</th>\n",
       "      <td>True</td>\n",
       "      <td>False</td>\n",
       "      <td>False</td>\n",
       "      <td>False</td>\n",
       "      <td>False</td>\n",
       "    </tr>\n",
       "    <tr>\n",
       "      <th>3- B,S,V</th>\n",
       "      <td>True</td>\n",
       "      <td>False</td>\n",
       "      <td>False</td>\n",
       "      <td>True</td>\n",
       "      <td>False</td>\n",
       "    </tr>\n",
       "    <tr>\n",
       "      <th>4- B,S*,C,L</th>\n",
       "      <td>False</td>\n",
       "      <td>True</td>\n",
       "      <td>True</td>\n",
       "      <td>False</td>\n",
       "      <td>False</td>\n",
       "    </tr>\n",
       "    <tr>\n",
       "      <th>4- B,S*,C,Sa</th>\n",
       "      <td>False</td>\n",
       "      <td>True</td>\n",
       "      <td>True</td>\n",
       "      <td>False</td>\n",
       "      <td>True</td>\n",
       "    </tr>\n",
       "    <tr>\n",
       "      <th>4- B,S*,C,V</th>\n",
       "      <td>False</td>\n",
       "      <td>True</td>\n",
       "      <td>True</td>\n",
       "      <td>True</td>\n",
       "      <td>False</td>\n",
       "    </tr>\n",
       "    <tr>\n",
       "      <th>4- B,S*,V,L</th>\n",
       "      <td>False</td>\n",
       "      <td>True</td>\n",
       "      <td>False</td>\n",
       "      <td>True</td>\n",
       "      <td>False</td>\n",
       "    </tr>\n",
       "    <tr>\n",
       "      <th>4- B,S,C,L</th>\n",
       "      <td>True</td>\n",
       "      <td>False</td>\n",
       "      <td>True</td>\n",
       "      <td>False</td>\n",
       "      <td>False</td>\n",
       "    </tr>\n",
       "    <tr>\n",
       "      <th>4- B,S,C,Sa</th>\n",
       "      <td>True</td>\n",
       "      <td>False</td>\n",
       "      <td>True</td>\n",
       "      <td>False</td>\n",
       "      <td>True</td>\n",
       "    </tr>\n",
       "    <tr>\n",
       "      <th>4- B,S,C,V</th>\n",
       "      <td>True</td>\n",
       "      <td>False</td>\n",
       "      <td>True</td>\n",
       "      <td>True</td>\n",
       "      <td>False</td>\n",
       "    </tr>\n",
       "    <tr>\n",
       "      <th>4- B,S,V,L</th>\n",
       "      <td>True</td>\n",
       "      <td>False</td>\n",
       "      <td>False</td>\n",
       "      <td>True</td>\n",
       "      <td>False</td>\n",
       "    </tr>\n",
       "    <tr>\n",
       "      <th>5- B,S,C,L,Sa</th>\n",
       "      <td>True</td>\n",
       "      <td>False</td>\n",
       "      <td>True</td>\n",
       "      <td>False</td>\n",
       "      <td>True</td>\n",
       "    </tr>\n",
       "    <tr>\n",
       "      <th>5- B,S,C,V,L</th>\n",
       "      <td>True</td>\n",
       "      <td>False</td>\n",
       "      <td>True</td>\n",
       "      <td>True</td>\n",
       "      <td>False</td>\n",
       "    </tr>\n",
       "    <tr>\n",
       "      <th>5-B,S,C,V,Sa</th>\n",
       "      <td>True</td>\n",
       "      <td>False</td>\n",
       "      <td>True</td>\n",
       "      <td>True</td>\n",
       "      <td>True</td>\n",
       "    </tr>\n",
       "    <tr>\n",
       "      <th>6-B,S,C,V,L,Sa</th>\n",
       "      <td>True</td>\n",
       "      <td>False</td>\n",
       "      <td>True</td>\n",
       "      <td>True</td>\n",
       "      <td>True</td>\n",
       "    </tr>\n",
       "  </tbody>\n",
       "</table>\n",
       "</div>"
      ],
      "text/plain": [
       "                sugar  sweetener  cocoa butter  vanilla   salt\n",
       "Ingredients                                                   \n",
       "1- B            False      False         False    False  False\n",
       "2- B,C          False      False          True    False  False\n",
       "2- B,S           True      False         False    False  False\n",
       "2- B,S*         False       True         False    False  False\n",
       "3- B,S*,C       False       True          True    False  False\n",
       "3- B,S*,Sa      False       True         False    False   True\n",
       "3- B,S,C         True      False          True    False  False\n",
       "3- B,S,L         True      False         False    False  False\n",
       "3- B,S,V         True      False         False     True  False\n",
       "4- B,S*,C,L     False       True          True    False  False\n",
       "4- B,S*,C,Sa    False       True          True    False   True\n",
       "4- B,S*,C,V     False       True          True     True  False\n",
       "4- B,S*,V,L     False       True         False     True  False\n",
       "4- B,S,C,L       True      False          True    False  False\n",
       "4- B,S,C,Sa      True      False          True    False   True\n",
       "4- B,S,C,V       True      False          True     True  False\n",
       "4- B,S,V,L       True      False         False     True  False\n",
       "5- B,S,C,L,Sa    True      False          True    False   True\n",
       "5- B,S,C,V,L     True      False          True     True  False\n",
       "5-B,S,C,V,Sa     True      False          True     True   True\n",
       "6-B,S,C,V,L,Sa   True      False          True     True   True"
      ]
     },
     "execution_count": 20,
     "metadata": {},
     "output_type": "execute_result"
    }
   ],
   "source": [
    "def create_ingredient_column(chocolate_rating_data, ing_abr, ing_name):\n",
    "    \"\"\"Create a new boolean column ing_name, informing if the ingredient is present\"\"\"\n",
    "    \n",
    "    # the regex=False is necessary because of the sweetener abbreviation (S*)\n",
    "    # the first part checks if the ingredient is inside of the list, the second part covers the\n",
    "    # case where the ingredient is the last element\n",
    "    chocolate_rating_data[ing_name] = chocolate_rating_data['Ingredients'].str.contains(',' + ing_abr + ',', regex=False) \\\n",
    "                                    | chocolate_rating_data['Ingredients'].str.endswith(ing_abr)\n",
    "    \n",
    "\n",
    "ingredients = [\n",
    "    ['S', 'sugar'],\n",
    "    ['S*', 'sweetener'],\n",
    "    ['C', 'cocoa butter'],\n",
    "    ['V', 'vanilla'],\n",
    "    ['Sa', 'salt']\n",
    "]\n",
    "\n",
    "for ingredient in ingredients:\n",
    "    create_ingredient_column(chocolate_rating_data, ingredient[0], ingredient[1])\n",
    "    \n",
    "chocolate_rating_data[['Ingredients', 'sugar', 'sweetener', 'cocoa butter', 'vanilla', 'salt']].groupby('Ingredients').first()"
   ]
  },
  {
   "cell_type": "code",
   "execution_count": 21,
   "id": "2ebbd3a5",
   "metadata": {
    "execution": {
     "iopub.execute_input": "2023-07-16T20:01:16.620326Z",
     "iopub.status.busy": "2023-07-16T20:01:16.619933Z",
     "iopub.status.idle": "2023-07-16T20:01:16.630114Z",
     "shell.execute_reply": "2023-07-16T20:01:16.629301Z"
    },
    "papermill": {
     "duration": 0.03447,
     "end_time": "2023-07-16T20:01:16.632122",
     "exception": false,
     "start_time": "2023-07-16T20:01:16.597652",
     "status": "completed"
    },
    "tags": []
   },
   "outputs": [
    {
     "data": {
      "text/plain": [
       "False    2501\n",
       "dtype: int64"
      ]
     },
     "execution_count": 21,
     "metadata": {},
     "output_type": "execute_result"
    }
   ],
   "source": [
    "(chocolate_rating_data['sugar'] & chocolate_rating_data['sweetener']).value_counts()"
   ]
  },
  {
   "cell_type": "markdown",
   "id": "47281c25",
   "metadata": {
    "papermill": {
     "duration": 0.021877,
     "end_time": "2023-07-16T20:01:16.675577",
     "exception": false,
     "start_time": "2023-07-16T20:01:16.653700",
     "status": "completed"
    },
    "tags": []
   },
   "source": [
    "We can see that in the database, a chocolate is sweetened with sugar or sweetener, but never with both."
   ]
  },
  {
   "cell_type": "code",
   "execution_count": 22,
   "id": "f361ae46",
   "metadata": {
    "execution": {
     "iopub.execute_input": "2023-07-16T20:01:16.721224Z",
     "iopub.status.busy": "2023-07-16T20:01:16.720488Z",
     "iopub.status.idle": "2023-07-16T20:01:16.742576Z",
     "shell.execute_reply": "2023-07-16T20:01:16.741753Z"
    },
    "papermill": {
     "duration": 0.047145,
     "end_time": "2023-07-16T20:01:16.744684",
     "exception": false,
     "start_time": "2023-07-16T20:01:16.697539",
     "status": "completed"
    },
    "tags": []
   },
   "outputs": [
    {
     "data": {
      "text/html": [
       "<div>\n",
       "<style scoped>\n",
       "    .dataframe tbody tr th:only-of-type {\n",
       "        vertical-align: middle;\n",
       "    }\n",
       "\n",
       "    .dataframe tbody tr th {\n",
       "        vertical-align: top;\n",
       "    }\n",
       "\n",
       "    .dataframe thead th {\n",
       "        text-align: right;\n",
       "    }\n",
       "</style>\n",
       "<table border=\"1\" class=\"dataframe\">\n",
       "  <thead>\n",
       "    <tr style=\"text-align: right;\">\n",
       "      <th></th>\n",
       "      <th>Sweetened by</th>\n",
       "    </tr>\n",
       "    <tr>\n",
       "      <th>Ingredients</th>\n",
       "      <th></th>\n",
       "    </tr>\n",
       "  </thead>\n",
       "  <tbody>\n",
       "    <tr>\n",
       "      <th>1- B</th>\n",
       "      <td>nothing</td>\n",
       "    </tr>\n",
       "    <tr>\n",
       "      <th>2- B,C</th>\n",
       "      <td>nothing</td>\n",
       "    </tr>\n",
       "    <tr>\n",
       "      <th>2- B,S</th>\n",
       "      <td>sugar</td>\n",
       "    </tr>\n",
       "    <tr>\n",
       "      <th>2- B,S*</th>\n",
       "      <td>sweetener</td>\n",
       "    </tr>\n",
       "    <tr>\n",
       "      <th>3- B,S*,C</th>\n",
       "      <td>sweetener</td>\n",
       "    </tr>\n",
       "    <tr>\n",
       "      <th>3- B,S*,Sa</th>\n",
       "      <td>sweetener</td>\n",
       "    </tr>\n",
       "    <tr>\n",
       "      <th>3- B,S,C</th>\n",
       "      <td>sugar</td>\n",
       "    </tr>\n",
       "    <tr>\n",
       "      <th>3- B,S,L</th>\n",
       "      <td>sugar</td>\n",
       "    </tr>\n",
       "    <tr>\n",
       "      <th>3- B,S,V</th>\n",
       "      <td>sugar</td>\n",
       "    </tr>\n",
       "    <tr>\n",
       "      <th>4- B,S*,C,L</th>\n",
       "      <td>sweetener</td>\n",
       "    </tr>\n",
       "    <tr>\n",
       "      <th>4- B,S*,C,Sa</th>\n",
       "      <td>sweetener</td>\n",
       "    </tr>\n",
       "    <tr>\n",
       "      <th>4- B,S*,C,V</th>\n",
       "      <td>sweetener</td>\n",
       "    </tr>\n",
       "    <tr>\n",
       "      <th>4- B,S*,V,L</th>\n",
       "      <td>sweetener</td>\n",
       "    </tr>\n",
       "    <tr>\n",
       "      <th>4- B,S,C,L</th>\n",
       "      <td>sugar</td>\n",
       "    </tr>\n",
       "    <tr>\n",
       "      <th>4- B,S,C,Sa</th>\n",
       "      <td>sugar</td>\n",
       "    </tr>\n",
       "    <tr>\n",
       "      <th>4- B,S,C,V</th>\n",
       "      <td>sugar</td>\n",
       "    </tr>\n",
       "    <tr>\n",
       "      <th>4- B,S,V,L</th>\n",
       "      <td>sugar</td>\n",
       "    </tr>\n",
       "    <tr>\n",
       "      <th>5- B,S,C,L,Sa</th>\n",
       "      <td>sugar</td>\n",
       "    </tr>\n",
       "    <tr>\n",
       "      <th>5- B,S,C,V,L</th>\n",
       "      <td>sugar</td>\n",
       "    </tr>\n",
       "    <tr>\n",
       "      <th>5-B,S,C,V,Sa</th>\n",
       "      <td>sugar</td>\n",
       "    </tr>\n",
       "    <tr>\n",
       "      <th>6-B,S,C,V,L,Sa</th>\n",
       "      <td>sugar</td>\n",
       "    </tr>\n",
       "  </tbody>\n",
       "</table>\n",
       "</div>"
      ],
      "text/plain": [
       "               Sweetened by\n",
       "Ingredients                \n",
       "1- B                nothing\n",
       "2- B,C              nothing\n",
       "2- B,S                sugar\n",
       "2- B,S*           sweetener\n",
       "3- B,S*,C         sweetener\n",
       "3- B,S*,Sa        sweetener\n",
       "3- B,S,C              sugar\n",
       "3- B,S,L              sugar\n",
       "3- B,S,V              sugar\n",
       "4- B,S*,C,L       sweetener\n",
       "4- B,S*,C,Sa      sweetener\n",
       "4- B,S*,C,V       sweetener\n",
       "4- B,S*,V,L       sweetener\n",
       "4- B,S,C,L            sugar\n",
       "4- B,S,C,Sa           sugar\n",
       "4- B,S,C,V            sugar\n",
       "4- B,S,V,L            sugar\n",
       "5- B,S,C,L,Sa         sugar\n",
       "5- B,S,C,V,L          sugar\n",
       "5-B,S,C,V,Sa          sugar\n",
       "6-B,S,C,V,L,Sa        sugar"
      ]
     },
     "execution_count": 22,
     "metadata": {},
     "output_type": "execute_result"
    }
   ],
   "source": [
    "# we will create a column informing how the chocolate was sweetened\n",
    "chocolate_rating_data['Sweetened by'] = 'nothing'\n",
    "chocolate_rating_data.loc[chocolate_rating_data['sugar'], ['Sweetened by']] = 'sugar'\n",
    "chocolate_rating_data.loc[chocolate_rating_data['sweetener'], ['Sweetened by']] = 'sweetener'\n",
    "\n",
    "# so we don't need more these columns\n",
    "chocolate_rating_data = chocolate_rating_data.drop(columns=['sugar', 'sweetener'])\n",
    "\n",
    "chocolate_rating_data[['Ingredients', 'Sweetened by']].groupby('Ingredients').first()"
   ]
  },
  {
   "cell_type": "code",
   "execution_count": 23,
   "id": "1dbdeb6b",
   "metadata": {
    "execution": {
     "iopub.execute_input": "2023-07-16T20:01:16.789708Z",
     "iopub.status.busy": "2023-07-16T20:01:16.789270Z",
     "iopub.status.idle": "2023-07-16T20:01:16.810041Z",
     "shell.execute_reply": "2023-07-16T20:01:16.808920Z"
    },
    "papermill": {
     "duration": 0.046301,
     "end_time": "2023-07-16T20:01:16.812447",
     "exception": false,
     "start_time": "2023-07-16T20:01:16.766146",
     "status": "completed"
    },
    "tags": []
   },
   "outputs": [
    {
     "data": {
      "text/html": [
       "<div>\n",
       "<style scoped>\n",
       "    .dataframe tbody tr th:only-of-type {\n",
       "        vertical-align: middle;\n",
       "    }\n",
       "\n",
       "    .dataframe tbody tr th {\n",
       "        vertical-align: top;\n",
       "    }\n",
       "\n",
       "    .dataframe thead th {\n",
       "        text-align: right;\n",
       "    }\n",
       "</style>\n",
       "<table border=\"1\" class=\"dataframe\">\n",
       "  <thead>\n",
       "    <tr style=\"text-align: right;\">\n",
       "      <th></th>\n",
       "      <th>N of ingredients</th>\n",
       "    </tr>\n",
       "    <tr>\n",
       "      <th>Ingredients</th>\n",
       "      <th></th>\n",
       "    </tr>\n",
       "  </thead>\n",
       "  <tbody>\n",
       "    <tr>\n",
       "      <th>1- B</th>\n",
       "      <td>1</td>\n",
       "    </tr>\n",
       "    <tr>\n",
       "      <th>2- B,C</th>\n",
       "      <td>2</td>\n",
       "    </tr>\n",
       "    <tr>\n",
       "      <th>2- B,S</th>\n",
       "      <td>2</td>\n",
       "    </tr>\n",
       "    <tr>\n",
       "      <th>2- B,S*</th>\n",
       "      <td>2</td>\n",
       "    </tr>\n",
       "    <tr>\n",
       "      <th>3- B,S*,C</th>\n",
       "      <td>3</td>\n",
       "    </tr>\n",
       "    <tr>\n",
       "      <th>3- B,S*,Sa</th>\n",
       "      <td>3</td>\n",
       "    </tr>\n",
       "    <tr>\n",
       "      <th>3- B,S,C</th>\n",
       "      <td>3</td>\n",
       "    </tr>\n",
       "    <tr>\n",
       "      <th>3- B,S,L</th>\n",
       "      <td>3</td>\n",
       "    </tr>\n",
       "    <tr>\n",
       "      <th>3- B,S,V</th>\n",
       "      <td>3</td>\n",
       "    </tr>\n",
       "    <tr>\n",
       "      <th>4- B,S*,C,L</th>\n",
       "      <td>4</td>\n",
       "    </tr>\n",
       "    <tr>\n",
       "      <th>4- B,S*,C,Sa</th>\n",
       "      <td>4</td>\n",
       "    </tr>\n",
       "    <tr>\n",
       "      <th>4- B,S*,C,V</th>\n",
       "      <td>4</td>\n",
       "    </tr>\n",
       "    <tr>\n",
       "      <th>4- B,S*,V,L</th>\n",
       "      <td>4</td>\n",
       "    </tr>\n",
       "    <tr>\n",
       "      <th>4- B,S,C,L</th>\n",
       "      <td>4</td>\n",
       "    </tr>\n",
       "    <tr>\n",
       "      <th>4- B,S,C,Sa</th>\n",
       "      <td>4</td>\n",
       "    </tr>\n",
       "    <tr>\n",
       "      <th>4- B,S,C,V</th>\n",
       "      <td>4</td>\n",
       "    </tr>\n",
       "    <tr>\n",
       "      <th>4- B,S,V,L</th>\n",
       "      <td>4</td>\n",
       "    </tr>\n",
       "    <tr>\n",
       "      <th>5- B,S,C,L,Sa</th>\n",
       "      <td>5</td>\n",
       "    </tr>\n",
       "    <tr>\n",
       "      <th>5- B,S,C,V,L</th>\n",
       "      <td>5</td>\n",
       "    </tr>\n",
       "    <tr>\n",
       "      <th>5-B,S,C,V,Sa</th>\n",
       "      <td>5</td>\n",
       "    </tr>\n",
       "    <tr>\n",
       "      <th>6-B,S,C,V,L,Sa</th>\n",
       "      <td>6</td>\n",
       "    </tr>\n",
       "  </tbody>\n",
       "</table>\n",
       "</div>"
      ],
      "text/plain": [
       "                N of ingredients\n",
       "Ingredients                     \n",
       "1- B                           1\n",
       "2- B,C                         2\n",
       "2- B,S                         2\n",
       "2- B,S*                        2\n",
       "3- B,S*,C                      3\n",
       "3- B,S*,Sa                     3\n",
       "3- B,S,C                       3\n",
       "3- B,S,L                       3\n",
       "3- B,S,V                       3\n",
       "4- B,S*,C,L                    4\n",
       "4- B,S*,C,Sa                   4\n",
       "4- B,S*,C,V                    4\n",
       "4- B,S*,V,L                    4\n",
       "4- B,S,C,L                     4\n",
       "4- B,S,C,Sa                    4\n",
       "4- B,S,C,V                     4\n",
       "4- B,S,V,L                     4\n",
       "5- B,S,C,L,Sa                  5\n",
       "5- B,S,C,V,L                   5\n",
       "5-B,S,C,V,Sa                   5\n",
       "6-B,S,C,V,L,Sa                 6"
      ]
     },
     "execution_count": 23,
     "metadata": {},
     "output_type": "execute_result"
    }
   ],
   "source": [
    "# Last, we obtain the number of ingredients\n",
    "chocolate_rating_data['N of ingredients'] = pd.to_numeric(chocolate_rating_data['Ingredients'].str[0])\n",
    "chocolate_rating_data[['Ingredients', 'N of ingredients']].groupby('Ingredients').first()"
   ]
  },
  {
   "cell_type": "markdown",
   "id": "be94b7ef",
   "metadata": {
    "execution": {
     "iopub.execute_input": "2023-07-16T19:09:48.843214Z",
     "iopub.status.busy": "2023-07-16T19:09:48.842784Z",
     "iopub.status.idle": "2023-07-16T19:09:48.848150Z",
     "shell.execute_reply": "2023-07-16T19:09:48.846925Z",
     "shell.execute_reply.started": "2023-07-16T19:09:48.843182Z"
    },
    "papermill": {
     "duration": 0.021818,
     "end_time": "2023-07-16T20:01:16.856202",
     "exception": false,
     "start_time": "2023-07-16T20:01:16.834384",
     "status": "completed"
    },
    "tags": []
   },
   "source": [
    "### Memorable characteristics division"
   ]
  },
  {
   "cell_type": "code",
   "execution_count": 24,
   "id": "f650a4b8",
   "metadata": {
    "execution": {
     "iopub.execute_input": "2023-07-16T20:01:16.902293Z",
     "iopub.status.busy": "2023-07-16T20:01:16.901879Z",
     "iopub.status.idle": "2023-07-16T20:01:16.910777Z",
     "shell.execute_reply": "2023-07-16T20:01:16.909502Z"
    },
    "papermill": {
     "duration": 0.034431,
     "end_time": "2023-07-16T20:01:16.913136",
     "exception": false,
     "start_time": "2023-07-16T20:01:16.878705",
     "status": "completed"
    },
    "tags": []
   },
   "outputs": [
    {
     "data": {
      "text/plain": [
       "0        rich cocoa, fatty, bready\n",
       "1     cocoa, blackberry, full body\n",
       "2           cocoa, vegetal, savory\n",
       "3              chewy, off, rubbery\n",
       "4    milk brownie, macadamia,chewy\n",
       "Name: Most Memorable Characteristics, dtype: object"
      ]
     },
     "execution_count": 24,
     "metadata": {},
     "output_type": "execute_result"
    }
   ],
   "source": [
    "chocolate_rating_data['Most Memorable Characteristics'].head()"
   ]
  },
  {
   "cell_type": "code",
   "execution_count": 25,
   "id": "e95c52f6",
   "metadata": {
    "execution": {
     "iopub.execute_input": "2023-07-16T20:01:16.959122Z",
     "iopub.status.busy": "2023-07-16T20:01:16.958739Z",
     "iopub.status.idle": "2023-07-16T20:01:16.966335Z",
     "shell.execute_reply": "2023-07-16T20:01:16.965225Z"
    },
    "papermill": {
     "duration": 0.033407,
     "end_time": "2023-07-16T20:01:16.968547",
     "exception": false,
     "start_time": "2023-07-16T20:01:16.935140",
     "status": "completed"
    },
    "tags": []
   },
   "outputs": [
    {
     "data": {
      "text/plain": [
       "2461"
      ]
     },
     "execution_count": 25,
     "metadata": {},
     "output_type": "execute_result"
    }
   ],
   "source": [
    "chocolate_rating_data['Most Memorable Characteristics'].nunique()"
   ]
  },
  {
   "cell_type": "code",
   "execution_count": 26,
   "id": "2a1bbddc",
   "metadata": {
    "execution": {
     "iopub.execute_input": "2023-07-16T20:01:17.015203Z",
     "iopub.status.busy": "2023-07-16T20:01:17.014832Z",
     "iopub.status.idle": "2023-07-16T20:01:17.035479Z",
     "shell.execute_reply": "2023-07-16T20:01:17.034333Z"
    },
    "papermill": {
     "duration": 0.04711,
     "end_time": "2023-07-16T20:01:17.037869",
     "exception": false,
     "start_time": "2023-07-16T20:01:16.990759",
     "status": "completed"
    },
    "tags": []
   },
   "outputs": [
    {
     "data": {
      "text/html": [
       "<div>\n",
       "<style scoped>\n",
       "    .dataframe tbody tr th:only-of-type {\n",
       "        vertical-align: middle;\n",
       "    }\n",
       "\n",
       "    .dataframe tbody tr th {\n",
       "        vertical-align: top;\n",
       "    }\n",
       "\n",
       "    .dataframe thead th {\n",
       "        text-align: right;\n",
       "    }\n",
       "</style>\n",
       "<table border=\"1\" class=\"dataframe\">\n",
       "  <thead>\n",
       "    <tr style=\"text-align: right;\">\n",
       "      <th></th>\n",
       "      <th>0</th>\n",
       "      <th>1</th>\n",
       "      <th>2</th>\n",
       "      <th>3</th>\n",
       "      <th>4</th>\n",
       "    </tr>\n",
       "  </thead>\n",
       "  <tbody>\n",
       "    <tr>\n",
       "      <th>0</th>\n",
       "      <td>rich cocoa</td>\n",
       "      <td>fatty</td>\n",
       "      <td>bready</td>\n",
       "      <td>None</td>\n",
       "      <td>None</td>\n",
       "    </tr>\n",
       "    <tr>\n",
       "      <th>1</th>\n",
       "      <td>cocoa</td>\n",
       "      <td>blackberry</td>\n",
       "      <td>full body</td>\n",
       "      <td>None</td>\n",
       "      <td>None</td>\n",
       "    </tr>\n",
       "    <tr>\n",
       "      <th>2</th>\n",
       "      <td>cocoa</td>\n",
       "      <td>vegetal</td>\n",
       "      <td>savory</td>\n",
       "      <td>None</td>\n",
       "      <td>None</td>\n",
       "    </tr>\n",
       "    <tr>\n",
       "      <th>3</th>\n",
       "      <td>chewy</td>\n",
       "      <td>off</td>\n",
       "      <td>rubbery</td>\n",
       "      <td>None</td>\n",
       "      <td>None</td>\n",
       "    </tr>\n",
       "    <tr>\n",
       "      <th>4</th>\n",
       "      <td>milk brownie</td>\n",
       "      <td>macadamia</td>\n",
       "      <td>chewy</td>\n",
       "      <td>None</td>\n",
       "      <td>None</td>\n",
       "    </tr>\n",
       "    <tr>\n",
       "      <th>...</th>\n",
       "      <td>...</td>\n",
       "      <td>...</td>\n",
       "      <td>...</td>\n",
       "      <td>...</td>\n",
       "      <td>...</td>\n",
       "    </tr>\n",
       "    <tr>\n",
       "      <th>2583</th>\n",
       "      <td>waxy</td>\n",
       "      <td>cloying</td>\n",
       "      <td>vegetal</td>\n",
       "      <td>None</td>\n",
       "      <td>None</td>\n",
       "    </tr>\n",
       "    <tr>\n",
       "      <th>2584</th>\n",
       "      <td>strong nutty</td>\n",
       "      <td>marshmallow</td>\n",
       "      <td>None</td>\n",
       "      <td>None</td>\n",
       "      <td>None</td>\n",
       "    </tr>\n",
       "    <tr>\n",
       "      <th>2585</th>\n",
       "      <td>fatty</td>\n",
       "      <td>earthy</td>\n",
       "      <td>cocoa</td>\n",
       "      <td>None</td>\n",
       "      <td>None</td>\n",
       "    </tr>\n",
       "    <tr>\n",
       "      <th>2586</th>\n",
       "      <td>fatty</td>\n",
       "      <td>mild nuts</td>\n",
       "      <td>mild fruit</td>\n",
       "      <td>None</td>\n",
       "      <td>None</td>\n",
       "    </tr>\n",
       "    <tr>\n",
       "      <th>2587</th>\n",
       "      <td>muted</td>\n",
       "      <td>roasty</td>\n",
       "      <td>accessible</td>\n",
       "      <td>None</td>\n",
       "      <td>None</td>\n",
       "    </tr>\n",
       "  </tbody>\n",
       "</table>\n",
       "<p>2501 rows × 5 columns</p>\n",
       "</div>"
      ],
      "text/plain": [
       "                 0             1            2     3     4\n",
       "0       rich cocoa         fatty       bready  None  None\n",
       "1            cocoa    blackberry    full body  None  None\n",
       "2            cocoa       vegetal       savory  None  None\n",
       "3            chewy           off      rubbery  None  None\n",
       "4     milk brownie     macadamia        chewy  None  None\n",
       "...            ...           ...          ...   ...   ...\n",
       "2583          waxy       cloying      vegetal  None  None\n",
       "2584  strong nutty   marshmallow         None  None  None\n",
       "2585         fatty        earthy        cocoa  None  None\n",
       "2586         fatty     mild nuts   mild fruit  None  None\n",
       "2587         muted        roasty   accessible  None  None\n",
       "\n",
       "[2501 rows x 5 columns]"
      ]
     },
     "execution_count": 26,
     "metadata": {},
     "output_type": "execute_result"
    }
   ],
   "source": [
    "characteristics = chocolate_rating_data['Most Memorable Characteristics'].str.split(',', expand=True)\n",
    "characteristics"
   ]
  },
  {
   "cell_type": "code",
   "execution_count": 27,
   "id": "929401dc",
   "metadata": {
    "execution": {
     "iopub.execute_input": "2023-07-16T20:01:17.086615Z",
     "iopub.status.busy": "2023-07-16T20:01:17.085857Z",
     "iopub.status.idle": "2023-07-16T20:01:17.099362Z",
     "shell.execute_reply": "2023-07-16T20:01:17.098338Z"
    },
    "papermill": {
     "duration": 0.03951,
     "end_time": "2023-07-16T20:01:17.101525",
     "exception": false,
     "start_time": "2023-07-16T20:01:17.062015",
     "status": "completed"
    },
    "tags": []
   },
   "outputs": [
    {
     "data": {
      "text/html": [
       "<div>\n",
       "<style scoped>\n",
       "    .dataframe tbody tr th:only-of-type {\n",
       "        vertical-align: middle;\n",
       "    }\n",
       "\n",
       "    .dataframe tbody tr th {\n",
       "        vertical-align: top;\n",
       "    }\n",
       "\n",
       "    .dataframe thead th {\n",
       "        text-align: right;\n",
       "    }\n",
       "</style>\n",
       "<table border=\"1\" class=\"dataframe\">\n",
       "  <thead>\n",
       "    <tr style=\"text-align: right;\">\n",
       "      <th></th>\n",
       "      <th>characteristic 1</th>\n",
       "      <th>characteristic 2</th>\n",
       "      <th>characteristic 3</th>\n",
       "      <th>characteristic 4</th>\n",
       "      <th>characteristic 5</th>\n",
       "    </tr>\n",
       "  </thead>\n",
       "  <tbody>\n",
       "    <tr>\n",
       "      <th>0</th>\n",
       "      <td>rich cocoa</td>\n",
       "      <td>fatty</td>\n",
       "      <td>bready</td>\n",
       "      <td>None</td>\n",
       "      <td>None</td>\n",
       "    </tr>\n",
       "    <tr>\n",
       "      <th>1</th>\n",
       "      <td>cocoa</td>\n",
       "      <td>blackberry</td>\n",
       "      <td>full body</td>\n",
       "      <td>None</td>\n",
       "      <td>None</td>\n",
       "    </tr>\n",
       "    <tr>\n",
       "      <th>2</th>\n",
       "      <td>cocoa</td>\n",
       "      <td>vegetal</td>\n",
       "      <td>savory</td>\n",
       "      <td>None</td>\n",
       "      <td>None</td>\n",
       "    </tr>\n",
       "    <tr>\n",
       "      <th>3</th>\n",
       "      <td>chewy</td>\n",
       "      <td>off</td>\n",
       "      <td>rubbery</td>\n",
       "      <td>None</td>\n",
       "      <td>None</td>\n",
       "    </tr>\n",
       "    <tr>\n",
       "      <th>4</th>\n",
       "      <td>milk brownie</td>\n",
       "      <td>macadamia</td>\n",
       "      <td>chewy</td>\n",
       "      <td>None</td>\n",
       "      <td>None</td>\n",
       "    </tr>\n",
       "  </tbody>\n",
       "</table>\n",
       "</div>"
      ],
      "text/plain": [
       "  characteristic 1 characteristic 2 characteristic 3 characteristic 4  \\\n",
       "0       rich cocoa            fatty           bready             None   \n",
       "1            cocoa       blackberry        full body             None   \n",
       "2            cocoa          vegetal           savory             None   \n",
       "3            chewy              off          rubbery             None   \n",
       "4     milk brownie        macadamia            chewy             None   \n",
       "\n",
       "  characteristic 5  \n",
       "0             None  \n",
       "1             None  \n",
       "2             None  \n",
       "3             None  \n",
       "4             None  "
      ]
     },
     "execution_count": 27,
     "metadata": {},
     "output_type": "execute_result"
    }
   ],
   "source": [
    "characteristics = characteristics.rename(columns={\n",
    "    0: 'characteristic 1',\n",
    "    1: 'characteristic 2',\n",
    "    2: 'characteristic 3',\n",
    "    3: 'characteristic 4',\n",
    "    4: 'characteristic 5'\n",
    "})\n",
    "\n",
    "characteristics.head()"
   ]
  },
  {
   "cell_type": "code",
   "execution_count": 28,
   "id": "09afb8b5",
   "metadata": {
    "execution": {
     "iopub.execute_input": "2023-07-16T20:01:17.149571Z",
     "iopub.status.busy": "2023-07-16T20:01:17.148442Z",
     "iopub.status.idle": "2023-07-16T20:01:17.181665Z",
     "shell.execute_reply": "2023-07-16T20:01:17.180535Z"
    },
    "papermill": {
     "duration": 0.059549,
     "end_time": "2023-07-16T20:01:17.183989",
     "exception": false,
     "start_time": "2023-07-16T20:01:17.124440",
     "status": "completed"
    },
    "tags": []
   },
   "outputs": [
    {
     "data": {
      "text/html": [
       "<div>\n",
       "<style scoped>\n",
       "    .dataframe tbody tr th:only-of-type {\n",
       "        vertical-align: middle;\n",
       "    }\n",
       "\n",
       "    .dataframe tbody tr th {\n",
       "        vertical-align: top;\n",
       "    }\n",
       "\n",
       "    .dataframe thead th {\n",
       "        text-align: right;\n",
       "    }\n",
       "</style>\n",
       "<table border=\"1\" class=\"dataframe\">\n",
       "  <thead>\n",
       "    <tr style=\"text-align: right;\">\n",
       "      <th></th>\n",
       "      <th>REF</th>\n",
       "      <th>Company (Manufacturer)</th>\n",
       "      <th>Company Location</th>\n",
       "      <th>Review Date</th>\n",
       "      <th>Country of Bean Origin</th>\n",
       "      <th>Specific Bean Origin or Bar Name</th>\n",
       "      <th>Cocoa Percent</th>\n",
       "      <th>Ingredients</th>\n",
       "      <th>Most Memorable Characteristics</th>\n",
       "      <th>Rating</th>\n",
       "      <th>cocoa butter</th>\n",
       "      <th>vanilla</th>\n",
       "      <th>salt</th>\n",
       "      <th>Sweetened by</th>\n",
       "      <th>N of ingredients</th>\n",
       "      <th>characteristic 1</th>\n",
       "      <th>characteristic 2</th>\n",
       "      <th>characteristic 3</th>\n",
       "      <th>characteristic 4</th>\n",
       "      <th>characteristic 5</th>\n",
       "    </tr>\n",
       "  </thead>\n",
       "  <tbody>\n",
       "    <tr>\n",
       "      <th>0</th>\n",
       "      <td>2454</td>\n",
       "      <td>5150</td>\n",
       "      <td>U.S.A.</td>\n",
       "      <td>2019</td>\n",
       "      <td>Tanzania</td>\n",
       "      <td>Kokoa Kamili, batch 1</td>\n",
       "      <td>76.0</td>\n",
       "      <td>3- B,S,C</td>\n",
       "      <td>rich cocoa, fatty, bready</td>\n",
       "      <td>3.25</td>\n",
       "      <td>True</td>\n",
       "      <td>False</td>\n",
       "      <td>False</td>\n",
       "      <td>sugar</td>\n",
       "      <td>3</td>\n",
       "      <td>rich cocoa</td>\n",
       "      <td>fatty</td>\n",
       "      <td>bready</td>\n",
       "      <td>None</td>\n",
       "      <td>None</td>\n",
       "    </tr>\n",
       "    <tr>\n",
       "      <th>1</th>\n",
       "      <td>2454</td>\n",
       "      <td>5150</td>\n",
       "      <td>U.S.A.</td>\n",
       "      <td>2019</td>\n",
       "      <td>Madagascar</td>\n",
       "      <td>Bejofo Estate, batch 1</td>\n",
       "      <td>76.0</td>\n",
       "      <td>3- B,S,C</td>\n",
       "      <td>cocoa, blackberry, full body</td>\n",
       "      <td>3.75</td>\n",
       "      <td>True</td>\n",
       "      <td>False</td>\n",
       "      <td>False</td>\n",
       "      <td>sugar</td>\n",
       "      <td>3</td>\n",
       "      <td>cocoa</td>\n",
       "      <td>blackberry</td>\n",
       "      <td>full body</td>\n",
       "      <td>None</td>\n",
       "      <td>None</td>\n",
       "    </tr>\n",
       "    <tr>\n",
       "      <th>2</th>\n",
       "      <td>2458</td>\n",
       "      <td>5150</td>\n",
       "      <td>U.S.A.</td>\n",
       "      <td>2019</td>\n",
       "      <td>Dominican Republic</td>\n",
       "      <td>Zorzal, batch 1</td>\n",
       "      <td>76.0</td>\n",
       "      <td>3- B,S,C</td>\n",
       "      <td>cocoa, vegetal, savory</td>\n",
       "      <td>3.50</td>\n",
       "      <td>True</td>\n",
       "      <td>False</td>\n",
       "      <td>False</td>\n",
       "      <td>sugar</td>\n",
       "      <td>3</td>\n",
       "      <td>cocoa</td>\n",
       "      <td>vegetal</td>\n",
       "      <td>savory</td>\n",
       "      <td>None</td>\n",
       "      <td>None</td>\n",
       "    </tr>\n",
       "    <tr>\n",
       "      <th>3</th>\n",
       "      <td>2542</td>\n",
       "      <td>5150</td>\n",
       "      <td>U.S.A.</td>\n",
       "      <td>2021</td>\n",
       "      <td>Fiji</td>\n",
       "      <td>Matasawalevu, batch 1</td>\n",
       "      <td>68.0</td>\n",
       "      <td>3- B,S,C</td>\n",
       "      <td>chewy, off, rubbery</td>\n",
       "      <td>3.00</td>\n",
       "      <td>True</td>\n",
       "      <td>False</td>\n",
       "      <td>False</td>\n",
       "      <td>sugar</td>\n",
       "      <td>3</td>\n",
       "      <td>chewy</td>\n",
       "      <td>off</td>\n",
       "      <td>rubbery</td>\n",
       "      <td>None</td>\n",
       "      <td>None</td>\n",
       "    </tr>\n",
       "    <tr>\n",
       "      <th>4</th>\n",
       "      <td>2542</td>\n",
       "      <td>5150</td>\n",
       "      <td>U.S.A.</td>\n",
       "      <td>2021</td>\n",
       "      <td>India</td>\n",
       "      <td>Anamalai, batch 1</td>\n",
       "      <td>68.0</td>\n",
       "      <td>3- B,S,C</td>\n",
       "      <td>milk brownie, macadamia,chewy</td>\n",
       "      <td>3.50</td>\n",
       "      <td>True</td>\n",
       "      <td>False</td>\n",
       "      <td>False</td>\n",
       "      <td>sugar</td>\n",
       "      <td>3</td>\n",
       "      <td>milk brownie</td>\n",
       "      <td>macadamia</td>\n",
       "      <td>chewy</td>\n",
       "      <td>None</td>\n",
       "      <td>None</td>\n",
       "    </tr>\n",
       "    <tr>\n",
       "      <th>...</th>\n",
       "      <td>...</td>\n",
       "      <td>...</td>\n",
       "      <td>...</td>\n",
       "      <td>...</td>\n",
       "      <td>...</td>\n",
       "      <td>...</td>\n",
       "      <td>...</td>\n",
       "      <td>...</td>\n",
       "      <td>...</td>\n",
       "      <td>...</td>\n",
       "      <td>...</td>\n",
       "      <td>...</td>\n",
       "      <td>...</td>\n",
       "      <td>...</td>\n",
       "      <td>...</td>\n",
       "      <td>...</td>\n",
       "      <td>...</td>\n",
       "      <td>...</td>\n",
       "      <td>...</td>\n",
       "      <td>...</td>\n",
       "    </tr>\n",
       "    <tr>\n",
       "      <th>2583</th>\n",
       "      <td>1205</td>\n",
       "      <td>Zotter</td>\n",
       "      <td>Austria</td>\n",
       "      <td>2014</td>\n",
       "      <td>Blend</td>\n",
       "      <td>Raw</td>\n",
       "      <td>80.0</td>\n",
       "      <td>4- B,S*,C,Sa</td>\n",
       "      <td>waxy, cloying, vegetal</td>\n",
       "      <td>2.75</td>\n",
       "      <td>True</td>\n",
       "      <td>False</td>\n",
       "      <td>True</td>\n",
       "      <td>sweetener</td>\n",
       "      <td>4</td>\n",
       "      <td>waxy</td>\n",
       "      <td>cloying</td>\n",
       "      <td>vegetal</td>\n",
       "      <td>None</td>\n",
       "      <td>None</td>\n",
       "    </tr>\n",
       "    <tr>\n",
       "      <th>2584</th>\n",
       "      <td>1996</td>\n",
       "      <td>Zotter</td>\n",
       "      <td>Austria</td>\n",
       "      <td>2017</td>\n",
       "      <td>Colombia</td>\n",
       "      <td>APROCAFA, Acandi</td>\n",
       "      <td>75.0</td>\n",
       "      <td>3- B,S,C</td>\n",
       "      <td>strong nutty, marshmallow</td>\n",
       "      <td>3.75</td>\n",
       "      <td>True</td>\n",
       "      <td>False</td>\n",
       "      <td>False</td>\n",
       "      <td>sugar</td>\n",
       "      <td>3</td>\n",
       "      <td>strong nutty</td>\n",
       "      <td>marshmallow</td>\n",
       "      <td>None</td>\n",
       "      <td>None</td>\n",
       "      <td>None</td>\n",
       "    </tr>\n",
       "    <tr>\n",
       "      <th>2585</th>\n",
       "      <td>2036</td>\n",
       "      <td>Zotter</td>\n",
       "      <td>Austria</td>\n",
       "      <td>2018</td>\n",
       "      <td>Blend</td>\n",
       "      <td>Dry Aged, 30 yr Anniversary bar</td>\n",
       "      <td>75.0</td>\n",
       "      <td>3- B,S,C</td>\n",
       "      <td>fatty, earthy, cocoa</td>\n",
       "      <td>3.00</td>\n",
       "      <td>True</td>\n",
       "      <td>False</td>\n",
       "      <td>False</td>\n",
       "      <td>sugar</td>\n",
       "      <td>3</td>\n",
       "      <td>fatty</td>\n",
       "      <td>earthy</td>\n",
       "      <td>cocoa</td>\n",
       "      <td>None</td>\n",
       "      <td>None</td>\n",
       "    </tr>\n",
       "    <tr>\n",
       "      <th>2586</th>\n",
       "      <td>2170</td>\n",
       "      <td>Zotter</td>\n",
       "      <td>Austria</td>\n",
       "      <td>2018</td>\n",
       "      <td>Congo</td>\n",
       "      <td>Mountains of the Moon</td>\n",
       "      <td>70.0</td>\n",
       "      <td>3- B,S,C</td>\n",
       "      <td>fatty, mild nuts, mild fruit</td>\n",
       "      <td>3.25</td>\n",
       "      <td>True</td>\n",
       "      <td>False</td>\n",
       "      <td>False</td>\n",
       "      <td>sugar</td>\n",
       "      <td>3</td>\n",
       "      <td>fatty</td>\n",
       "      <td>mild nuts</td>\n",
       "      <td>mild fruit</td>\n",
       "      <td>None</td>\n",
       "      <td>None</td>\n",
       "    </tr>\n",
       "    <tr>\n",
       "      <th>2587</th>\n",
       "      <td>2170</td>\n",
       "      <td>Zotter</td>\n",
       "      <td>Austria</td>\n",
       "      <td>2018</td>\n",
       "      <td>Belize</td>\n",
       "      <td>Maya Mtn</td>\n",
       "      <td>72.0</td>\n",
       "      <td>3- B,S,C</td>\n",
       "      <td>muted, roasty, accessible</td>\n",
       "      <td>3.50</td>\n",
       "      <td>True</td>\n",
       "      <td>False</td>\n",
       "      <td>False</td>\n",
       "      <td>sugar</td>\n",
       "      <td>3</td>\n",
       "      <td>muted</td>\n",
       "      <td>roasty</td>\n",
       "      <td>accessible</td>\n",
       "      <td>None</td>\n",
       "      <td>None</td>\n",
       "    </tr>\n",
       "  </tbody>\n",
       "</table>\n",
       "<p>2501 rows × 20 columns</p>\n",
       "</div>"
      ],
      "text/plain": [
       "       REF Company (Manufacturer) Company Location  Review Date  \\\n",
       "0     2454                   5150           U.S.A.         2019   \n",
       "1     2454                   5150           U.S.A.         2019   \n",
       "2     2458                   5150           U.S.A.         2019   \n",
       "3     2542                   5150           U.S.A.         2021   \n",
       "4     2542                   5150           U.S.A.         2021   \n",
       "...    ...                    ...              ...          ...   \n",
       "2583  1205                 Zotter          Austria         2014   \n",
       "2584  1996                 Zotter          Austria         2017   \n",
       "2585  2036                 Zotter          Austria         2018   \n",
       "2586  2170                 Zotter          Austria         2018   \n",
       "2587  2170                 Zotter          Austria         2018   \n",
       "\n",
       "     Country of Bean Origin Specific Bean Origin or Bar Name  Cocoa Percent  \\\n",
       "0                  Tanzania            Kokoa Kamili, batch 1           76.0   \n",
       "1                Madagascar           Bejofo Estate, batch 1           76.0   \n",
       "2        Dominican Republic                  Zorzal, batch 1           76.0   \n",
       "3                      Fiji            Matasawalevu, batch 1           68.0   \n",
       "4                     India                Anamalai, batch 1           68.0   \n",
       "...                     ...                              ...            ...   \n",
       "2583                  Blend                              Raw           80.0   \n",
       "2584               Colombia                 APROCAFA, Acandi           75.0   \n",
       "2585                  Blend  Dry Aged, 30 yr Anniversary bar           75.0   \n",
       "2586                  Congo            Mountains of the Moon           70.0   \n",
       "2587                 Belize                         Maya Mtn           72.0   \n",
       "\n",
       "       Ingredients Most Memorable Characteristics  Rating  cocoa butter  \\\n",
       "0         3- B,S,C      rich cocoa, fatty, bready    3.25          True   \n",
       "1         3- B,S,C   cocoa, blackberry, full body    3.75          True   \n",
       "2         3- B,S,C         cocoa, vegetal, savory    3.50          True   \n",
       "3         3- B,S,C            chewy, off, rubbery    3.00          True   \n",
       "4         3- B,S,C  milk brownie, macadamia,chewy    3.50          True   \n",
       "...            ...                            ...     ...           ...   \n",
       "2583  4- B,S*,C,Sa         waxy, cloying, vegetal    2.75          True   \n",
       "2584      3- B,S,C      strong nutty, marshmallow    3.75          True   \n",
       "2585      3- B,S,C           fatty, earthy, cocoa    3.00          True   \n",
       "2586      3- B,S,C   fatty, mild nuts, mild fruit    3.25          True   \n",
       "2587      3- B,S,C      muted, roasty, accessible    3.50          True   \n",
       "\n",
       "      vanilla   salt Sweetened by  N of ingredients characteristic 1  \\\n",
       "0       False  False        sugar                 3       rich cocoa   \n",
       "1       False  False        sugar                 3            cocoa   \n",
       "2       False  False        sugar                 3            cocoa   \n",
       "3       False  False        sugar                 3            chewy   \n",
       "4       False  False        sugar                 3     milk brownie   \n",
       "...       ...    ...          ...               ...              ...   \n",
       "2583    False   True    sweetener                 4             waxy   \n",
       "2584    False  False        sugar                 3     strong nutty   \n",
       "2585    False  False        sugar                 3            fatty   \n",
       "2586    False  False        sugar                 3            fatty   \n",
       "2587    False  False        sugar                 3            muted   \n",
       "\n",
       "     characteristic 2 characteristic 3 characteristic 4 characteristic 5  \n",
       "0               fatty           bready             None             None  \n",
       "1          blackberry        full body             None             None  \n",
       "2             vegetal           savory             None             None  \n",
       "3                 off          rubbery             None             None  \n",
       "4           macadamia            chewy             None             None  \n",
       "...               ...              ...              ...              ...  \n",
       "2583          cloying          vegetal             None             None  \n",
       "2584      marshmallow             None             None             None  \n",
       "2585           earthy            cocoa             None             None  \n",
       "2586        mild nuts       mild fruit             None             None  \n",
       "2587           roasty       accessible             None             None  \n",
       "\n",
       "[2501 rows x 20 columns]"
      ]
     },
     "execution_count": 28,
     "metadata": {},
     "output_type": "execute_result"
    }
   ],
   "source": [
    "chocolate_rating_data = pd.concat([chocolate_rating_data, characteristics], axis=1)\n",
    "chocolate_rating_data"
   ]
  },
  {
   "cell_type": "code",
   "execution_count": 29,
   "id": "6b8efcd7",
   "metadata": {
    "execution": {
     "iopub.execute_input": "2023-07-16T20:01:17.232230Z",
     "iopub.status.busy": "2023-07-16T20:01:17.231844Z",
     "iopub.status.idle": "2023-07-16T20:01:17.242446Z",
     "shell.execute_reply": "2023-07-16T20:01:17.241474Z"
    },
    "papermill": {
     "duration": 0.037454,
     "end_time": "2023-07-16T20:01:17.244608",
     "exception": false,
     "start_time": "2023-07-16T20:01:17.207154",
     "status": "completed"
    },
    "tags": []
   },
   "outputs": [
    {
     "data": {
      "text/plain": [
       "characteristic 1    530\n",
       "dtype: int64"
      ]
     },
     "execution_count": 29,
     "metadata": {},
     "output_type": "execute_result"
    }
   ],
   "source": [
    "chocolate_rating_data[['characteristic 1']].nunique()"
   ]
  },
  {
   "cell_type": "code",
   "execution_count": 30,
   "id": "f651623b",
   "metadata": {
    "execution": {
     "iopub.execute_input": "2023-07-16T20:01:17.294584Z",
     "iopub.status.busy": "2023-07-16T20:01:17.293648Z",
     "iopub.status.idle": "2023-07-16T20:01:17.311370Z",
     "shell.execute_reply": "2023-07-16T20:01:17.310212Z"
    },
    "papermill": {
     "duration": 0.045579,
     "end_time": "2023-07-16T20:01:17.313971",
     "exception": false,
     "start_time": "2023-07-16T20:01:17.268392",
     "status": "completed"
    },
    "tags": []
   },
   "outputs": [
    {
     "name": "stdout",
     "output_type": "stream",
     "text": [
      "<class 'pandas.core.frame.DataFrame'>\n",
      "Int64Index: 2501 entries, 0 to 2587\n",
      "Data columns (total 5 columns):\n",
      " #   Column            Non-Null Count  Dtype \n",
      "---  ------            --------------  ----- \n",
      " 0   characteristic 1  2501 non-null   object\n",
      " 1   characteristic 2  2411 non-null   object\n",
      " 2   characteristic 3  1807 non-null   object\n",
      " 3   characteristic 4  293 non-null    object\n",
      " 4   characteristic 5  3 non-null      object\n",
      "dtypes: object(5)\n",
      "memory usage: 117.2+ KB\n"
     ]
    }
   ],
   "source": [
    "chocolate_rating_data[['characteristic 1', 'characteristic 2', 'characteristic 3','characteristic 4','characteristic 5']].info()"
   ]
  },
  {
   "cell_type": "markdown",
   "id": "2b8ff9bd",
   "metadata": {
    "papermill": {
     "duration": 0.024552,
     "end_time": "2023-07-16T20:01:17.362544",
     "exception": false,
     "start_time": "2023-07-16T20:01:17.337992",
     "status": "completed"
    },
    "tags": []
   },
   "source": [
    "Only a few entries have a fourth and fifth characteristic, to simplify the analysis we are going to ignore these"
   ]
  },
  {
   "cell_type": "code",
   "execution_count": 31,
   "id": "96ffcd25",
   "metadata": {
    "execution": {
     "iopub.execute_input": "2023-07-16T20:01:17.412157Z",
     "iopub.status.busy": "2023-07-16T20:01:17.411733Z",
     "iopub.status.idle": "2023-07-16T20:01:17.418573Z",
     "shell.execute_reply": "2023-07-16T20:01:17.417366Z"
    },
    "papermill": {
     "duration": 0.03439,
     "end_time": "2023-07-16T20:01:17.420945",
     "exception": false,
     "start_time": "2023-07-16T20:01:17.386555",
     "status": "completed"
    },
    "tags": []
   },
   "outputs": [],
   "source": [
    "chocolate_rating_data = chocolate_rating_data.drop(columns=['characteristic 4', 'characteristic 5'])"
   ]
  },
  {
   "cell_type": "code",
   "execution_count": 32,
   "id": "e4f2053d",
   "metadata": {
    "execution": {
     "iopub.execute_input": "2023-07-16T20:01:17.471249Z",
     "iopub.status.busy": "2023-07-16T20:01:17.470823Z",
     "iopub.status.idle": "2023-07-16T20:01:17.493782Z",
     "shell.execute_reply": "2023-07-16T20:01:17.492280Z"
    },
    "papermill": {
     "duration": 0.050669,
     "end_time": "2023-07-16T20:01:17.496171",
     "exception": false,
     "start_time": "2023-07-16T20:01:17.445502",
     "status": "completed"
    },
    "tags": []
   },
   "outputs": [
    {
     "name": "stdout",
     "output_type": "stream",
     "text": [
      "<class 'pandas.core.frame.DataFrame'>\n",
      "Int64Index: 2501 entries, 0 to 2587\n",
      "Data columns (total 18 columns):\n",
      " #   Column                            Non-Null Count  Dtype  \n",
      "---  ------                            --------------  -----  \n",
      " 0   REF                               2501 non-null   int64  \n",
      " 1   Company (Manufacturer)            2501 non-null   object \n",
      " 2   Company Location                  2501 non-null   object \n",
      " 3   Review Date                       2501 non-null   int64  \n",
      " 4   Country of Bean Origin            2501 non-null   object \n",
      " 5   Specific Bean Origin or Bar Name  2501 non-null   object \n",
      " 6   Cocoa Percent                     2501 non-null   float64\n",
      " 7   Ingredients                       2501 non-null   object \n",
      " 8   Most Memorable Characteristics    2501 non-null   object \n",
      " 9   Rating                            2501 non-null   float64\n",
      " 10  cocoa butter                      2501 non-null   bool   \n",
      " 11  vanilla                           2501 non-null   bool   \n",
      " 12  salt                              2501 non-null   bool   \n",
      " 13  Sweetened by                      2501 non-null   object \n",
      " 14  N of ingredients                  2501 non-null   int64  \n",
      " 15  characteristic 1                  2501 non-null   object \n",
      " 16  characteristic 2                  2411 non-null   object \n",
      " 17  characteristic 3                  1807 non-null   object \n",
      "dtypes: bool(3), float64(2), int64(3), object(10)\n",
      "memory usage: 320.0+ KB\n"
     ]
    }
   ],
   "source": [
    "chocolate_rating_data.info()"
   ]
  },
  {
   "cell_type": "markdown",
   "id": "fee3d1eb",
   "metadata": {
    "papermill": {
     "duration": 0.023576,
     "end_time": "2023-07-16T20:01:17.544335",
     "exception": false,
     "start_time": "2023-07-16T20:01:17.520759",
     "status": "completed"
    },
    "tags": []
   },
   "source": [
    "Now we can start the analysis"
   ]
  },
  {
   "cell_type": "markdown",
   "id": "8b2ec752",
   "metadata": {
    "papermill": {
     "duration": 0.023527,
     "end_time": "2023-07-16T20:01:17.591749",
     "exception": false,
     "start_time": "2023-07-16T20:01:17.568222",
     "status": "completed"
    },
    "tags": []
   },
   "source": [
    "## EDA"
   ]
  },
  {
   "cell_type": "markdown",
   "id": "8623fc2c",
   "metadata": {
    "papermill": {
     "duration": 0.02342,
     "end_time": "2023-07-16T20:01:17.638812",
     "exception": false,
     "start_time": "2023-07-16T20:01:17.615392",
     "status": "completed"
    },
    "tags": []
   },
   "source": [
    "### Ratings\n",
    "First, let's understand the distribution of ratings"
   ]
  },
  {
   "cell_type": "code",
   "execution_count": 33,
   "id": "ad94fc01",
   "metadata": {
    "execution": {
     "iopub.execute_input": "2023-07-16T20:01:17.688672Z",
     "iopub.status.busy": "2023-07-16T20:01:17.688252Z",
     "iopub.status.idle": "2023-07-16T20:01:18.097610Z",
     "shell.execute_reply": "2023-07-16T20:01:18.096507Z"
    },
    "papermill": {
     "duration": 0.437092,
     "end_time": "2023-07-16T20:01:18.100120",
     "exception": false,
     "start_time": "2023-07-16T20:01:17.663028",
     "status": "completed"
    },
    "tags": []
   },
   "outputs": [
    {
     "data": {
      "text/plain": [
       "<Axes: xlabel='Rating', ylabel='Count'>"
      ]
     },
     "execution_count": 33,
     "metadata": {},
     "output_type": "execute_result"
    },
    {
     "data": {
      "image/png": "[encoded data removed]",
      "text/plain": [
       "<Figure size 640x480 with 1 Axes>"
      ]
     },
     "metadata": {},
     "output_type": "display_data"
    }
   ],
   "source": [
    "sns.histplot(chocolate_rating_data['Rating'])"
   ]
  },
  {
   "cell_type": "markdown",
   "id": "790e29ac",
   "metadata": {
    "papermill": {
     "duration": 0.023847,
     "end_time": "2023-07-16T20:01:18.148229",
     "exception": false,
     "start_time": "2023-07-16T20:01:18.124382",
     "status": "completed"
    },
    "tags": []
   },
   "source": [
    "We can see the majority of ratings are between 2.5 and 4.\n",
    "\n",
    "The rating system goes from 1 to 5, but there are no ratings above 4"
   ]
  },
  {
   "cell_type": "code",
   "execution_count": 34,
   "id": "3eed5a5e",
   "metadata": {
    "execution": {
     "iopub.execute_input": "2023-07-16T20:01:18.198276Z",
     "iopub.status.busy": "2023-07-16T20:01:18.197908Z",
     "iopub.status.idle": "2023-07-16T20:01:18.209852Z",
     "shell.execute_reply": "2023-07-16T20:01:18.208598Z"
    },
    "papermill": {
     "duration": 0.039685,
     "end_time": "2023-07-16T20:01:18.212181",
     "exception": false,
     "start_time": "2023-07-16T20:01:18.172496",
     "status": "completed"
    },
    "tags": []
   },
   "outputs": [
    {
     "data": {
      "text/plain": [
       "count    2501.000000\n",
       "mean        3.211815\n",
       "std         0.427366\n",
       "min         1.000000\n",
       "25%         3.000000\n",
       "50%         3.250000\n",
       "75%         3.500000\n",
       "max         4.000000\n",
       "Name: Rating, dtype: float64"
      ]
     },
     "execution_count": 34,
     "metadata": {},
     "output_type": "execute_result"
    }
   ],
   "source": [
    "chocolate_rating_data['Rating'].describe()"
   ]
  },
  {
   "cell_type": "code",
   "execution_count": 35,
   "id": "8cb25198",
   "metadata": {
    "execution": {
     "iopub.execute_input": "2023-07-16T20:01:18.262940Z",
     "iopub.status.busy": "2023-07-16T20:01:18.262540Z",
     "iopub.status.idle": "2023-07-16T20:01:18.272355Z",
     "shell.execute_reply": "2023-07-16T20:01:18.271283Z"
    },
    "papermill": {
     "duration": 0.037924,
     "end_time": "2023-07-16T20:01:18.274773",
     "exception": false,
     "start_time": "2023-07-16T20:01:18.236849",
     "status": "completed"
    },
    "tags": []
   },
   "outputs": [
    {
     "data": {
      "text/plain": [
       "3.50    571\n",
       "3.00    517\n",
       "3.25    463\n",
       "2.75    326\n",
       "3.75    301\n",
       "2.50    159\n",
       "4.00    114\n",
       "2.00     29\n",
       "2.25     14\n",
       "1.50      5\n",
       "1.75      1\n",
       "1.00      1\n",
       "Name: Rating, dtype: int64"
      ]
     },
     "execution_count": 35,
     "metadata": {},
     "output_type": "execute_result"
    }
   ],
   "source": [
    "chocolate_rating_data['Rating'].value_counts()"
   ]
  },
  {
   "cell_type": "code",
   "execution_count": 36,
   "id": "ebcd8322",
   "metadata": {
    "execution": {
     "iopub.execute_input": "2023-07-16T20:01:18.325974Z",
     "iopub.status.busy": "2023-07-16T20:01:18.325556Z",
     "iopub.status.idle": "2023-07-16T20:01:18.348386Z",
     "shell.execute_reply": "2023-07-16T20:01:18.347615Z"
    },
    "papermill": {
     "duration": 0.050806,
     "end_time": "2023-07-16T20:01:18.350500",
     "exception": false,
     "start_time": "2023-07-16T20:01:18.299694",
     "status": "completed"
    },
    "tags": []
   },
   "outputs": [
    {
     "data": {
      "text/html": [
       "<div>\n",
       "<style scoped>\n",
       "    .dataframe tbody tr th:only-of-type {\n",
       "        vertical-align: middle;\n",
       "    }\n",
       "\n",
       "    .dataframe tbody tr th {\n",
       "        vertical-align: top;\n",
       "    }\n",
       "\n",
       "    .dataframe thead th {\n",
       "        text-align: right;\n",
       "    }\n",
       "</style>\n",
       "<table border=\"1\" class=\"dataframe\">\n",
       "  <thead>\n",
       "    <tr style=\"text-align: right;\">\n",
       "      <th></th>\n",
       "      <th>rating_mean</th>\n",
       "      <th>rating_std</th>\n",
       "    </tr>\n",
       "    <tr>\n",
       "      <th>Review Date</th>\n",
       "      <th></th>\n",
       "      <th></th>\n",
       "    </tr>\n",
       "  </thead>\n",
       "  <tbody>\n",
       "    <tr>\n",
       "      <th>2006</th>\n",
       "      <td>3.062500</td>\n",
       "      <td>0.660035</td>\n",
       "    </tr>\n",
       "    <tr>\n",
       "      <th>2007</th>\n",
       "      <td>3.166667</td>\n",
       "      <td>0.598200</td>\n",
       "    </tr>\n",
       "    <tr>\n",
       "      <th>2008</th>\n",
       "      <td>3.038690</td>\n",
       "      <td>0.494692</td>\n",
       "    </tr>\n",
       "    <tr>\n",
       "      <th>2009</th>\n",
       "      <td>3.088496</td>\n",
       "      <td>0.439308</td>\n",
       "    </tr>\n",
       "    <tr>\n",
       "      <th>2010</th>\n",
       "      <td>3.188830</td>\n",
       "      <td>0.431748</td>\n",
       "    </tr>\n",
       "    <tr>\n",
       "      <th>2011</th>\n",
       "      <td>3.271242</td>\n",
       "      <td>0.475508</td>\n",
       "    </tr>\n",
       "    <tr>\n",
       "      <th>2012</th>\n",
       "      <td>3.206944</td>\n",
       "      <td>0.464396</td>\n",
       "    </tr>\n",
       "    <tr>\n",
       "      <th>2013</th>\n",
       "      <td>3.214689</td>\n",
       "      <td>0.431974</td>\n",
       "    </tr>\n",
       "    <tr>\n",
       "      <th>2014</th>\n",
       "      <td>3.197531</td>\n",
       "      <td>0.409184</td>\n",
       "    </tr>\n",
       "    <tr>\n",
       "      <th>2015</th>\n",
       "      <td>3.243750</td>\n",
       "      <td>0.382416</td>\n",
       "    </tr>\n",
       "    <tr>\n",
       "      <th>2016</th>\n",
       "      <td>3.238263</td>\n",
       "      <td>0.416894</td>\n",
       "    </tr>\n",
       "    <tr>\n",
       "      <th>2017</th>\n",
       "      <td>3.364078</td>\n",
       "      <td>0.346157</td>\n",
       "    </tr>\n",
       "    <tr>\n",
       "      <th>2018</th>\n",
       "      <td>3.191111</td>\n",
       "      <td>0.389065</td>\n",
       "    </tr>\n",
       "    <tr>\n",
       "      <th>2019</th>\n",
       "      <td>3.134715</td>\n",
       "      <td>0.376714</td>\n",
       "    </tr>\n",
       "    <tr>\n",
       "      <th>2020</th>\n",
       "      <td>3.256173</td>\n",
       "      <td>0.321071</td>\n",
       "    </tr>\n",
       "    <tr>\n",
       "      <th>2021</th>\n",
       "      <td>3.320000</td>\n",
       "      <td>0.343913</td>\n",
       "    </tr>\n",
       "    <tr>\n",
       "      <th>2022</th>\n",
       "      <td>3.284483</td>\n",
       "      <td>0.378849</td>\n",
       "    </tr>\n",
       "  </tbody>\n",
       "</table>\n",
       "</div>"
      ],
      "text/plain": [
       "             rating_mean  rating_std\n",
       "Review Date                         \n",
       "2006            3.062500    0.660035\n",
       "2007            3.166667    0.598200\n",
       "2008            3.038690    0.494692\n",
       "2009            3.088496    0.439308\n",
       "2010            3.188830    0.431748\n",
       "2011            3.271242    0.475508\n",
       "2012            3.206944    0.464396\n",
       "2013            3.214689    0.431974\n",
       "2014            3.197531    0.409184\n",
       "2015            3.243750    0.382416\n",
       "2016            3.238263    0.416894\n",
       "2017            3.364078    0.346157\n",
       "2018            3.191111    0.389065\n",
       "2019            3.134715    0.376714\n",
       "2020            3.256173    0.321071\n",
       "2021            3.320000    0.343913\n",
       "2022            3.284483    0.378849"
      ]
     },
     "execution_count": 36,
     "metadata": {},
     "output_type": "execute_result"
    }
   ],
   "source": [
    "# does the rating vary on time?\n",
    "yearly_reviews = chocolate_rating_data.groupby('Review Date').agg(rating_mean=('Rating', np.mean), rating_std=('Rating', np.std))\n",
    "yearly_reviews"
   ]
  },
  {
   "cell_type": "code",
   "execution_count": 37,
   "id": "b0cf5b57",
   "metadata": {
    "execution": {
     "iopub.execute_input": "2023-07-16T20:01:18.402027Z",
     "iopub.status.busy": "2023-07-16T20:01:18.401634Z",
     "iopub.status.idle": "2023-07-16T20:01:19.382969Z",
     "shell.execute_reply": "2023-07-16T20:01:19.381878Z"
    },
    "papermill": {
     "duration": 1.010874,
     "end_time": "2023-07-16T20:01:19.386181",
     "exception": false,
     "start_time": "2023-07-16T20:01:18.375307",
     "status": "completed"
    },
    "tags": []
   },
   "outputs": [
    {
     "data": {
      "text/plain": [
       "<Axes: xlabel='Review Date', ylabel='Rating'>"
      ]
     },
     "execution_count": 37,
     "metadata": {},
     "output_type": "execute_result"
    },
    {
     "data": {
      "image/png": "[encoded data removed]",
      "text/plain": [
       "<Figure size 1000x800 with 1 Axes>"
      ]
     },
     "metadata": {},
     "output_type": "display_data"
    }
   ],
   "source": [
    "plt.figure(figsize=(10, 8))\n",
    "plt.ylim(1, 5)\n",
    "sns.lineplot(data=chocolate_rating_data, x='Review Date', y='Rating')"
   ]
  },
  {
   "cell_type": "markdown",
   "id": "be47d6db",
   "metadata": {
    "papermill": {
     "duration": 0.025334,
     "end_time": "2023-07-16T20:01:19.437326",
     "exception": false,
     "start_time": "2023-07-16T20:01:19.411992",
     "status": "completed"
    },
    "tags": []
   },
   "source": [
    "#### Insights\n",
    "The reviews are most of 3 and 3.5 points, and are vrey stable over time."
   ]
  },
  {
   "cell_type": "markdown",
   "id": "63902f71",
   "metadata": {
    "papermill": {
     "duration": 0.025416,
     "end_time": "2023-07-16T20:01:19.488398",
     "exception": false,
     "start_time": "2023-07-16T20:01:19.462982",
     "status": "completed"
    },
    "tags": []
   },
   "source": [
    "### Company"
   ]
  },
  {
   "cell_type": "markdown",
   "id": "2ef92c53",
   "metadata": {
    "papermill": {
     "duration": 0.025325,
     "end_time": "2023-07-16T20:01:19.539707",
     "exception": false,
     "start_time": "2023-07-16T20:01:19.514382",
     "status": "completed"
    },
    "tags": []
   },
   "source": [
    "Now let's see how the companies and their locations are distribued and how this affects the ratings"
   ]
  },
  {
   "cell_type": "code",
   "execution_count": 38,
   "id": "cdd6cdea",
   "metadata": {
    "execution": {
     "iopub.execute_input": "2023-07-16T20:01:19.593078Z",
     "iopub.status.busy": "2023-07-16T20:01:19.592678Z",
     "iopub.status.idle": "2023-07-16T20:01:19.600221Z",
     "shell.execute_reply": "2023-07-16T20:01:19.599409Z"
    },
    "papermill": {
     "duration": 0.036754,
     "end_time": "2023-07-16T20:01:19.602248",
     "exception": false,
     "start_time": "2023-07-16T20:01:19.565494",
     "status": "completed"
    },
    "tags": []
   },
   "outputs": [
    {
     "data": {
      "text/plain": [
       "555"
      ]
     },
     "execution_count": 38,
     "metadata": {},
     "output_type": "execute_result"
    }
   ],
   "source": [
    "chocolate_rating_data['Company (Manufacturer)'].nunique()"
   ]
  },
  {
   "cell_type": "code",
   "execution_count": null,
   "id": "6b40743d",
   "metadata": {
    "papermill": {
     "duration": 0.026088,
     "end_time": "2023-07-16T20:01:19.654311",
     "exception": false,
     "start_time": "2023-07-16T20:01:19.628223",
     "status": "completed"
    },
    "tags": []
   },
   "outputs": [],
   "source": []
  }
 ],
 "metadata": {
  "kernelspec": {
   "display_name": "Python 3",
   "language": "python",
   "name": "python3"
  },
  "language_info": {
   "codemirror_mode": {
    "name": "ipython",
    "version": 3
   },
   "file_extension": ".py",
   "mimetype": "text/x-python",
   "name": "python",
   "nbconvert_exporter": "python",
   "pygments_lexer": "ipython3",
   "version": "3.10.12"
  },
  "papermill": {
   "default_parameters": {},
   "duration": 18.503673,
   "end_time": "2023-07-16T20:01:20.703176",
   "environment_variables": {},
   "exception": null,
   "input_path": "__notebook__.ipynb",
   "output_path": "__notebook__.ipynb",
   "parameters": {},
   "start_time": "2023-07-16T20:01:02.199503",
   "version": "2.4.0"
  }
 },
 "nbformat": 4,
 "nbformat_minor": 5
}
