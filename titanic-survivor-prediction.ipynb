{
 "cells": [
  {
   "cell_type": "markdown",
   "id": "14e83cd0",
   "metadata": {},
   "source": [
    "**Table of contents**<a id='toc0_'></a>    \n",
    "- [Titanic survivor prediction](#toc1_)    \n",
    "  - [Loading the dataset](#toc1_1_)    \n",
    "  - [Data exploration](#toc1_2_)    \n",
    "    - [Null values](#toc1_2_1_)    \n",
    "    - [How each column correlates with survivability](#toc1_2_2_)    \n",
    "  - [Data preprocessing](#toc1_3_)    \n",
    "    - [Age groups](#toc1_3_1_)    \n",
    "    - [One Hot Encoding](#toc1_3_2_)    \n",
    "    - [Final adjust](#toc1_3_3_)    \n",
    "    - [Correlations with output](#toc1_3_4_)    \n",
    "    - [Final function](#toc1_3_5_)    \n",
    "  - [Model](#toc1_4_)    \n",
    "  - [Test data](#toc1_5_)    \n",
    "    - [Output for submission](#toc1_5_1_)    \n",
    "\n",
    "<!-- vscode-jupyter-toc-config\n",
    "\tnumbering=false\n",
    "\tanchor=true\n",
    "\tflat=false\n",
    "\tminLevel=1\n",
    "\tmaxLevel=6\n",
    "\t/vscode-jupyter-toc-config -->\n",
    "<!-- THIS CELL WILL BE REPLACED ON TOC UPDATE. DO NOT WRITE YOUR TEXT IN THIS CELL -->"
   ]
  },
  {
   "cell_type": "markdown",
   "id": "c02ad5e3",
   "metadata": {},
   "source": [
    "# <a id='toc1_'></a>[Titanic survivor prediction](#toc0_)\n",
    "This notebook contains my solution to the most famous problem on Kaggle: predicting which passengers survived the titanic disaster. It contains the entire process of data treatment, validation, feature extraction, model training and output.\n",
    "\n",
    "Challenge page: https://www.kaggle.com/competitions/titanic\n",
    "\n",
    "It implements a random forest model on the data. The final test score was 0.78748"
   ]
  },
  {
   "cell_type": "code",
   "execution_count": 1,
   "id": "d08de2a0",
   "metadata": {},
   "outputs": [],
   "source": [
    "import numpy as np\n",
    "import pandas as pd\n",
    "import seaborn as sns\n",
    "import matplotlib.pyplot as plt\n",
    "import matplotlib as mpl\n",
    "\n",
    "# random state used in all notebook\n",
    "rstate = 7"
   ]
  },
  {
   "cell_type": "markdown",
   "id": "ee40f0bc",
   "metadata": {},
   "source": [
    "## <a id='toc1_1_'></a>[Loading the dataset](#toc0_)"
   ]
  },
  {
   "cell_type": "code",
   "execution_count": 2,
   "id": "2472852b",
   "metadata": {
    "execution": {
     "iopub.execute_input": "2023-07-26T20:49:43.454416Z",
     "iopub.status.busy": "2023-07-26T20:49:43.453098Z",
     "iopub.status.idle": "2023-07-26T20:49:43.519917Z",
     "shell.execute_reply": "2023-07-26T20:49:43.518525Z"
    },
    "papermill": {
     "duration": 0.095833,
     "end_time": "2023-07-26T20:49:43.522508",
     "exception": false,
     "start_time": "2023-07-26T20:49:43.426675",
     "status": "completed"
    },
    "tags": []
   },
   "outputs": [
    {
     "data": {
      "text/html": [
       "<div>\n",
       "<style scoped>\n",
       "    .dataframe tbody tr th:only-of-type {\n",
       "        vertical-align: middle;\n",
       "    }\n",
       "\n",
       "    .dataframe tbody tr th {\n",
       "        vertical-align: top;\n",
       "    }\n",
       "\n",
       "    .dataframe thead th {\n",
       "        text-align: right;\n",
       "    }\n",
       "</style>\n",
       "<table border=\"1\" class=\"dataframe\">\n",
       "  <thead>\n",
       "    <tr style=\"text-align: right;\">\n",
       "      <th></th>\n",
       "      <th>Survived</th>\n",
       "      <th>Pclass</th>\n",
       "      <th>Name</th>\n",
       "      <th>Sex</th>\n",
       "      <th>Age</th>\n",
       "      <th>SibSp</th>\n",
       "      <th>Parch</th>\n",
       "      <th>Ticket</th>\n",
       "      <th>Fare</th>\n",
       "      <th>Cabin</th>\n",
       "      <th>Embarked</th>\n",
       "    </tr>\n",
       "    <tr>\n",
       "      <th>PassengerId</th>\n",
       "      <th></th>\n",
       "      <th></th>\n",
       "      <th></th>\n",
       "      <th></th>\n",
       "      <th></th>\n",
       "      <th></th>\n",
       "      <th></th>\n",
       "      <th></th>\n",
       "      <th></th>\n",
       "      <th></th>\n",
       "      <th></th>\n",
       "    </tr>\n",
       "  </thead>\n",
       "  <tbody>\n",
       "    <tr>\n",
       "      <th>1</th>\n",
       "      <td>0</td>\n",
       "      <td>3</td>\n",
       "      <td>Braund, Mr. Owen Harris</td>\n",
       "      <td>male</td>\n",
       "      <td>22.0</td>\n",
       "      <td>1</td>\n",
       "      <td>0</td>\n",
       "      <td>A/5 21171</td>\n",
       "      <td>7.2500</td>\n",
       "      <td>NaN</td>\n",
       "      <td>S</td>\n",
       "    </tr>\n",
       "    <tr>\n",
       "      <th>2</th>\n",
       "      <td>1</td>\n",
       "      <td>1</td>\n",
       "      <td>Cumings, Mrs. John Bradley (Florence Briggs Th...</td>\n",
       "      <td>female</td>\n",
       "      <td>38.0</td>\n",
       "      <td>1</td>\n",
       "      <td>0</td>\n",
       "      <td>PC 17599</td>\n",
       "      <td>71.2833</td>\n",
       "      <td>C85</td>\n",
       "      <td>C</td>\n",
       "    </tr>\n",
       "    <tr>\n",
       "      <th>3</th>\n",
       "      <td>1</td>\n",
       "      <td>3</td>\n",
       "      <td>Heikkinen, Miss. Laina</td>\n",
       "      <td>female</td>\n",
       "      <td>26.0</td>\n",
       "      <td>0</td>\n",
       "      <td>0</td>\n",
       "      <td>STON/O2. 3101282</td>\n",
       "      <td>7.9250</td>\n",
       "      <td>NaN</td>\n",
       "      <td>S</td>\n",
       "    </tr>\n",
       "    <tr>\n",
       "      <th>4</th>\n",
       "      <td>1</td>\n",
       "      <td>1</td>\n",
       "      <td>Futrelle, Mrs. Jacques Heath (Lily May Peel)</td>\n",
       "      <td>female</td>\n",
       "      <td>35.0</td>\n",
       "      <td>1</td>\n",
       "      <td>0</td>\n",
       "      <td>113803</td>\n",
       "      <td>53.1000</td>\n",
       "      <td>C123</td>\n",
       "      <td>S</td>\n",
       "    </tr>\n",
       "    <tr>\n",
       "      <th>5</th>\n",
       "      <td>0</td>\n",
       "      <td>3</td>\n",
       "      <td>Allen, Mr. William Henry</td>\n",
       "      <td>male</td>\n",
       "      <td>35.0</td>\n",
       "      <td>0</td>\n",
       "      <td>0</td>\n",
       "      <td>373450</td>\n",
       "      <td>8.0500</td>\n",
       "      <td>NaN</td>\n",
       "      <td>S</td>\n",
       "    </tr>\n",
       "  </tbody>\n",
       "</table>\n",
       "</div>"
      ],
      "text/plain": [
       "             Survived  Pclass  \\\n",
       "PassengerId                     \n",
       "1                   0       3   \n",
       "2                   1       1   \n",
       "3                   1       3   \n",
       "4                   1       1   \n",
       "5                   0       3   \n",
       "\n",
       "                                                          Name     Sex   Age  \\\n",
       "PassengerId                                                                    \n",
       "1                                      Braund, Mr. Owen Harris    male  22.0   \n",
       "2            Cumings, Mrs. John Bradley (Florence Briggs Th...  female  38.0   \n",
       "3                                       Heikkinen, Miss. Laina  female  26.0   \n",
       "4                 Futrelle, Mrs. Jacques Heath (Lily May Peel)  female  35.0   \n",
       "5                                     Allen, Mr. William Henry    male  35.0   \n",
       "\n",
       "             SibSp  Parch            Ticket     Fare Cabin Embarked  \n",
       "PassengerId                                                          \n",
       "1                1      0         A/5 21171   7.2500   NaN        S  \n",
       "2                1      0          PC 17599  71.2833   C85        C  \n",
       "3                0      0  STON/O2. 3101282   7.9250   NaN        S  \n",
       "4                1      0            113803  53.1000  C123        S  \n",
       "5                0      0            373450   8.0500   NaN        S  "
      ]
     },
     "execution_count": 2,
     "metadata": {},
     "output_type": "execute_result"
    }
   ],
   "source": [
    "raw_titanic_data = pd.read_csv('data/titanic/train.csv', index_col='PassengerId')\n",
    "raw_titanic_data.head()"
   ]
  },
  {
   "cell_type": "code",
   "execution_count": 3,
   "id": "b84b8f58",
   "metadata": {},
   "outputs": [],
   "source": [
    "# we are going to use the raw data later\n",
    "titanic_data = raw_titanic_data.copy()"
   ]
  },
  {
   "cell_type": "code",
   "execution_count": 4,
   "id": "c8c8258e",
   "metadata": {},
   "outputs": [
    {
     "name": "stdout",
     "output_type": "stream",
     "text": [
      "<class 'pandas.core.frame.DataFrame'>\n",
      "Int64Index: 891 entries, 1 to 891\n",
      "Data columns (total 11 columns):\n",
      " #   Column    Non-Null Count  Dtype  \n",
      "---  ------    --------------  -----  \n",
      " 0   Survived  891 non-null    int64  \n",
      " 1   Pclass    891 non-null    int64  \n",
      " 2   Name      891 non-null    object \n",
      " 3   Sex       891 non-null    object \n",
      " 4   Age       714 non-null    float64\n",
      " 5   SibSp     891 non-null    int64  \n",
      " 6   Parch     891 non-null    int64  \n",
      " 7   Ticket    891 non-null    object \n",
      " 8   Fare      891 non-null    float64\n",
      " 9   Cabin     204 non-null    object \n",
      " 10  Embarked  889 non-null    object \n",
      "dtypes: float64(2), int64(4), object(5)\n",
      "memory usage: 83.5+ KB\n"
     ]
    }
   ],
   "source": [
    "titanic_data.info()"
   ]
  },
  {
   "cell_type": "markdown",
   "id": "1a840589",
   "metadata": {},
   "source": [
    "## <a id='toc1_2_'></a>[Data exploration](#toc0_)"
   ]
  },
  {
   "cell_type": "markdown",
   "id": "6d4e6924",
   "metadata": {
    "papermill": {
     "duration": 0.024628,
     "end_time": "2023-07-26T20:49:43.702131",
     "exception": false,
     "start_time": "2023-07-26T20:49:43.677503",
     "status": "completed"
    },
    "tags": []
   },
   "source": [
    "First, let's see if the data is valid and look at it. Since thete are only 11 columns, we can check them individually"
   ]
  },
  {
   "cell_type": "code",
   "execution_count": 5,
   "id": "637274fa",
   "metadata": {},
   "outputs": [],
   "source": [
    "def plot_counts(df, column):\n",
    "    \"\"\"Plot the value counts for a column in a dataframe\n",
    "    \"\"\"\n",
    "    df[column].value_counts().plot(kind='bar')\n",
    "    plt.xlabel(column)\n",
    "    plt.ylabel('Count')"
   ]
  },
  {
   "cell_type": "code",
   "execution_count": 6,
   "id": "1005cd94",
   "metadata": {
    "execution": {
     "iopub.execute_input": "2023-07-26T20:49:43.754470Z",
     "iopub.status.busy": "2023-07-26T20:49:43.753988Z",
     "iopub.status.idle": "2023-07-26T20:49:43.763060Z",
     "shell.execute_reply": "2023-07-26T20:49:43.762197Z"
    },
    "papermill": {
     "duration": 0.03804,
     "end_time": "2023-07-26T20:49:43.765347",
     "exception": false,
     "start_time": "2023-07-26T20:49:43.727307",
     "status": "completed"
    },
    "tags": []
   },
   "outputs": [
    {
     "data": {
      "image/png": "[encoded data removed]",
      "text/plain": [
       "<Figure size 640x480 with 1 Axes>"
      ]
     },
     "metadata": {},
     "output_type": "display_data"
    }
   ],
   "source": [
    "plot_counts(titanic_data, 'Survived')"
   ]
  },
  {
   "cell_type": "code",
   "execution_count": 7,
   "id": "0052168a",
   "metadata": {
    "execution": {
     "iopub.execute_input": "2023-07-26T20:49:43.818520Z",
     "iopub.status.busy": "2023-07-26T20:49:43.817710Z",
     "iopub.status.idle": "2023-07-26T20:49:43.826054Z",
     "shell.execute_reply": "2023-07-26T20:49:43.825036Z"
    },
    "papermill": {
     "duration": 0.037597,
     "end_time": "2023-07-26T20:49:43.828275",
     "exception": false,
     "start_time": "2023-07-26T20:49:43.790678",
     "status": "completed"
    },
    "tags": []
   },
   "outputs": [
    {
     "data": {
      "image/png": "[encoded data removed]",
      "text/plain": [
       "<Figure size 640x480 with 1 Axes>"
      ]
     },
     "metadata": {},
     "output_type": "display_data"
    }
   ],
   "source": [
    "plot_counts(titanic_data, 'Pclass')"
   ]
  },
  {
   "cell_type": "code",
   "execution_count": 8,
   "id": "59245933",
   "metadata": {
    "execution": {
     "iopub.execute_input": "2023-07-26T20:49:43.881997Z",
     "iopub.status.busy": "2023-07-26T20:49:43.881150Z",
     "iopub.status.idle": "2023-07-26T20:49:43.889969Z",
     "shell.execute_reply": "2023-07-26T20:49:43.888968Z"
    },
    "papermill": {
     "duration": 0.03858,
     "end_time": "2023-07-26T20:49:43.892271",
     "exception": false,
     "start_time": "2023-07-26T20:49:43.853691",
     "status": "completed"
    },
    "tags": []
   },
   "outputs": [
    {
     "data": {
      "image/png": "[encoded data removed]",
      "text/plain": [
       "<Figure size 640x480 with 1 Axes>"
      ]
     },
     "metadata": {},
     "output_type": "display_data"
    }
   ],
   "source": [
    "plot_counts(titanic_data, 'Sex')"
   ]
  },
  {
   "cell_type": "code",
   "execution_count": 9,
   "id": "b644f5aa",
   "metadata": {
    "execution": {
     "iopub.execute_input": "2023-07-26T20:49:43.946025Z",
     "iopub.status.busy": "2023-07-26T20:49:43.945485Z",
     "iopub.status.idle": "2023-07-26T20:49:43.975769Z",
     "shell.execute_reply": "2023-07-26T20:49:43.974486Z"
    },
    "papermill": {
     "duration": 0.060424,
     "end_time": "2023-07-26T20:49:43.978388",
     "exception": false,
     "start_time": "2023-07-26T20:49:43.917964",
     "status": "completed"
    },
    "tags": []
   },
   "outputs": [
    {
     "data": {
      "text/html": [
       "<div>\n",
       "<style scoped>\n",
       "    .dataframe tbody tr th:only-of-type {\n",
       "        vertical-align: middle;\n",
       "    }\n",
       "\n",
       "    .dataframe tbody tr th {\n",
       "        vertical-align: top;\n",
       "    }\n",
       "\n",
       "    .dataframe thead th {\n",
       "        text-align: right;\n",
       "    }\n",
       "</style>\n",
       "<table border=\"1\" class=\"dataframe\">\n",
       "  <thead>\n",
       "    <tr style=\"text-align: right;\">\n",
       "      <th></th>\n",
       "      <th>Age</th>\n",
       "      <th>SibSp</th>\n",
       "      <th>Parch</th>\n",
       "      <th>Fare</th>\n",
       "    </tr>\n",
       "  </thead>\n",
       "  <tbody>\n",
       "    <tr>\n",
       "      <th>count</th>\n",
       "      <td>714.000000</td>\n",
       "      <td>891.000000</td>\n",
       "      <td>891.000000</td>\n",
       "      <td>891.000000</td>\n",
       "    </tr>\n",
       "    <tr>\n",
       "      <th>mean</th>\n",
       "      <td>29.699118</td>\n",
       "      <td>0.523008</td>\n",
       "      <td>0.381594</td>\n",
       "      <td>32.204208</td>\n",
       "    </tr>\n",
       "    <tr>\n",
       "      <th>std</th>\n",
       "      <td>14.526497</td>\n",
       "      <td>1.102743</td>\n",
       "      <td>0.806057</td>\n",
       "      <td>49.693429</td>\n",
       "    </tr>\n",
       "    <tr>\n",
       "      <th>min</th>\n",
       "      <td>0.420000</td>\n",
       "      <td>0.000000</td>\n",
       "      <td>0.000000</td>\n",
       "      <td>0.000000</td>\n",
       "    </tr>\n",
       "    <tr>\n",
       "      <th>25%</th>\n",
       "      <td>20.125000</td>\n",
       "      <td>0.000000</td>\n",
       "      <td>0.000000</td>\n",
       "      <td>7.910400</td>\n",
       "    </tr>\n",
       "    <tr>\n",
       "      <th>50%</th>\n",
       "      <td>28.000000</td>\n",
       "      <td>0.000000</td>\n",
       "      <td>0.000000</td>\n",
       "      <td>14.454200</td>\n",
       "    </tr>\n",
       "    <tr>\n",
       "      <th>75%</th>\n",
       "      <td>38.000000</td>\n",
       "      <td>1.000000</td>\n",
       "      <td>0.000000</td>\n",
       "      <td>31.000000</td>\n",
       "    </tr>\n",
       "    <tr>\n",
       "      <th>max</th>\n",
       "      <td>80.000000</td>\n",
       "      <td>8.000000</td>\n",
       "      <td>6.000000</td>\n",
       "      <td>512.329200</td>\n",
       "    </tr>\n",
       "  </tbody>\n",
       "</table>\n",
       "</div>"
      ],
      "text/plain": [
       "              Age       SibSp       Parch        Fare\n",
       "count  714.000000  891.000000  891.000000  891.000000\n",
       "mean    29.699118    0.523008    0.381594   32.204208\n",
       "std     14.526497    1.102743    0.806057   49.693429\n",
       "min      0.420000    0.000000    0.000000    0.000000\n",
       "25%     20.125000    0.000000    0.000000    7.910400\n",
       "50%     28.000000    0.000000    0.000000   14.454200\n",
       "75%     38.000000    1.000000    0.000000   31.000000\n",
       "max     80.000000    8.000000    6.000000  512.329200"
      ]
     },
     "execution_count": 9,
     "metadata": {},
     "output_type": "execute_result"
    }
   ],
   "source": [
    "titanic_data[['Age', 'SibSp', 'Parch', 'Fare']].describe()"
   ]
  },
  {
   "cell_type": "code",
   "execution_count": 10,
   "id": "1b9cea71",
   "metadata": {},
   "outputs": [
    {
     "data": {
      "image/png": "[encoded data removed]",
      "text/plain": [
       "<Figure size 640x480 with 1 Axes>"
      ]
     },
     "metadata": {},
     "output_type": "display_data"
    }
   ],
   "source": [
    "plot_counts(titanic_data, 'Embarked')"
   ]
  },
  {
   "cell_type": "markdown",
   "id": "2c20768d",
   "metadata": {},
   "source": [
    "The values are all valid. We are going to check the null values\n",
    "\n",
    "### <a id='toc1_2_1_'></a>[Null values](#toc0_)"
   ]
  },
  {
   "cell_type": "code",
   "execution_count": 11,
   "id": "5d4129a4",
   "metadata": {},
   "outputs": [
    {
     "data": {
      "text/plain": [
       "Survived      0\n",
       "Pclass        0\n",
       "Name          0\n",
       "Sex           0\n",
       "Age         177\n",
       "SibSp         0\n",
       "Parch         0\n",
       "Ticket        0\n",
       "Fare          0\n",
       "Cabin       687\n",
       "Embarked      2\n",
       "dtype: int64"
      ]
     },
     "execution_count": 11,
     "metadata": {},
     "output_type": "execute_result"
    }
   ],
   "source": [
    "titanic_data.isna().sum()"
   ]
  },
  {
   "cell_type": "markdown",
   "id": "da292af4",
   "metadata": {},
   "source": [
    "The null values are in Age, Cabin and Embarked. Let's check"
   ]
  },
  {
   "cell_type": "code",
   "execution_count": 12,
   "id": "a6b8351b",
   "metadata": {
    "execution": {
     "iopub.execute_input": "2023-07-26T20:49:44.153281Z",
     "iopub.status.busy": "2023-07-26T20:49:44.152418Z",
     "iopub.status.idle": "2023-07-26T20:49:44.179862Z",
     "shell.execute_reply": "2023-07-26T20:49:44.178680Z"
    },
    "papermill": {
     "duration": 0.057617,
     "end_time": "2023-07-26T20:49:44.182178",
     "exception": false,
     "start_time": "2023-07-26T20:49:44.124561",
     "status": "completed"
    },
    "tags": []
   },
   "outputs": [
    {
     "data": {
      "text/html": [
       "<div>\n",
       "<style scoped>\n",
       "    .dataframe tbody tr th:only-of-type {\n",
       "        vertical-align: middle;\n",
       "    }\n",
       "\n",
       "    .dataframe tbody tr th {\n",
       "        vertical-align: top;\n",
       "    }\n",
       "\n",
       "    .dataframe thead th {\n",
       "        text-align: right;\n",
       "    }\n",
       "</style>\n",
       "<table border=\"1\" class=\"dataframe\">\n",
       "  <thead>\n",
       "    <tr style=\"text-align: right;\">\n",
       "      <th></th>\n",
       "      <th>Survived</th>\n",
       "      <th>Pclass</th>\n",
       "      <th>Name</th>\n",
       "      <th>Sex</th>\n",
       "      <th>Age</th>\n",
       "      <th>SibSp</th>\n",
       "      <th>Parch</th>\n",
       "      <th>Ticket</th>\n",
       "      <th>Fare</th>\n",
       "      <th>Cabin</th>\n",
       "      <th>Embarked</th>\n",
       "    </tr>\n",
       "    <tr>\n",
       "      <th>PassengerId</th>\n",
       "      <th></th>\n",
       "      <th></th>\n",
       "      <th></th>\n",
       "      <th></th>\n",
       "      <th></th>\n",
       "      <th></th>\n",
       "      <th></th>\n",
       "      <th></th>\n",
       "      <th></th>\n",
       "      <th></th>\n",
       "      <th></th>\n",
       "    </tr>\n",
       "  </thead>\n",
       "  <tbody>\n",
       "    <tr>\n",
       "      <th>6</th>\n",
       "      <td>0</td>\n",
       "      <td>3</td>\n",
       "      <td>Moran, Mr. James</td>\n",
       "      <td>male</td>\n",
       "      <td>NaN</td>\n",
       "      <td>0</td>\n",
       "      <td>0</td>\n",
       "      <td>330877</td>\n",
       "      <td>8.4583</td>\n",
       "      <td>NaN</td>\n",
       "      <td>Q</td>\n",
       "    </tr>\n",
       "    <tr>\n",
       "      <th>18</th>\n",
       "      <td>1</td>\n",
       "      <td>2</td>\n",
       "      <td>Williams, Mr. Charles Eugene</td>\n",
       "      <td>male</td>\n",
       "      <td>NaN</td>\n",
       "      <td>0</td>\n",
       "      <td>0</td>\n",
       "      <td>244373</td>\n",
       "      <td>13.0000</td>\n",
       "      <td>NaN</td>\n",
       "      <td>S</td>\n",
       "    </tr>\n",
       "    <tr>\n",
       "      <th>20</th>\n",
       "      <td>1</td>\n",
       "      <td>3</td>\n",
       "      <td>Masselmani, Mrs. Fatima</td>\n",
       "      <td>female</td>\n",
       "      <td>NaN</td>\n",
       "      <td>0</td>\n",
       "      <td>0</td>\n",
       "      <td>2649</td>\n",
       "      <td>7.2250</td>\n",
       "      <td>NaN</td>\n",
       "      <td>C</td>\n",
       "    </tr>\n",
       "    <tr>\n",
       "      <th>27</th>\n",
       "      <td>0</td>\n",
       "      <td>3</td>\n",
       "      <td>Emir, Mr. Farred Chehab</td>\n",
       "      <td>male</td>\n",
       "      <td>NaN</td>\n",
       "      <td>0</td>\n",
       "      <td>0</td>\n",
       "      <td>2631</td>\n",
       "      <td>7.2250</td>\n",
       "      <td>NaN</td>\n",
       "      <td>C</td>\n",
       "    </tr>\n",
       "    <tr>\n",
       "      <th>29</th>\n",
       "      <td>1</td>\n",
       "      <td>3</td>\n",
       "      <td>O'Dwyer, Miss. Ellen \"Nellie\"</td>\n",
       "      <td>female</td>\n",
       "      <td>NaN</td>\n",
       "      <td>0</td>\n",
       "      <td>0</td>\n",
       "      <td>330959</td>\n",
       "      <td>7.8792</td>\n",
       "      <td>NaN</td>\n",
       "      <td>Q</td>\n",
       "    </tr>\n",
       "    <tr>\n",
       "      <th>...</th>\n",
       "      <td>...</td>\n",
       "      <td>...</td>\n",
       "      <td>...</td>\n",
       "      <td>...</td>\n",
       "      <td>...</td>\n",
       "      <td>...</td>\n",
       "      <td>...</td>\n",
       "      <td>...</td>\n",
       "      <td>...</td>\n",
       "      <td>...</td>\n",
       "      <td>...</td>\n",
       "    </tr>\n",
       "    <tr>\n",
       "      <th>860</th>\n",
       "      <td>0</td>\n",
       "      <td>3</td>\n",
       "      <td>Razi, Mr. Raihed</td>\n",
       "      <td>male</td>\n",
       "      <td>NaN</td>\n",
       "      <td>0</td>\n",
       "      <td>0</td>\n",
       "      <td>2629</td>\n",
       "      <td>7.2292</td>\n",
       "      <td>NaN</td>\n",
       "      <td>C</td>\n",
       "    </tr>\n",
       "    <tr>\n",
       "      <th>864</th>\n",
       "      <td>0</td>\n",
       "      <td>3</td>\n",
       "      <td>Sage, Miss. Dorothy Edith \"Dolly\"</td>\n",
       "      <td>female</td>\n",
       "      <td>NaN</td>\n",
       "      <td>8</td>\n",
       "      <td>2</td>\n",
       "      <td>CA. 2343</td>\n",
       "      <td>69.5500</td>\n",
       "      <td>NaN</td>\n",
       "      <td>S</td>\n",
       "    </tr>\n",
       "    <tr>\n",
       "      <th>869</th>\n",
       "      <td>0</td>\n",
       "      <td>3</td>\n",
       "      <td>van Melkebeke, Mr. Philemon</td>\n",
       "      <td>male</td>\n",
       "      <td>NaN</td>\n",
       "      <td>0</td>\n",
       "      <td>0</td>\n",
       "      <td>345777</td>\n",
       "      <td>9.5000</td>\n",
       "      <td>NaN</td>\n",
       "      <td>S</td>\n",
       "    </tr>\n",
       "    <tr>\n",
       "      <th>879</th>\n",
       "      <td>0</td>\n",
       "      <td>3</td>\n",
       "      <td>Laleff, Mr. Kristo</td>\n",
       "      <td>male</td>\n",
       "      <td>NaN</td>\n",
       "      <td>0</td>\n",
       "      <td>0</td>\n",
       "      <td>349217</td>\n",
       "      <td>7.8958</td>\n",
       "      <td>NaN</td>\n",
       "      <td>S</td>\n",
       "    </tr>\n",
       "    <tr>\n",
       "      <th>889</th>\n",
       "      <td>0</td>\n",
       "      <td>3</td>\n",
       "      <td>Johnston, Miss. Catherine Helen \"Carrie\"</td>\n",
       "      <td>female</td>\n",
       "      <td>NaN</td>\n",
       "      <td>1</td>\n",
       "      <td>2</td>\n",
       "      <td>W./C. 6607</td>\n",
       "      <td>23.4500</td>\n",
       "      <td>NaN</td>\n",
       "      <td>S</td>\n",
       "    </tr>\n",
       "  </tbody>\n",
       "</table>\n",
       "<p>177 rows × 11 columns</p>\n",
       "</div>"
      ],
      "text/plain": [
       "             Survived  Pclass                                      Name  \\\n",
       "PassengerId                                                               \n",
       "6                   0       3                          Moran, Mr. James   \n",
       "18                  1       2              Williams, Mr. Charles Eugene   \n",
       "20                  1       3                   Masselmani, Mrs. Fatima   \n",
       "27                  0       3                   Emir, Mr. Farred Chehab   \n",
       "29                  1       3             O'Dwyer, Miss. Ellen \"Nellie\"   \n",
       "...               ...     ...                                       ...   \n",
       "860                 0       3                          Razi, Mr. Raihed   \n",
       "864                 0       3         Sage, Miss. Dorothy Edith \"Dolly\"   \n",
       "869                 0       3               van Melkebeke, Mr. Philemon   \n",
       "879                 0       3                        Laleff, Mr. Kristo   \n",
       "889                 0       3  Johnston, Miss. Catherine Helen \"Carrie\"   \n",
       "\n",
       "                Sex  Age  SibSp  Parch      Ticket     Fare Cabin Embarked  \n",
       "PassengerId                                                                 \n",
       "6              male  NaN      0      0      330877   8.4583   NaN        Q  \n",
       "18             male  NaN      0      0      244373  13.0000   NaN        S  \n",
       "20           female  NaN      0      0        2649   7.2250   NaN        C  \n",
       "27             male  NaN      0      0        2631   7.2250   NaN        C  \n",
       "29           female  NaN      0      0      330959   7.8792   NaN        Q  \n",
       "...             ...  ...    ...    ...         ...      ...   ...      ...  \n",
       "860            male  NaN      0      0        2629   7.2292   NaN        C  \n",
       "864          female  NaN      8      2    CA. 2343  69.5500   NaN        S  \n",
       "869            male  NaN      0      0      345777   9.5000   NaN        S  \n",
       "879            male  NaN      0      0      349217   7.8958   NaN        S  \n",
       "889          female  NaN      1      2  W./C. 6607  23.4500   NaN        S  \n",
       "\n",
       "[177 rows x 11 columns]"
      ]
     },
     "execution_count": 12,
     "metadata": {},
     "output_type": "execute_result"
    }
   ],
   "source": [
    "titanic_data[titanic_data['Age'].isna()]"
   ]
  },
  {
   "cell_type": "code",
   "execution_count": 13,
   "id": "2e7fe2f6",
   "metadata": {
    "execution": {
     "iopub.execute_input": "2023-07-26T20:49:44.239809Z",
     "iopub.status.busy": "2023-07-26T20:49:44.239291Z",
     "iopub.status.idle": "2023-07-26T20:49:44.257347Z",
     "shell.execute_reply": "2023-07-26T20:49:44.256081Z"
    },
    "papermill": {
     "duration": 0.049088,
     "end_time": "2023-07-26T20:49:44.260085",
     "exception": false,
     "start_time": "2023-07-26T20:49:44.210997",
     "status": "completed"
    },
    "tags": []
   },
   "outputs": [
    {
     "data": {
      "text/html": [
       "<div>\n",
       "<style scoped>\n",
       "    .dataframe tbody tr th:only-of-type {\n",
       "        vertical-align: middle;\n",
       "    }\n",
       "\n",
       "    .dataframe tbody tr th {\n",
       "        vertical-align: top;\n",
       "    }\n",
       "\n",
       "    .dataframe thead th {\n",
       "        text-align: right;\n",
       "    }\n",
       "</style>\n",
       "<table border=\"1\" class=\"dataframe\">\n",
       "  <thead>\n",
       "    <tr style=\"text-align: right;\">\n",
       "      <th></th>\n",
       "      <th>Survived</th>\n",
       "      <th>Pclass</th>\n",
       "      <th>Name</th>\n",
       "      <th>Sex</th>\n",
       "      <th>Age</th>\n",
       "      <th>SibSp</th>\n",
       "      <th>Parch</th>\n",
       "      <th>Ticket</th>\n",
       "      <th>Fare</th>\n",
       "      <th>Cabin</th>\n",
       "      <th>Embarked</th>\n",
       "    </tr>\n",
       "    <tr>\n",
       "      <th>PassengerId</th>\n",
       "      <th></th>\n",
       "      <th></th>\n",
       "      <th></th>\n",
       "      <th></th>\n",
       "      <th></th>\n",
       "      <th></th>\n",
       "      <th></th>\n",
       "      <th></th>\n",
       "      <th></th>\n",
       "      <th></th>\n",
       "      <th></th>\n",
       "    </tr>\n",
       "  </thead>\n",
       "  <tbody>\n",
       "    <tr>\n",
       "      <th>62</th>\n",
       "      <td>1</td>\n",
       "      <td>1</td>\n",
       "      <td>Icard, Miss. Amelie</td>\n",
       "      <td>female</td>\n",
       "      <td>38.0</td>\n",
       "      <td>0</td>\n",
       "      <td>0</td>\n",
       "      <td>113572</td>\n",
       "      <td>80.0</td>\n",
       "      <td>B28</td>\n",
       "      <td>NaN</td>\n",
       "    </tr>\n",
       "    <tr>\n",
       "      <th>830</th>\n",
       "      <td>1</td>\n",
       "      <td>1</td>\n",
       "      <td>Stone, Mrs. George Nelson (Martha Evelyn)</td>\n",
       "      <td>female</td>\n",
       "      <td>62.0</td>\n",
       "      <td>0</td>\n",
       "      <td>0</td>\n",
       "      <td>113572</td>\n",
       "      <td>80.0</td>\n",
       "      <td>B28</td>\n",
       "      <td>NaN</td>\n",
       "    </tr>\n",
       "  </tbody>\n",
       "</table>\n",
       "</div>"
      ],
      "text/plain": [
       "             Survived  Pclass                                       Name  \\\n",
       "PassengerId                                                                \n",
       "62                  1       1                        Icard, Miss. Amelie   \n",
       "830                 1       1  Stone, Mrs. George Nelson (Martha Evelyn)   \n",
       "\n",
       "                Sex   Age  SibSp  Parch  Ticket  Fare Cabin Embarked  \n",
       "PassengerId                                                           \n",
       "62           female  38.0      0      0  113572  80.0   B28      NaN  \n",
       "830          female  62.0      0      0  113572  80.0   B28      NaN  "
      ]
     },
     "execution_count": 13,
     "metadata": {},
     "output_type": "execute_result"
    }
   ],
   "source": [
    "titanic_data[titanic_data['Embarked'].isna()]"
   ]
  },
  {
   "cell_type": "code",
   "execution_count": 14,
   "id": "ecffc688",
   "metadata": {
    "execution": {
     "iopub.execute_input": "2023-07-26T20:49:44.317163Z",
     "iopub.status.busy": "2023-07-26T20:49:44.316222Z",
     "iopub.status.idle": "2023-07-26T20:49:44.338533Z",
     "shell.execute_reply": "2023-07-26T20:49:44.337275Z"
    },
    "papermill": {
     "duration": 0.054306,
     "end_time": "2023-07-26T20:49:44.341499",
     "exception": false,
     "start_time": "2023-07-26T20:49:44.287193",
     "status": "completed"
    },
    "tags": []
   },
   "outputs": [
    {
     "data": {
      "text/html": [
       "<div>\n",
       "<style scoped>\n",
       "    .dataframe tbody tr th:only-of-type {\n",
       "        vertical-align: middle;\n",
       "    }\n",
       "\n",
       "    .dataframe tbody tr th {\n",
       "        vertical-align: top;\n",
       "    }\n",
       "\n",
       "    .dataframe thead th {\n",
       "        text-align: right;\n",
       "    }\n",
       "</style>\n",
       "<table border=\"1\" class=\"dataframe\">\n",
       "  <thead>\n",
       "    <tr style=\"text-align: right;\">\n",
       "      <th></th>\n",
       "      <th>Survived</th>\n",
       "      <th>Pclass</th>\n",
       "      <th>Name</th>\n",
       "      <th>Sex</th>\n",
       "      <th>Age</th>\n",
       "      <th>SibSp</th>\n",
       "      <th>Parch</th>\n",
       "      <th>Ticket</th>\n",
       "      <th>Fare</th>\n",
       "      <th>Cabin</th>\n",
       "      <th>Embarked</th>\n",
       "    </tr>\n",
       "    <tr>\n",
       "      <th>PassengerId</th>\n",
       "      <th></th>\n",
       "      <th></th>\n",
       "      <th></th>\n",
       "      <th></th>\n",
       "      <th></th>\n",
       "      <th></th>\n",
       "      <th></th>\n",
       "      <th></th>\n",
       "      <th></th>\n",
       "      <th></th>\n",
       "      <th></th>\n",
       "    </tr>\n",
       "  </thead>\n",
       "  <tbody>\n",
       "    <tr>\n",
       "      <th>2</th>\n",
       "      <td>1</td>\n",
       "      <td>1</td>\n",
       "      <td>Cumings, Mrs. John Bradley (Florence Briggs Th...</td>\n",
       "      <td>female</td>\n",
       "      <td>38.0</td>\n",
       "      <td>1</td>\n",
       "      <td>0</td>\n",
       "      <td>PC 17599</td>\n",
       "      <td>71.2833</td>\n",
       "      <td>C85</td>\n",
       "      <td>C</td>\n",
       "    </tr>\n",
       "    <tr>\n",
       "      <th>4</th>\n",
       "      <td>1</td>\n",
       "      <td>1</td>\n",
       "      <td>Futrelle, Mrs. Jacques Heath (Lily May Peel)</td>\n",
       "      <td>female</td>\n",
       "      <td>35.0</td>\n",
       "      <td>1</td>\n",
       "      <td>0</td>\n",
       "      <td>113803</td>\n",
       "      <td>53.1000</td>\n",
       "      <td>C123</td>\n",
       "      <td>S</td>\n",
       "    </tr>\n",
       "    <tr>\n",
       "      <th>7</th>\n",
       "      <td>0</td>\n",
       "      <td>1</td>\n",
       "      <td>McCarthy, Mr. Timothy J</td>\n",
       "      <td>male</td>\n",
       "      <td>54.0</td>\n",
       "      <td>0</td>\n",
       "      <td>0</td>\n",
       "      <td>17463</td>\n",
       "      <td>51.8625</td>\n",
       "      <td>E46</td>\n",
       "      <td>S</td>\n",
       "    </tr>\n",
       "    <tr>\n",
       "      <th>11</th>\n",
       "      <td>1</td>\n",
       "      <td>3</td>\n",
       "      <td>Sandstrom, Miss. Marguerite Rut</td>\n",
       "      <td>female</td>\n",
       "      <td>4.0</td>\n",
       "      <td>1</td>\n",
       "      <td>1</td>\n",
       "      <td>PP 9549</td>\n",
       "      <td>16.7000</td>\n",
       "      <td>G6</td>\n",
       "      <td>S</td>\n",
       "    </tr>\n",
       "    <tr>\n",
       "      <th>12</th>\n",
       "      <td>1</td>\n",
       "      <td>1</td>\n",
       "      <td>Bonnell, Miss. Elizabeth</td>\n",
       "      <td>female</td>\n",
       "      <td>58.0</td>\n",
       "      <td>0</td>\n",
       "      <td>0</td>\n",
       "      <td>113783</td>\n",
       "      <td>26.5500</td>\n",
       "      <td>C103</td>\n",
       "      <td>S</td>\n",
       "    </tr>\n",
       "    <tr>\n",
       "      <th>22</th>\n",
       "      <td>1</td>\n",
       "      <td>2</td>\n",
       "      <td>Beesley, Mr. Lawrence</td>\n",
       "      <td>male</td>\n",
       "      <td>34.0</td>\n",
       "      <td>0</td>\n",
       "      <td>0</td>\n",
       "      <td>248698</td>\n",
       "      <td>13.0000</td>\n",
       "      <td>D56</td>\n",
       "      <td>S</td>\n",
       "    </tr>\n",
       "    <tr>\n",
       "      <th>24</th>\n",
       "      <td>1</td>\n",
       "      <td>1</td>\n",
       "      <td>Sloper, Mr. William Thompson</td>\n",
       "      <td>male</td>\n",
       "      <td>28.0</td>\n",
       "      <td>0</td>\n",
       "      <td>0</td>\n",
       "      <td>113788</td>\n",
       "      <td>35.5000</td>\n",
       "      <td>A6</td>\n",
       "      <td>S</td>\n",
       "    </tr>\n",
       "    <tr>\n",
       "      <th>28</th>\n",
       "      <td>0</td>\n",
       "      <td>1</td>\n",
       "      <td>Fortune, Mr. Charles Alexander</td>\n",
       "      <td>male</td>\n",
       "      <td>19.0</td>\n",
       "      <td>3</td>\n",
       "      <td>2</td>\n",
       "      <td>19950</td>\n",
       "      <td>263.0000</td>\n",
       "      <td>C23 C25 C27</td>\n",
       "      <td>S</td>\n",
       "    </tr>\n",
       "    <tr>\n",
       "      <th>32</th>\n",
       "      <td>1</td>\n",
       "      <td>1</td>\n",
       "      <td>Spencer, Mrs. William Augustus (Marie Eugenie)</td>\n",
       "      <td>female</td>\n",
       "      <td>NaN</td>\n",
       "      <td>1</td>\n",
       "      <td>0</td>\n",
       "      <td>PC 17569</td>\n",
       "      <td>146.5208</td>\n",
       "      <td>B78</td>\n",
       "      <td>C</td>\n",
       "    </tr>\n",
       "    <tr>\n",
       "      <th>53</th>\n",
       "      <td>1</td>\n",
       "      <td>1</td>\n",
       "      <td>Harper, Mrs. Henry Sleeper (Myna Haxtun)</td>\n",
       "      <td>female</td>\n",
       "      <td>49.0</td>\n",
       "      <td>1</td>\n",
       "      <td>0</td>\n",
       "      <td>PC 17572</td>\n",
       "      <td>76.7292</td>\n",
       "      <td>D33</td>\n",
       "      <td>C</td>\n",
       "    </tr>\n",
       "  </tbody>\n",
       "</table>\n",
       "</div>"
      ],
      "text/plain": [
       "             Survived  Pclass  \\\n",
       "PassengerId                     \n",
       "2                   1       1   \n",
       "4                   1       1   \n",
       "7                   0       1   \n",
       "11                  1       3   \n",
       "12                  1       1   \n",
       "22                  1       2   \n",
       "24                  1       1   \n",
       "28                  0       1   \n",
       "32                  1       1   \n",
       "53                  1       1   \n",
       "\n",
       "                                                          Name     Sex   Age  \\\n",
       "PassengerId                                                                    \n",
       "2            Cumings, Mrs. John Bradley (Florence Briggs Th...  female  38.0   \n",
       "4                 Futrelle, Mrs. Jacques Heath (Lily May Peel)  female  35.0   \n",
       "7                                      McCarthy, Mr. Timothy J    male  54.0   \n",
       "11                             Sandstrom, Miss. Marguerite Rut  female   4.0   \n",
       "12                                    Bonnell, Miss. Elizabeth  female  58.0   \n",
       "22                                       Beesley, Mr. Lawrence    male  34.0   \n",
       "24                                Sloper, Mr. William Thompson    male  28.0   \n",
       "28                              Fortune, Mr. Charles Alexander    male  19.0   \n",
       "32              Spencer, Mrs. William Augustus (Marie Eugenie)  female   NaN   \n",
       "53                    Harper, Mrs. Henry Sleeper (Myna Haxtun)  female  49.0   \n",
       "\n",
       "             SibSp  Parch    Ticket      Fare        Cabin Embarked  \n",
       "PassengerId                                                          \n",
       "2                1      0  PC 17599   71.2833          C85        C  \n",
       "4                1      0    113803   53.1000         C123        S  \n",
       "7                0      0     17463   51.8625          E46        S  \n",
       "11               1      1   PP 9549   16.7000           G6        S  \n",
       "12               0      0    113783   26.5500         C103        S  \n",
       "22               0      0    248698   13.0000          D56        S  \n",
       "24               0      0    113788   35.5000           A6        S  \n",
       "28               3      2     19950  263.0000  C23 C25 C27        S  \n",
       "32               1      0  PC 17569  146.5208          B78        C  \n",
       "53               1      0  PC 17572   76.7292          D33        C  "
      ]
     },
     "execution_count": 14,
     "metadata": {},
     "output_type": "execute_result"
    }
   ],
   "source": [
    "titanic_data[~titanic_data['Cabin'].isna()].head(10)"
   ]
  },
  {
   "cell_type": "markdown",
   "id": "fb3f50f1",
   "metadata": {
    "papermill": {
     "duration": 0.026711,
     "end_time": "2023-07-26T20:49:44.395485",
     "exception": false,
     "start_time": "2023-07-26T20:49:44.368774",
     "status": "completed"
    },
    "tags": []
   },
   "source": [
    "Cabin has so many null values, and at first seems to have no relation with the other info. We are going to ignore this column.\n",
    "\n",
    "Age is a important column with many null values. We will try different imputations for this one. At first, we are going to impute the mean age.\n",
    "\n",
    "Embarked has only two missing values, so let's just fill these with the mode"
   ]
  },
  {
   "cell_type": "code",
   "execution_count": 15,
   "id": "8379aa5e",
   "metadata": {},
   "outputs": [],
   "source": [
    "# marking the missing ages. Maybe the age is missing because of something\n",
    "titanic_data['AgeMissing'] = False\n",
    "titanic_data.loc[titanic_data['Age'].isna(), 'AgeMissing'] = True\n",
    "\n",
    "# filling the embarked with mode\n",
    "emb_mode = titanic_data['Embarked'].mode()[0]\n",
    "titanic_data['Embarked'] = titanic_data['Embarked'].fillna(emb_mode)\n",
    "\n",
    "# filling the age with mean\n",
    "age_mean = titanic_data['Age'].mean()\n",
    "titanic_data['Age'] = titanic_data['Age'].fillna(age_mean)\n",
    "\n",
    "# cabin drop\n",
    "titanic_data = titanic_data.drop(columns=['Cabin'])"
   ]
  },
  {
   "cell_type": "markdown",
   "id": "5f6dd5b9",
   "metadata": {},
   "source": [
    "### <a id='toc1_2_2_'></a>[How each column correlates with survivability](#toc0_)"
   ]
  },
  {
   "cell_type": "code",
   "execution_count": 16,
   "id": "4e42aec1",
   "metadata": {},
   "outputs": [],
   "source": [
    "def plot_survived_by_column(titanic_data, column):\n",
    "    \"\"\"Plot how many survived on side of the total for a categorical column\n",
    "    \"\"\"\n",
    "    \n",
    "    group = titanic_data.groupby(column)\n",
    "    ind = np.arange(len(group))\n",
    "    width = 0.35\n",
    "\n",
    "    fig = plt.figure()\n",
    "    ax = fig.add_subplot(111)\n",
    "\n",
    "    ax.bar(ind, group['Survived'].count(), width, label='Total')\n",
    "    ax.bar(ind+width, group['Survived'].sum(), width, label='Survived')\n",
    "\n",
    "    \n",
    "\n",
    "    ax.set_xticks(ind + width / 2)\n",
    "    ax.set_xticklabels(group['Survived'].count().index)\n",
    "    ax.legend()\n",
    "    ax.set_ylabel('Count')\n",
    "    ax.set_xlabel(column)"
   ]
  },
  {
   "cell_type": "code",
   "execution_count": 17,
   "id": "c41fb54d",
   "metadata": {},
   "outputs": [
    {
     "data": {
      "image/png": "[encoded data removed]",
      "text/plain": [
       "<Figure size 640x480 with 1 Axes>"
      ]
     },
     "metadata": {},
     "output_type": "display_data"
    }
   ],
   "source": [
    "plot_survived_by_column(titanic_data, 'Sex')"
   ]
  },
  {
   "cell_type": "code",
   "execution_count": 18,
   "id": "2deaed6c",
   "metadata": {},
   "outputs": [
    {
     "data": {
      "image/png": "[encoded data removed]",
      "text/plain": [
       "<Figure size 640x480 with 1 Axes>"
      ]
     },
     "metadata": {},
     "output_type": "display_data"
    }
   ],
   "source": [
    "plot_survived_by_column(titanic_data, 'Pclass')"
   ]
  },
  {
   "cell_type": "code",
   "execution_count": 19,
   "id": "c30aa501",
   "metadata": {},
   "outputs": [
    {
     "data": {
      "image/png": "[encoded data removed]",
      "text/plain": [
       "<Figure size 640x480 with 1 Axes>"
      ]
     },
     "metadata": {},
     "output_type": "display_data"
    }
   ],
   "source": [
    "plot_survived_by_column(titanic_data, 'Embarked')"
   ]
  },
  {
   "cell_type": "code",
   "execution_count": 20,
   "id": "5cd25398",
   "metadata": {},
   "outputs": [],
   "source": [
    "def percentages_of_survivability(titanic_data, column):\n",
    "    \"\"\"Return the percentage of survivability for each value in a column\n",
    "    \"\"\"\n",
    "    survival = titanic_data.groupby(column)['Survived'].agg(['count', 'sum'])\n",
    "    survival = survival.rename(columns={'sum': 'Survived', 'count': 'Total'})\n",
    "    survival['Survivability [%]'] = survival['Survived'] / survival['Total'] * 100\n",
    "    return survival"
   ]
  },
  {
   "cell_type": "code",
   "execution_count": 21,
   "id": "9924c375",
   "metadata": {},
   "outputs": [
    {
     "data": {
      "text/html": [
       "<div>\n",
       "<style scoped>\n",
       "    .dataframe tbody tr th:only-of-type {\n",
       "        vertical-align: middle;\n",
       "    }\n",
       "\n",
       "    .dataframe tbody tr th {\n",
       "        vertical-align: top;\n",
       "    }\n",
       "\n",
       "    .dataframe thead th {\n",
       "        text-align: right;\n",
       "    }\n",
       "</style>\n",
       "<table border=\"1\" class=\"dataframe\">\n",
       "  <thead>\n",
       "    <tr style=\"text-align: right;\">\n",
       "      <th></th>\n",
       "      <th>Total</th>\n",
       "      <th>Survived</th>\n",
       "      <th>Survivability [%]</th>\n",
       "    </tr>\n",
       "    <tr>\n",
       "      <th>Embarked</th>\n",
       "      <th></th>\n",
       "      <th></th>\n",
       "      <th></th>\n",
       "    </tr>\n",
       "  </thead>\n",
       "  <tbody>\n",
       "    <tr>\n",
       "      <th>C</th>\n",
       "      <td>168</td>\n",
       "      <td>93</td>\n",
       "      <td>55.357143</td>\n",
       "    </tr>\n",
       "    <tr>\n",
       "      <th>Q</th>\n",
       "      <td>77</td>\n",
       "      <td>30</td>\n",
       "      <td>38.961039</td>\n",
       "    </tr>\n",
       "    <tr>\n",
       "      <th>S</th>\n",
       "      <td>646</td>\n",
       "      <td>219</td>\n",
       "      <td>33.900929</td>\n",
       "    </tr>\n",
       "  </tbody>\n",
       "</table>\n",
       "</div>"
      ],
      "text/plain": [
       "          Total  Survived  Survivability [%]\n",
       "Embarked                                    \n",
       "C           168        93          55.357143\n",
       "Q            77        30          38.961039\n",
       "S           646       219          33.900929"
      ]
     },
     "execution_count": 21,
     "metadata": {},
     "output_type": "execute_result"
    }
   ],
   "source": [
    "# since this one is not so clear by the graph, lets calculate the percentage\n",
    "# of survivability for each\n",
    "percentages_of_survivability(titanic_data, 'Embarked')"
   ]
  },
  {
   "cell_type": "markdown",
   "id": "cdeb800d",
   "metadata": {},
   "source": [
    "What we can see\n",
    "- Sex: Female has a lot more chance of survival. Makes sense because the rule for the life boats give a preference for them\n",
    "- Pclass: the higher the class of the ticket, higher the chance of survival, as expected, because richer people are in the higher cabins.\n",
    "- Embarked: Seems to make a difference, but it's not clear why. Maybe a correlation for the port with other data."
   ]
  },
  {
   "cell_type": "code",
   "execution_count": 22,
   "id": "df268d3c",
   "metadata": {},
   "outputs": [
    {
     "data": {
      "text/plain": [
       "Text(0, 0.5, 'Fare')"
      ]
     },
     "execution_count": 22,
     "metadata": {},
     "output_type": "execute_result"
    },
    {
     "data": {
      "image/png": "[encoded data removed]",
      "text/plain": [
       "<Figure size 640x480 with 1 Axes>"
      ]
     },
     "metadata": {},
     "output_type": "display_data"
    }
   ],
   "source": [
    "titanic_data.groupby('Survived').Fare.mean().plot(kind='bar')\n",
    "plt.ylabel('Fare')"
   ]
  },
  {
   "cell_type": "markdown",
   "id": "1df41316",
   "metadata": {},
   "source": [
    "The passengers with higher fare had a grater chance of surviving"
   ]
  },
  {
   "cell_type": "code",
   "execution_count": 23,
   "id": "e5be1973",
   "metadata": {},
   "outputs": [
    {
     "data": {
      "text/html": [
       "<div>\n",
       "<style scoped>\n",
       "    .dataframe tbody tr th:only-of-type {\n",
       "        vertical-align: middle;\n",
       "    }\n",
       "\n",
       "    .dataframe tbody tr th {\n",
       "        vertical-align: top;\n",
       "    }\n",
       "\n",
       "    .dataframe thead th {\n",
       "        text-align: right;\n",
       "    }\n",
       "</style>\n",
       "<table border=\"1\" class=\"dataframe\">\n",
       "  <thead>\n",
       "    <tr style=\"text-align: right;\">\n",
       "      <th></th>\n",
       "      <th>Total</th>\n",
       "      <th>Survived</th>\n",
       "      <th>Survivability [%]</th>\n",
       "    </tr>\n",
       "    <tr>\n",
       "      <th>SibSp</th>\n",
       "      <th></th>\n",
       "      <th></th>\n",
       "      <th></th>\n",
       "    </tr>\n",
       "  </thead>\n",
       "  <tbody>\n",
       "    <tr>\n",
       "      <th>0</th>\n",
       "      <td>608</td>\n",
       "      <td>210</td>\n",
       "      <td>34.539474</td>\n",
       "    </tr>\n",
       "    <tr>\n",
       "      <th>1</th>\n",
       "      <td>209</td>\n",
       "      <td>112</td>\n",
       "      <td>53.588517</td>\n",
       "    </tr>\n",
       "    <tr>\n",
       "      <th>2</th>\n",
       "      <td>28</td>\n",
       "      <td>13</td>\n",
       "      <td>46.428571</td>\n",
       "    </tr>\n",
       "    <tr>\n",
       "      <th>3</th>\n",
       "      <td>16</td>\n",
       "      <td>4</td>\n",
       "      <td>25.000000</td>\n",
       "    </tr>\n",
       "    <tr>\n",
       "      <th>4</th>\n",
       "      <td>18</td>\n",
       "      <td>3</td>\n",
       "      <td>16.666667</td>\n",
       "    </tr>\n",
       "    <tr>\n",
       "      <th>5</th>\n",
       "      <td>5</td>\n",
       "      <td>0</td>\n",
       "      <td>0.000000</td>\n",
       "    </tr>\n",
       "    <tr>\n",
       "      <th>8</th>\n",
       "      <td>7</td>\n",
       "      <td>0</td>\n",
       "      <td>0.000000</td>\n",
       "    </tr>\n",
       "  </tbody>\n",
       "</table>\n",
       "</div>"
      ],
      "text/plain": [
       "       Total  Survived  Survivability [%]\n",
       "SibSp                                    \n",
       "0        608       210          34.539474\n",
       "1        209       112          53.588517\n",
       "2         28        13          46.428571\n",
       "3         16         4          25.000000\n",
       "4         18         3          16.666667\n",
       "5          5         0           0.000000\n",
       "8          7         0           0.000000"
      ]
     },
     "execution_count": 23,
     "metadata": {},
     "output_type": "execute_result"
    }
   ],
   "source": [
    "percentages_of_survivability(titanic_data, 'SibSp')"
   ]
  },
  {
   "cell_type": "code",
   "execution_count": 24,
   "id": "747ddd03",
   "metadata": {},
   "outputs": [
    {
     "data": {
      "text/html": [
       "<div>\n",
       "<style scoped>\n",
       "    .dataframe tbody tr th:only-of-type {\n",
       "        vertical-align: middle;\n",
       "    }\n",
       "\n",
       "    .dataframe tbody tr th {\n",
       "        vertical-align: top;\n",
       "    }\n",
       "\n",
       "    .dataframe thead th {\n",
       "        text-align: right;\n",
       "    }\n",
       "</style>\n",
       "<table border=\"1\" class=\"dataframe\">\n",
       "  <thead>\n",
       "    <tr style=\"text-align: right;\">\n",
       "      <th></th>\n",
       "      <th>Total</th>\n",
       "      <th>Survived</th>\n",
       "      <th>Survivability [%]</th>\n",
       "    </tr>\n",
       "    <tr>\n",
       "      <th>Parch</th>\n",
       "      <th></th>\n",
       "      <th></th>\n",
       "      <th></th>\n",
       "    </tr>\n",
       "  </thead>\n",
       "  <tbody>\n",
       "    <tr>\n",
       "      <th>0</th>\n",
       "      <td>678</td>\n",
       "      <td>233</td>\n",
       "      <td>34.365782</td>\n",
       "    </tr>\n",
       "    <tr>\n",
       "      <th>1</th>\n",
       "      <td>118</td>\n",
       "      <td>65</td>\n",
       "      <td>55.084746</td>\n",
       "    </tr>\n",
       "    <tr>\n",
       "      <th>2</th>\n",
       "      <td>80</td>\n",
       "      <td>40</td>\n",
       "      <td>50.000000</td>\n",
       "    </tr>\n",
       "    <tr>\n",
       "      <th>3</th>\n",
       "      <td>5</td>\n",
       "      <td>3</td>\n",
       "      <td>60.000000</td>\n",
       "    </tr>\n",
       "    <tr>\n",
       "      <th>4</th>\n",
       "      <td>4</td>\n",
       "      <td>0</td>\n",
       "      <td>0.000000</td>\n",
       "    </tr>\n",
       "    <tr>\n",
       "      <th>5</th>\n",
       "      <td>5</td>\n",
       "      <td>1</td>\n",
       "      <td>20.000000</td>\n",
       "    </tr>\n",
       "    <tr>\n",
       "      <th>6</th>\n",
       "      <td>1</td>\n",
       "      <td>0</td>\n",
       "      <td>0.000000</td>\n",
       "    </tr>\n",
       "  </tbody>\n",
       "</table>\n",
       "</div>"
      ],
      "text/plain": [
       "       Total  Survived  Survivability [%]\n",
       "Parch                                    \n",
       "0        678       233          34.365782\n",
       "1        118        65          55.084746\n",
       "2         80        40          50.000000\n",
       "3          5         3          60.000000\n",
       "4          4         0           0.000000\n",
       "5          5         1          20.000000\n",
       "6          1         0           0.000000"
      ]
     },
     "execution_count": 24,
     "metadata": {},
     "output_type": "execute_result"
    }
   ],
   "source": [
    "percentages_of_survivability(titanic_data, 'Parch')"
   ]
  },
  {
   "cell_type": "code",
   "execution_count": 25,
   "id": "b72f634b",
   "metadata": {},
   "outputs": [
    {
     "data": {
      "text/html": [
       "<div>\n",
       "<style scoped>\n",
       "    .dataframe tbody tr th:only-of-type {\n",
       "        vertical-align: middle;\n",
       "    }\n",
       "\n",
       "    .dataframe tbody tr th {\n",
       "        vertical-align: top;\n",
       "    }\n",
       "\n",
       "    .dataframe thead th {\n",
       "        text-align: right;\n",
       "    }\n",
       "</style>\n",
       "<table border=\"1\" class=\"dataframe\">\n",
       "  <thead>\n",
       "    <tr style=\"text-align: right;\">\n",
       "      <th></th>\n",
       "      <th>Total</th>\n",
       "      <th>Survived</th>\n",
       "      <th>Survivability [%]</th>\n",
       "    </tr>\n",
       "    <tr>\n",
       "      <th>AgeMissing</th>\n",
       "      <th></th>\n",
       "      <th></th>\n",
       "      <th></th>\n",
       "    </tr>\n",
       "  </thead>\n",
       "  <tbody>\n",
       "    <tr>\n",
       "      <th>False</th>\n",
       "      <td>714</td>\n",
       "      <td>290</td>\n",
       "      <td>40.616246</td>\n",
       "    </tr>\n",
       "    <tr>\n",
       "      <th>True</th>\n",
       "      <td>177</td>\n",
       "      <td>52</td>\n",
       "      <td>29.378531</td>\n",
       "    </tr>\n",
       "  </tbody>\n",
       "</table>\n",
       "</div>"
      ],
      "text/plain": [
       "            Total  Survived  Survivability [%]\n",
       "AgeMissing                                    \n",
       "False         714       290          40.616246\n",
       "True          177        52          29.378531"
      ]
     },
     "execution_count": 25,
     "metadata": {},
     "output_type": "execute_result"
    }
   ],
   "source": [
    "percentages_of_survivability(titanic_data, 'AgeMissing')"
   ]
  },
  {
   "cell_type": "markdown",
   "id": "51e1a730",
   "metadata": {},
   "source": [
    "We can see that having a sibling, spouse or parent seems to increase the chance of surviving. If the quantity matters, it's hard to know since for values higher than two we have only few samples, but seems that having a greater number seems to reduce the chance. For the SibSp for example, where it is higher than 3 the survivability goes very low.\n",
    "\n",
    "We also can see that people that are missing age on the dataset survive less. Probably because it was harder to find the age for the non-survivals"
   ]
  },
  {
   "cell_type": "markdown",
   "id": "f9e5086f",
   "metadata": {},
   "source": [
    "## <a id='toc1_3_'></a>[Data preprocessing](#toc0_)\n",
    "\n",
    "Now let's process our data to a state where we can use a model on it"
   ]
  },
  {
   "cell_type": "markdown",
   "id": "79ea8b50",
   "metadata": {},
   "source": [
    "### <a id='toc1_3_1_'></a>[Age groups](#toc0_)"
   ]
  },
  {
   "cell_type": "markdown",
   "id": "6e1e98ac",
   "metadata": {},
   "source": [
    "We will do some feature engenerring on the age column, to group people into age classes, since the young had preference to go on the life boats."
   ]
  },
  {
   "cell_type": "code",
   "execution_count": 26,
   "id": "4dece41f",
   "metadata": {},
   "outputs": [],
   "source": [
    "def create_age_group(titanic_data, minage, maxage, name, enc):\n",
    "    titanic_data.loc[(titanic_data['Age'] >= minage) & (titanic_data['Age'] < maxage), 'AgeGroup'] = name\n",
    "    titanic_data.loc[(titanic_data['Age'] >= minage) & (titanic_data['Age'] < maxage), 'AgeGroupEn'] = enc\n",
    "\n",
    "    \n",
    "def groups_of_age(titanic_data):\n",
    "    \"\"\"Create groups based on the age, from Child to Elder.\n",
    "    Generates a categorical column and a encoded column\"\"\"\n",
    "    \n",
    "    titanic_data['AgeGroup'] = None\n",
    "    titanic_data['AgeGroupEn'] = 0\n",
    "    \n",
    "    groups = [\n",
    "        [0, 9, 'Child', 0],\n",
    "        [9, 18, 'Teen', 1],\n",
    "        [18, 30, 'Young', 2],\n",
    "        [30, 60, 'Adult', 3],\n",
    "        [60, 81, 'Elder', 4]\n",
    "    ]\n",
    "\n",
    "    for minage, maxage, name, enc in groups:\n",
    "        create_age_group(titanic_data, minage, maxage, name, enc)\n",
    "        \n",
    "    return titanic_data\n"
   ]
  },
  {
   "cell_type": "code",
   "execution_count": 27,
   "id": "13167cb5",
   "metadata": {},
   "outputs": [],
   "source": [
    "titanic_data = groups_of_age(titanic_data)"
   ]
  },
  {
   "cell_type": "code",
   "execution_count": 28,
   "id": "b113689f",
   "metadata": {},
   "outputs": [
    {
     "data": {
      "image/png": "[encoded data removed]",
      "text/plain": [
       "<Figure size 640x480 with 1 Axes>"
      ]
     },
     "metadata": {},
     "output_type": "display_data"
    }
   ],
   "source": [
    "plot_survived_by_column(titanic_data, 'AgeGroup')"
   ]
  },
  {
   "cell_type": "code",
   "execution_count": 29,
   "id": "481b331b",
   "metadata": {},
   "outputs": [
    {
     "name": "stdout",
     "output_type": "stream",
     "text": [
      "Percentages of survivability\n"
     ]
    },
    {
     "data": {
      "text/plain": [
       "AgeGroup\n",
       "Child    66.666667\n",
       "Teen     42.372881\n",
       "Adult    41.776316\n",
       "Young    32.812500\n",
       "Elder    26.923077\n",
       "dtype: float64"
      ]
     },
     "execution_count": 29,
     "metadata": {},
     "output_type": "execute_result"
    }
   ],
   "source": [
    "print('Percentages of survivability')\n",
    "embarked_survival = titanic_data.groupby('AgeGroup')['Survived'].agg(['count', 'sum'])\n",
    "(embarked_survival['sum'] / embarked_survival['count'] * 100).sort_values(ascending=False)"
   ]
  },
  {
   "cell_type": "markdown",
   "id": "62c1cd08",
   "metadata": {},
   "source": [
    "As expected, the child has the greater survivability, since they had preference to go on the life boats. The elder had the smaller chance of survival, probably because the lack of preferrence and difficulties to get to the life boats."
   ]
  },
  {
   "cell_type": "markdown",
   "id": "c761bc11",
   "metadata": {},
   "source": [
    "### <a id='toc1_3_2_'></a>[One Hot Encoding](#toc0_)\n",
    "One hot encoding the categorical columns to put in the model"
   ]
  },
  {
   "cell_type": "code",
   "execution_count": 30,
   "id": "c779dae9",
   "metadata": {},
   "outputs": [],
   "source": [
    "titanic_data = pd.get_dummies(titanic_data, columns=['Sex', 'Embarked'], drop_first=True)"
   ]
  },
  {
   "cell_type": "markdown",
   "id": "7e8e218f",
   "metadata": {},
   "source": [
    "### <a id='toc1_3_3_'></a>[Final adjust](#toc0_)\n",
    "Let's do a final adjustement to our data by dropping the unecessary columns"
   ]
  },
  {
   "cell_type": "code",
   "execution_count": 31,
   "id": "574944a4",
   "metadata": {},
   "outputs": [
    {
     "data": {
      "text/html": [
       "<div>\n",
       "<style scoped>\n",
       "    .dataframe tbody tr th:only-of-type {\n",
       "        vertical-align: middle;\n",
       "    }\n",
       "\n",
       "    .dataframe tbody tr th {\n",
       "        vertical-align: top;\n",
       "    }\n",
       "\n",
       "    .dataframe thead th {\n",
       "        text-align: right;\n",
       "    }\n",
       "</style>\n",
       "<table border=\"1\" class=\"dataframe\">\n",
       "  <thead>\n",
       "    <tr style=\"text-align: right;\">\n",
       "      <th></th>\n",
       "      <th>Survived</th>\n",
       "      <th>Pclass</th>\n",
       "      <th>Age</th>\n",
       "      <th>SibSp</th>\n",
       "      <th>Parch</th>\n",
       "      <th>Fare</th>\n",
       "      <th>AgeMissing</th>\n",
       "      <th>AgeGroupEn</th>\n",
       "      <th>Sex_male</th>\n",
       "      <th>Embarked_Q</th>\n",
       "      <th>Embarked_S</th>\n",
       "    </tr>\n",
       "    <tr>\n",
       "      <th>PassengerId</th>\n",
       "      <th></th>\n",
       "      <th></th>\n",
       "      <th></th>\n",
       "      <th></th>\n",
       "      <th></th>\n",
       "      <th></th>\n",
       "      <th></th>\n",
       "      <th></th>\n",
       "      <th></th>\n",
       "      <th></th>\n",
       "      <th></th>\n",
       "    </tr>\n",
       "  </thead>\n",
       "  <tbody>\n",
       "    <tr>\n",
       "      <th>1</th>\n",
       "      <td>0</td>\n",
       "      <td>3</td>\n",
       "      <td>22.000000</td>\n",
       "      <td>1</td>\n",
       "      <td>0</td>\n",
       "      <td>7.2500</td>\n",
       "      <td>False</td>\n",
       "      <td>2</td>\n",
       "      <td>1</td>\n",
       "      <td>0</td>\n",
       "      <td>1</td>\n",
       "    </tr>\n",
       "    <tr>\n",
       "      <th>2</th>\n",
       "      <td>1</td>\n",
       "      <td>1</td>\n",
       "      <td>38.000000</td>\n",
       "      <td>1</td>\n",
       "      <td>0</td>\n",
       "      <td>71.2833</td>\n",
       "      <td>False</td>\n",
       "      <td>3</td>\n",
       "      <td>0</td>\n",
       "      <td>0</td>\n",
       "      <td>0</td>\n",
       "    </tr>\n",
       "    <tr>\n",
       "      <th>3</th>\n",
       "      <td>1</td>\n",
       "      <td>3</td>\n",
       "      <td>26.000000</td>\n",
       "      <td>0</td>\n",
       "      <td>0</td>\n",
       "      <td>7.9250</td>\n",
       "      <td>False</td>\n",
       "      <td>2</td>\n",
       "      <td>0</td>\n",
       "      <td>0</td>\n",
       "      <td>1</td>\n",
       "    </tr>\n",
       "    <tr>\n",
       "      <th>4</th>\n",
       "      <td>1</td>\n",
       "      <td>1</td>\n",
       "      <td>35.000000</td>\n",
       "      <td>1</td>\n",
       "      <td>0</td>\n",
       "      <td>53.1000</td>\n",
       "      <td>False</td>\n",
       "      <td>3</td>\n",
       "      <td>0</td>\n",
       "      <td>0</td>\n",
       "      <td>1</td>\n",
       "    </tr>\n",
       "    <tr>\n",
       "      <th>5</th>\n",
       "      <td>0</td>\n",
       "      <td>3</td>\n",
       "      <td>35.000000</td>\n",
       "      <td>0</td>\n",
       "      <td>0</td>\n",
       "      <td>8.0500</td>\n",
       "      <td>False</td>\n",
       "      <td>3</td>\n",
       "      <td>1</td>\n",
       "      <td>0</td>\n",
       "      <td>1</td>\n",
       "    </tr>\n",
       "    <tr>\n",
       "      <th>...</th>\n",
       "      <td>...</td>\n",
       "      <td>...</td>\n",
       "      <td>...</td>\n",
       "      <td>...</td>\n",
       "      <td>...</td>\n",
       "      <td>...</td>\n",
       "      <td>...</td>\n",
       "      <td>...</td>\n",
       "      <td>...</td>\n",
       "      <td>...</td>\n",
       "      <td>...</td>\n",
       "    </tr>\n",
       "    <tr>\n",
       "      <th>887</th>\n",
       "      <td>0</td>\n",
       "      <td>2</td>\n",
       "      <td>27.000000</td>\n",
       "      <td>0</td>\n",
       "      <td>0</td>\n",
       "      <td>13.0000</td>\n",
       "      <td>False</td>\n",
       "      <td>2</td>\n",
       "      <td>1</td>\n",
       "      <td>0</td>\n",
       "      <td>1</td>\n",
       "    </tr>\n",
       "    <tr>\n",
       "      <th>888</th>\n",
       "      <td>1</td>\n",
       "      <td>1</td>\n",
       "      <td>19.000000</td>\n",
       "      <td>0</td>\n",
       "      <td>0</td>\n",
       "      <td>30.0000</td>\n",
       "      <td>False</td>\n",
       "      <td>2</td>\n",
       "      <td>0</td>\n",
       "      <td>0</td>\n",
       "      <td>1</td>\n",
       "    </tr>\n",
       "    <tr>\n",
       "      <th>889</th>\n",
       "      <td>0</td>\n",
       "      <td>3</td>\n",
       "      <td>29.699118</td>\n",
       "      <td>1</td>\n",
       "      <td>2</td>\n",
       "      <td>23.4500</td>\n",
       "      <td>True</td>\n",
       "      <td>2</td>\n",
       "      <td>0</td>\n",
       "      <td>0</td>\n",
       "      <td>1</td>\n",
       "    </tr>\n",
       "    <tr>\n",
       "      <th>890</th>\n",
       "      <td>1</td>\n",
       "      <td>1</td>\n",
       "      <td>26.000000</td>\n",
       "      <td>0</td>\n",
       "      <td>0</td>\n",
       "      <td>30.0000</td>\n",
       "      <td>False</td>\n",
       "      <td>2</td>\n",
       "      <td>1</td>\n",
       "      <td>0</td>\n",
       "      <td>0</td>\n",
       "    </tr>\n",
       "    <tr>\n",
       "      <th>891</th>\n",
       "      <td>0</td>\n",
       "      <td>3</td>\n",
       "      <td>32.000000</td>\n",
       "      <td>0</td>\n",
       "      <td>0</td>\n",
       "      <td>7.7500</td>\n",
       "      <td>False</td>\n",
       "      <td>3</td>\n",
       "      <td>1</td>\n",
       "      <td>1</td>\n",
       "      <td>0</td>\n",
       "    </tr>\n",
       "  </tbody>\n",
       "</table>\n",
       "<p>891 rows × 11 columns</p>\n",
       "</div>"
      ],
      "text/plain": [
       "             Survived  Pclass        Age  SibSp  Parch     Fare  AgeMissing  \\\n",
       "PassengerId                                                                   \n",
       "1                   0       3  22.000000      1      0   7.2500       False   \n",
       "2                   1       1  38.000000      1      0  71.2833       False   \n",
       "3                   1       3  26.000000      0      0   7.9250       False   \n",
       "4                   1       1  35.000000      1      0  53.1000       False   \n",
       "5                   0       3  35.000000      0      0   8.0500       False   \n",
       "...               ...     ...        ...    ...    ...      ...         ...   \n",
       "887                 0       2  27.000000      0      0  13.0000       False   \n",
       "888                 1       1  19.000000      0      0  30.0000       False   \n",
       "889                 0       3  29.699118      1      2  23.4500        True   \n",
       "890                 1       1  26.000000      0      0  30.0000       False   \n",
       "891                 0       3  32.000000      0      0   7.7500       False   \n",
       "\n",
       "             AgeGroupEn  Sex_male  Embarked_Q  Embarked_S  \n",
       "PassengerId                                                \n",
       "1                     2         1           0           1  \n",
       "2                     3         0           0           0  \n",
       "3                     2         0           0           1  \n",
       "4                     3         0           0           1  \n",
       "5                     3         1           0           1  \n",
       "...                 ...       ...         ...         ...  \n",
       "887                   2         1           0           1  \n",
       "888                   2         0           0           1  \n",
       "889                   2         0           0           1  \n",
       "890                   2         1           0           0  \n",
       "891                   3         1           1           0  \n",
       "\n",
       "[891 rows x 11 columns]"
      ]
     },
     "execution_count": 31,
     "metadata": {},
     "output_type": "execute_result"
    }
   ],
   "source": [
    "titanic_data.drop(columns=['Name', 'Ticket', 'AgeGroup'])"
   ]
  },
  {
   "cell_type": "markdown",
   "id": "2d045707",
   "metadata": {},
   "source": [
    "### <a id='toc1_3_4_'></a>[Correlations with output](#toc0_)\n",
    "Out target is a binary variable. To correlate with it, we are going to use:\n",
    "\n",
    "- point biserial correlation for continuous variables\n",
    "- Matthews correlation cofficient for boolean variables\n",
    "\n",
    "Both range from -1 to 1 , with negative values indicating negative correlation (higher the value of the variable, less chance of surviving) and positive values indicating positive correlation (higher the value of the variable, more chance of surviving)"
   ]
  },
  {
   "cell_type": "code",
   "execution_count": 32,
   "id": "3ee4da3a",
   "metadata": {},
   "outputs": [
    {
     "data": {
      "text/plain": [
       "Survived        int64\n",
       "Pclass          int64\n",
       "Name           object\n",
       "Age           float64\n",
       "SibSp           int64\n",
       "Parch           int64\n",
       "Ticket         object\n",
       "Fare          float64\n",
       "AgeMissing       bool\n",
       "AgeGroup       object\n",
       "AgeGroupEn      int64\n",
       "Sex_male        uint8\n",
       "Embarked_Q      uint8\n",
       "Embarked_S      uint8\n",
       "dtype: object"
      ]
     },
     "execution_count": 32,
     "metadata": {},
     "output_type": "execute_result"
    }
   ],
   "source": [
    "titanic_data.dtypes"
   ]
  },
  {
   "cell_type": "code",
   "execution_count": 33,
   "id": "a71fe005",
   "metadata": {},
   "outputs": [
    {
     "data": {
      "text/plain": [
       "Text(0.5, 0, 'Correlation')"
      ]
     },
     "execution_count": 33,
     "metadata": {},
     "output_type": "execute_result"
    },
    {
     "data": {
      "image/png": "[encoded data removed]",
      "text/plain": [
       "<Figure size 640x480 with 1 Axes>"
      ]
     },
     "metadata": {},
     "output_type": "display_data"
    }
   ],
   "source": [
    "from scipy.stats import pointbiserialr\n",
    "from sklearn.metrics import matthews_corrcoef\n",
    "\n",
    "cols_continuous = [\"Pclass\", \"SibSp\", \"Parch\", \"Fare\", \"Age\", \"AgeGroupEn\"]\n",
    "corr = []\n",
    "for col in cols_continuous:\n",
    "    corr.append(pointbiserialr(titanic_data['Survived'], titanic_data[col]).statistic)\n",
    "    \n",
    "cols_bool = ['Sex_male', 'Embarked_Q', 'Embarked_S', \"AgeMissing\"]\n",
    "for col in cols_bool:\n",
    "    corr.append(matthews_corrcoef(titanic_data['Survived'], titanic_data[col]))\n",
    "    \n",
    "plt.barh(cols_continuous + cols_bool, corr)\n",
    "plt.axvline(0, color='red')\n",
    "plt.title(\"Relationships of variables and survived\")\n",
    "plt.xlabel(\"Correlation\")"
   ]
  },
  {
   "cell_type": "markdown",
   "id": "cc2dcd83",
   "metadata": {},
   "source": [
    "The negative values indicate less chance of surviving. \n",
    "\n",
    "It makes sense, for example, that Sex_male has a strong negative since man had less chance of surviving. \n",
    "\n",
    "A higher Fare indicates a better financial condition and better chance of surviving because of it.\n",
    "\n",
    "A higher Pclass (that means lower financial value, 3 is the lowest and 1 the highest), means less chance of surviving"
   ]
  },
  {
   "cell_type": "code",
   "execution_count": 34,
   "id": "f365a594",
   "metadata": {},
   "outputs": [
    {
     "data": {
      "text/plain": [
       "Text(0.5, 0, 'Correlation')"
      ]
     },
     "execution_count": 34,
     "metadata": {},
     "output_type": "execute_result"
    },
    {
     "data": {
      "image/png": "[encoded data removed]",
      "text/plain": [
       "<Figure size 640x480 with 1 Axes>"
      ]
     },
     "metadata": {},
     "output_type": "display_data"
    }
   ],
   "source": [
    "plt.barh(cols_continuous + cols_bool, [abs(c) for c in corr])\n",
    "plt.axvline(0, color='red')\n",
    "plt.title(\"Relationships of variables and survived, absolute values\")\n",
    "plt.xlabel(\"Correlation\")"
   ]
  },
  {
   "cell_type": "markdown",
   "id": "b5569cfc",
   "metadata": {},
   "source": [
    "Here we can see the correlations. Sex have a very strong correlation, Pclass too.\n",
    "\n",
    "Age group encoded has a little more than age, so we are going to maintain the groups and drop the Age"
   ]
  },
  {
   "cell_type": "markdown",
   "id": "25419c48",
   "metadata": {},
   "source": [
    "### <a id='toc1_3_5_'></a>[Final function](#toc0_)\n",
    "Build a function that does all the treatment nedded\n"
   ]
  },
  {
   "cell_type": "code",
   "execution_count": 35,
   "id": "be161eb0",
   "metadata": {},
   "outputs": [],
   "source": [
    "def data_process(raw_titanic_data):\n",
    "    \"\"\"Process the raw titanic data and get it ready to modelling\n",
    "    \"\"\"\n",
    "    \n",
    "    titanic_data = raw_titanic_data.copy()\n",
    "    \n",
    "    # marking the missing ages.\n",
    "    titanic_data['AgeMissing'] = False\n",
    "    titanic_data.loc[titanic_data['Age'].isna(), 'AgeMissing'] = True\n",
    "    \n",
    "    # filling the embarked with mode\n",
    "    emb_mode = titanic_data['Embarked'].mode()[0]\n",
    "    titanic_data['Embarked'] = titanic_data['Embarked'].fillna(emb_mode)\n",
    "\n",
    "    # filling the age with mean\n",
    "    age_mean = titanic_data['Age'].mean()\n",
    "    titanic_data['Age'] = titanic_data['Age'].fillna(age_mean)\n",
    "\n",
    "    # cabin drop\n",
    "    titanic_data = titanic_data.drop(columns=['Cabin'])\n",
    "    \n",
    "    titanic_data = groups_of_age(titanic_data)\n",
    "    \n",
    "    titanic_data = pd.get_dummies(titanic_data, columns=['Sex', 'Embarked'], drop_first=True)\n",
    "    \n",
    "    titanic_data = titanic_data.drop(columns=['Name', 'Ticket', 'AgeGroup', 'Age'])\n",
    "    \n",
    "    return titanic_data"
   ]
  },
  {
   "cell_type": "markdown",
   "id": "0e6c6438",
   "metadata": {},
   "source": [
    "## <a id='toc1_4_'></a>[Model](#toc0_)\n",
    "\n",
    "To do our model, we will first use Random Forest, that is good for a first choose of model, because it is robust to outliers, does feature selection automatically, etc.\n",
    "\n",
    "We will use cross validation to do hyperparameter tuning of our model, using KFolds, and GridSearch.\n",
    "\n",
    "We already have our test data separed, so let's divide the data into train and validation"
   ]
  },
  {
   "cell_type": "code",
   "execution_count": 36,
   "id": "1fddb4f1",
   "metadata": {},
   "outputs": [],
   "source": [
    "titanic_data = data_process(raw_titanic_data)\n",
    "target = 'Survived'\n",
    "X = titanic_data[[col for col in titanic_data.columns if col != target]]\n",
    "y = titanic_data[target]"
   ]
  },
  {
   "cell_type": "code",
   "execution_count": 37,
   "id": "9c66c447",
   "metadata": {
    "execution": {
     "iopub.execute_input": "2023-07-26T20:49:44.959338Z",
     "iopub.status.busy": "2023-07-26T20:49:44.958033Z",
     "iopub.status.idle": "2023-07-26T20:49:44.966400Z",
     "shell.execute_reply": "2023-07-26T20:49:44.965321Z"
    },
    "papermill": {
     "duration": 0.040678,
     "end_time": "2023-07-26T20:49:44.968858",
     "exception": false,
     "start_time": "2023-07-26T20:49:44.928180",
     "status": "completed"
    },
    "tags": []
   },
   "outputs": [
    {
     "name": "stdout",
     "output_type": "stream",
     "text": [
      "Fitting 4 folds for each of 504 candidates, totalling 2016 fits\n",
      "Best hyperparameters: {'criterion': 'gini', 'max_depth': 6, 'max_features': 'sqrt', 'n_estimators': 200}\n"
     ]
    }
   ],
   "source": [
    "from sklearn.ensemble import RandomForestClassifier\n",
    "from sklearn.model_selection import GridSearchCV\n",
    "\n",
    "# since our data is small, we can do a big grid search in resoanable time\n",
    "param_grid = {\n",
    "    'max_depth': range(1, 15),\n",
    "    'max_features': [1, 'sqrt', 'log2'],\n",
    "    'n_estimators': [10, 50, 100, 200, 500, 1000],\n",
    "    'criterion': ['gini', 'entropy']\n",
    "}\n",
    "\n",
    "model = RandomForestClassifier(random_state=rstate)\n",
    "\n",
    "grid_search = GridSearchCV(model, param_grid, scoring='accuracy', cv=4, return_train_score=True, verbose=1, n_jobs=-3)\n",
    "\n",
    "grid_search.fit(X, y)\n",
    "\n",
    "best_params = grid_search.best_params_\n",
    "print(\"Best hyperparameters:\", best_params)\n",
    "# filtering the results\n",
    "results = pd.DataFrame(grid_search.cv_results_)\n",
    "relevant_columns = ['mean_train_score', 'mean_test_score'] + ['param_' + x for x in param_grid.keys()]\n",
    "results = results[relevant_columns]\n",
    "results = results.sort_values('mean_test_score', ascending=False)\n",
    "\n",
    "# invert the signal for better vizualization\n",
    "results[['mean_train_score', 'mean_test_score']] = - results[['mean_train_score', 'mean_test_score']]"
   ]
  },
  {
   "cell_type": "code",
   "execution_count": 38,
   "id": "c889e4df",
   "metadata": {},
   "outputs": [
    {
     "data": {
      "text/html": [
       "<div>\n",
       "<style scoped>\n",
       "    .dataframe tbody tr th:only-of-type {\n",
       "        vertical-align: middle;\n",
       "    }\n",
       "\n",
       "    .dataframe tbody tr th {\n",
       "        vertical-align: top;\n",
       "    }\n",
       "\n",
       "    .dataframe thead th {\n",
       "        text-align: right;\n",
       "    }\n",
       "</style>\n",
       "<table border=\"1\" class=\"dataframe\">\n",
       "  <thead>\n",
       "    <tr style=\"text-align: right;\">\n",
       "      <th></th>\n",
       "      <th>mean_train_score</th>\n",
       "      <th>mean_test_score</th>\n",
       "      <th>param_max_depth</th>\n",
       "      <th>param_max_features</th>\n",
       "      <th>param_n_estimators</th>\n",
       "      <th>param_criterion</th>\n",
       "    </tr>\n",
       "  </thead>\n",
       "  <tbody>\n",
       "    <tr>\n",
       "      <th>99</th>\n",
       "      <td>-0.867565</td>\n",
       "      <td>-0.835035</td>\n",
       "      <td>6</td>\n",
       "      <td>sqrt</td>\n",
       "      <td>200</td>\n",
       "      <td>gini</td>\n",
       "    </tr>\n",
       "    <tr>\n",
       "      <th>105</th>\n",
       "      <td>-0.867565</td>\n",
       "      <td>-0.835035</td>\n",
       "      <td>6</td>\n",
       "      <td>log2</td>\n",
       "      <td>200</td>\n",
       "      <td>gini</td>\n",
       "    </tr>\n",
       "    <tr>\n",
       "      <th>370</th>\n",
       "      <td>-0.886272</td>\n",
       "      <td>-0.835030</td>\n",
       "      <td>7</td>\n",
       "      <td>sqrt</td>\n",
       "      <td>500</td>\n",
       "      <td>entropy</td>\n",
       "    </tr>\n",
       "    <tr>\n",
       "      <th>351</th>\n",
       "      <td>-0.866816</td>\n",
       "      <td>-0.835030</td>\n",
       "      <td>6</td>\n",
       "      <td>sqrt</td>\n",
       "      <td>200</td>\n",
       "      <td>entropy</td>\n",
       "    </tr>\n",
       "    <tr>\n",
       "      <th>357</th>\n",
       "      <td>-0.866816</td>\n",
       "      <td>-0.835030</td>\n",
       "      <td>6</td>\n",
       "      <td>log2</td>\n",
       "      <td>200</td>\n",
       "      <td>entropy</td>\n",
       "    </tr>\n",
       "    <tr>\n",
       "      <th>376</th>\n",
       "      <td>-0.886272</td>\n",
       "      <td>-0.835030</td>\n",
       "      <td>7</td>\n",
       "      <td>log2</td>\n",
       "      <td>500</td>\n",
       "      <td>entropy</td>\n",
       "    </tr>\n",
       "    <tr>\n",
       "      <th>395</th>\n",
       "      <td>-0.905726</td>\n",
       "      <td>-0.835025</td>\n",
       "      <td>8</td>\n",
       "      <td>log2</td>\n",
       "      <td>1000</td>\n",
       "      <td>entropy</td>\n",
       "    </tr>\n",
       "    <tr>\n",
       "      <th>394</th>\n",
       "      <td>-0.905350</td>\n",
       "      <td>-0.835025</td>\n",
       "      <td>8</td>\n",
       "      <td>log2</td>\n",
       "      <td>500</td>\n",
       "      <td>entropy</td>\n",
       "    </tr>\n",
       "    <tr>\n",
       "      <th>389</th>\n",
       "      <td>-0.905726</td>\n",
       "      <td>-0.835025</td>\n",
       "      <td>8</td>\n",
       "      <td>sqrt</td>\n",
       "      <td>1000</td>\n",
       "      <td>entropy</td>\n",
       "    </tr>\n",
       "    <tr>\n",
       "      <th>388</th>\n",
       "      <td>-0.905350</td>\n",
       "      <td>-0.835025</td>\n",
       "      <td>8</td>\n",
       "      <td>sqrt</td>\n",
       "      <td>500</td>\n",
       "      <td>entropy</td>\n",
       "    </tr>\n",
       "  </tbody>\n",
       "</table>\n",
       "</div>"
      ],
      "text/plain": [
       "     mean_train_score  mean_test_score param_max_depth param_max_features  \\\n",
       "99          -0.867565        -0.835035               6               sqrt   \n",
       "105         -0.867565        -0.835035               6               log2   \n",
       "370         -0.886272        -0.835030               7               sqrt   \n",
       "351         -0.866816        -0.835030               6               sqrt   \n",
       "357         -0.866816        -0.835030               6               log2   \n",
       "376         -0.886272        -0.835030               7               log2   \n",
       "395         -0.905726        -0.835025               8               log2   \n",
       "394         -0.905350        -0.835025               8               log2   \n",
       "389         -0.905726        -0.835025               8               sqrt   \n",
       "388         -0.905350        -0.835025               8               sqrt   \n",
       "\n",
       "    param_n_estimators param_criterion  \n",
       "99                 200            gini  \n",
       "105                200            gini  \n",
       "370                500         entropy  \n",
       "351                200         entropy  \n",
       "357                200         entropy  \n",
       "376                500         entropy  \n",
       "395               1000         entropy  \n",
       "394                500         entropy  \n",
       "389               1000         entropy  \n",
       "388                500         entropy  "
      ]
     },
     "execution_count": 38,
     "metadata": {},
     "output_type": "execute_result"
    }
   ],
   "source": [
    "results.head(10)"
   ]
  },
  {
   "cell_type": "code",
   "execution_count": 39,
   "id": "ee3e747d",
   "metadata": {},
   "outputs": [],
   "source": [
    "# useful functions for hyperparameter analysis\n",
    "\n",
    "def plot_train_validation_score_curve(results, param):\n",
    "    \"\"\"Plot the train x validation score curve to localize where overfit begins to happen\"\"\"\n",
    "    results_p = results.sort_values(param)\n",
    "\n",
    "    plt.plot(results_p[param], results_p['mean_train_score'], marker='x', label='Train score')\n",
    "    plt.plot(results_p[param], results_p['mean_test_score'], marker='o', label='Test Score')\n",
    "    plt.xlabel(param)\n",
    "    plt.ylabel('score')\n",
    "    plt.legend()\n",
    "    \n",
    "\n",
    "def plot_train_validation_score_curve_all(results, param, show_tests=True):\n",
    "    \"\"\"Plot the train x validation score curve to localize where overfit begins to happen\n",
    "    Plot a mean curve, and individual tests\"\"\"\n",
    "    results = results.sort_values(param)\n",
    "\n",
    "    if show_tests:\n",
    "        plt.scatter(results[param], results['mean_train_score'], marker='x', label='train scores', alpha=0.5)\n",
    "        \n",
    "    plt.plot(results[param].unique(), results.groupby(param)['mean_train_score'].mean(), marker='o', label='Train score mean')\n",
    "\n",
    "    if show_tests:\n",
    "        plt.scatter(results[param], results['mean_test_score'], label='test_scores', marker='x', alpha=0.5)\n",
    "        \n",
    "    plt.plot(results[param].unique(), results.groupby(param)['mean_test_score'].mean(),marker='o', label='Test score mean')\n",
    "\n",
    "    plt.xlabel(param)\n",
    "    plt.ylabel('Score')\n",
    "    plt.legend()\n",
    "    \n",
    "    \n",
    "def plot_variation_score(results):\n",
    "    \"\"\"Plot the variation of the score when a hyperparameter changes individually\n",
    "    This can show how much impact this hyperparameter has on the model\"\"\"\n",
    "    params = [col for col in results.columns if col.startswith('param_')]\n",
    "    params_std = []\n",
    "    for param in params:\n",
    "        std = results.groupby(param)['mean_test_score'].mean().std()\n",
    "        params_std.append(std)\n",
    "        \n",
    "    plt.barh(params, params_std)\n",
    "    plt.xlabel('std')\n",
    "    \n",
    "    \n",
    "def plot_feature_importances(model):\n",
    "    \"\"\"Plot the feature importance bars for a model\n",
    "    \"\"\"\n",
    "    importances = model.feature_importances_\n",
    "    forest_importances = pd.Series(importances, index=X.columns).sort_values(ascending=False)\n",
    "    fig, ax = plt.subplots(figsize=(12,5))\n",
    "    forest_importances[:20].plot.barh(ax=ax).invert_yaxis()\n",
    "    ax.set_title(\"Feature importances for prediction\")\n",
    "    ax.set_ylabel(\"Top most important features\")\n",
    "    ax.set_xlabel('Importance')\n",
    "    fig.tight_layout()"
   ]
  },
  {
   "cell_type": "code",
   "execution_count": 40,
   "id": "ff80837a",
   "metadata": {},
   "outputs": [
    {
     "data": {
      "image/png": "[encoded data removed]",
      "text/plain": [
       "<Figure size 640x480 with 1 Axes>"
      ]
     },
     "metadata": {},
     "output_type": "display_data"
    }
   ],
   "source": [
    "plot_variation_score(results)"
   ]
  },
  {
   "cell_type": "code",
   "execution_count": 41,
   "id": "65d240fb",
   "metadata": {},
   "outputs": [
    {
     "data": {
      "image/png": "[encoded data removed]",
      "text/plain": [
       "<Figure size 640x480 with 1 Axes>"
      ]
     },
     "metadata": {},
     "output_type": "display_data"
    }
   ],
   "source": [
    "plot_train_validation_score_curve_all(results, 'param_max_depth')"
   ]
  },
  {
   "cell_type": "markdown",
   "id": "cdaa4cbe",
   "metadata": {},
   "source": [
    "The overfit starts on 6, so 6 seems a good choice"
   ]
  },
  {
   "cell_type": "code",
   "execution_count": 42,
   "id": "5506f76d",
   "metadata": {},
   "outputs": [
    {
     "data": {
      "image/png": "[encoded data removed]",
      "text/plain": [
       "<Figure size 640x480 with 1 Axes>"
      ]
     },
     "metadata": {},
     "output_type": "display_data"
    }
   ],
   "source": [
    "plot_train_validation_score_curve_all(results, 'param_n_estimators', show_tests=False)"
   ]
  },
  {
   "cell_type": "markdown",
   "id": "18c5b170",
   "metadata": {},
   "source": [
    "Anything above 200 seems a good choice"
   ]
  },
  {
   "cell_type": "code",
   "execution_count": 43,
   "id": "25006e5f",
   "metadata": {},
   "outputs": [
    {
     "data": {
      "text/plain": [
       "<Axes: xlabel='param_max_features', ylabel='mean_test_score'>"
      ]
     },
     "execution_count": 43,
     "metadata": {},
     "output_type": "execute_result"
    },
    {
     "data": {
      "image/png": "[encoded data removed]",
      "text/plain": [
       "<Figure size 640x480 with 1 Axes>"
      ]
     },
     "metadata": {},
     "output_type": "display_data"
    }
   ],
   "source": [
    "sns.boxplot(results, x='param_max_features', y='mean_test_score')"
   ]
  },
  {
   "cell_type": "code",
   "execution_count": 44,
   "id": "dce9db46",
   "metadata": {},
   "outputs": [
    {
     "data": {
      "text/plain": [
       "<Axes: xlabel='param_criterion', ylabel='mean_test_score'>"
      ]
     },
     "execution_count": 44,
     "metadata": {},
     "output_type": "execute_result"
    },
    {
     "data": {
      "image/png": "[encoded data removed]",
      "text/plain": [
       "<Figure size 640x480 with 1 Axes>"
      ]
     },
     "metadata": {},
     "output_type": "display_data"
    }
   ],
   "source": [
    "sns.boxplot(results, x='param_criterion', y='mean_test_score')"
   ]
  },
  {
   "cell_type": "markdown",
   "id": "b5d28761",
   "metadata": {},
   "source": [
    "For this one, it's hard to know looking isolate, but sqrt gives better results on general.\n"
   ]
  },
  {
   "cell_type": "code",
   "execution_count": 45,
   "id": "25539829",
   "metadata": {},
   "outputs": [
    {
     "data": {
      "text/html": [
       "<style>#sk-container-id-1 {color: black;}#sk-container-id-1 pre{padding: 0;}#sk-container-id-1 div.sk-toggleable {background-color: white;}#sk-container-id-1 label.sk-toggleable__label {cursor: pointer;display: block;width: 100%;margin-bottom: 0;padding: 0.3em;box-sizing: border-box;text-align: center;}#sk-container-id-1 label.sk-toggleable__label-arrow:before {content: \"▸\";float: left;margin-right: 0.25em;color: #696969;}#sk-container-id-1 label.sk-toggleable__label-arrow:hover:before {color: black;}#sk-container-id-1 div.sk-estimator:hover label.sk-toggleable__label-arrow:before {color: black;}#sk-container-id-1 div.sk-toggleable__content {max-height: 0;max-width: 0;overflow: hidden;text-align: left;background-color: #f0f8ff;}#sk-container-id-1 div.sk-toggleable__content pre {margin: 0.2em;color: black;border-radius: 0.25em;background-color: #f0f8ff;}#sk-container-id-1 input.sk-toggleable__control:checked~div.sk-toggleable__content {max-height: 200px;max-width: 100%;overflow: auto;}#sk-container-id-1 input.sk-toggleable__control:checked~label.sk-toggleable__label-arrow:before {content: \"▾\";}#sk-container-id-1 div.sk-estimator input.sk-toggleable__control:checked~label.sk-toggleable__label {background-color: #d4ebff;}#sk-container-id-1 div.sk-label input.sk-toggleable__control:checked~label.sk-toggleable__label {background-color: #d4ebff;}#sk-container-id-1 input.sk-hidden--visually {border: 0;clip: rect(1px 1px 1px 1px);clip: rect(1px, 1px, 1px, 1px);height: 1px;margin: -1px;overflow: hidden;padding: 0;position: absolute;width: 1px;}#sk-container-id-1 div.sk-estimator {font-family: monospace;background-color: #f0f8ff;border: 1px dotted black;border-radius: 0.25em;box-sizing: border-box;margin-bottom: 0.5em;}#sk-container-id-1 div.sk-estimator:hover {background-color: #d4ebff;}#sk-container-id-1 div.sk-parallel-item::after {content: \"\";width: 100%;border-bottom: 1px solid gray;flex-grow: 1;}#sk-container-id-1 div.sk-label:hover label.sk-toggleable__label {background-color: #d4ebff;}#sk-container-id-1 div.sk-serial::before {content: \"\";position: absolute;border-left: 1px solid gray;box-sizing: border-box;top: 0;bottom: 0;left: 50%;z-index: 0;}#sk-container-id-1 div.sk-serial {display: flex;flex-direction: column;align-items: center;background-color: white;padding-right: 0.2em;padding-left: 0.2em;position: relative;}#sk-container-id-1 div.sk-item {position: relative;z-index: 1;}#sk-container-id-1 div.sk-parallel {display: flex;align-items: stretch;justify-content: center;background-color: white;position: relative;}#sk-container-id-1 div.sk-item::before, #sk-container-id-1 div.sk-parallel-item::before {content: \"\";position: absolute;border-left: 1px solid gray;box-sizing: border-box;top: 0;bottom: 0;left: 50%;z-index: -1;}#sk-container-id-1 div.sk-parallel-item {display: flex;flex-direction: column;z-index: 1;position: relative;background-color: white;}#sk-container-id-1 div.sk-parallel-item:first-child::after {align-self: flex-end;width: 50%;}#sk-container-id-1 div.sk-parallel-item:last-child::after {align-self: flex-start;width: 50%;}#sk-container-id-1 div.sk-parallel-item:only-child::after {width: 0;}#sk-container-id-1 div.sk-dashed-wrapped {border: 1px dashed gray;margin: 0 0.4em 0.5em 0.4em;box-sizing: border-box;padding-bottom: 0.4em;background-color: white;}#sk-container-id-1 div.sk-label label {font-family: monospace;font-weight: bold;display: inline-block;line-height: 1.2em;}#sk-container-id-1 div.sk-label-container {text-align: center;}#sk-container-id-1 div.sk-container {/* jupyter's `normalize.less` sets `[hidden] { display: none; }` but bootstrap.min.css set `[hidden] { display: none !important; }` so we also need the `!important` here to be able to override the default hidden behavior on the sphinx rendered scikit-learn.org. See: https://github.com/scikit-learn/scikit-learn/issues/21755 */display: inline-block !important;position: relative;}#sk-container-id-1 div.sk-text-repr-fallback {display: none;}</style><div id=\"sk-container-id-1\" class=\"sk-top-container\"><div class=\"sk-text-repr-fallback\"><pre>RandomForestClassifier(max_depth=6, max_features=&#x27;log2&#x27;, n_estimators=200,\n",
       "                       random_state=7)</pre><b>In a Jupyter environment, please rerun this cell to show the HTML representation or trust the notebook. <br />On GitHub, the HTML representation is unable to render, please try loading this page with nbviewer.org.</b></div><div class=\"sk-container\" hidden><div class=\"sk-item\"><div class=\"sk-estimator sk-toggleable\"><input class=\"sk-toggleable__control sk-hidden--visually\" id=\"sk-estimator-id-1\" type=\"checkbox\" checked><label for=\"sk-estimator-id-1\" class=\"sk-toggleable__label sk-toggleable__label-arrow\">RandomForestClassifier</label><div class=\"sk-toggleable__content\"><pre>RandomForestClassifier(max_depth=6, max_features=&#x27;log2&#x27;, n_estimators=200,\n",
       "                       random_state=7)</pre></div></div></div></div></div>"
      ],
      "text/plain": [
       "RandomForestClassifier(max_depth=6, max_features='log2', n_estimators=200,\n",
       "                       random_state=7)"
      ]
     },
     "execution_count": 45,
     "metadata": {},
     "output_type": "execute_result"
    }
   ],
   "source": [
    "final_model = RandomForestClassifier(max_depth=6, max_features='log2', n_estimators=200, random_state=rstate)\n",
    "final_model.fit(X, y)"
   ]
  },
  {
   "cell_type": "code",
   "execution_count": 46,
   "id": "e75024fd",
   "metadata": {},
   "outputs": [
    {
     "data": {
      "image/png": "[encoded data removed]",
      "text/plain": [
       "<Figure size 1200x500 with 1 Axes>"
      ]
     },
     "metadata": {},
     "output_type": "display_data"
    }
   ],
   "source": [
    "plot_feature_importances(final_model)\n",
    "# higher values means more importance"
   ]
  },
  {
   "cell_type": "markdown",
   "id": "a06f1188",
   "metadata": {},
   "source": [
    "As expected by the correlation analysis, the most important feature are the sex, followed by fare and PClass, two that relates with the financial condition, and AgeGroups in next.\n",
    "\n",
    "Our model is learning interpretable insights from the data, we can imagine how it makes assumptions and predict the values."
   ]
  },
  {
   "cell_type": "markdown",
   "id": "d2f6441a",
   "metadata": {},
   "source": [
    "## <a id='toc1_5_'></a>[Test data](#toc0_)\n",
    "\n",
    "Process the test data for submission on Kaggle"
   ]
  },
  {
   "cell_type": "code",
   "execution_count": 47,
   "id": "5e1107b2",
   "metadata": {},
   "outputs": [
    {
     "name": "stdout",
     "output_type": "stream",
     "text": [
      "<class 'pandas.core.frame.DataFrame'>\n",
      "Int64Index: 418 entries, 892 to 1309\n",
      "Data columns (total 10 columns):\n",
      " #   Column    Non-Null Count  Dtype  \n",
      "---  ------    --------------  -----  \n",
      " 0   Pclass    418 non-null    int64  \n",
      " 1   Name      418 non-null    object \n",
      " 2   Sex       418 non-null    object \n",
      " 3   Age       332 non-null    float64\n",
      " 4   SibSp     418 non-null    int64  \n",
      " 5   Parch     418 non-null    int64  \n",
      " 6   Ticket    418 non-null    object \n",
      " 7   Fare      417 non-null    float64\n",
      " 8   Cabin     91 non-null     object \n",
      " 9   Embarked  418 non-null    object \n",
      "dtypes: float64(2), int64(3), object(5)\n",
      "memory usage: 35.9+ KB\n"
     ]
    }
   ],
   "source": [
    "test_data = pd.read_csv('data/titanic/test.csv', index_col=\"PassengerId\")\n",
    "test_data.info()"
   ]
  },
  {
   "cell_type": "markdown",
   "id": "ad117e67",
   "metadata": {},
   "source": [
    "Different from the train data, here we have missing value on Fare. It's only one value, so let's impute the mean and do the process done on the train data"
   ]
  },
  {
   "cell_type": "code",
   "execution_count": 48,
   "id": "735c84c5",
   "metadata": {},
   "outputs": [
    {
     "data": {
      "text/html": [
       "<div>\n",
       "<style scoped>\n",
       "    .dataframe tbody tr th:only-of-type {\n",
       "        vertical-align: middle;\n",
       "    }\n",
       "\n",
       "    .dataframe tbody tr th {\n",
       "        vertical-align: top;\n",
       "    }\n",
       "\n",
       "    .dataframe thead th {\n",
       "        text-align: right;\n",
       "    }\n",
       "</style>\n",
       "<table border=\"1\" class=\"dataframe\">\n",
       "  <thead>\n",
       "    <tr style=\"text-align: right;\">\n",
       "      <th></th>\n",
       "      <th>Pclass</th>\n",
       "      <th>SibSp</th>\n",
       "      <th>Parch</th>\n",
       "      <th>Fare</th>\n",
       "      <th>AgeMissing</th>\n",
       "      <th>AgeGroupEn</th>\n",
       "      <th>Sex_male</th>\n",
       "      <th>Embarked_Q</th>\n",
       "      <th>Embarked_S</th>\n",
       "    </tr>\n",
       "    <tr>\n",
       "      <th>PassengerId</th>\n",
       "      <th></th>\n",
       "      <th></th>\n",
       "      <th></th>\n",
       "      <th></th>\n",
       "      <th></th>\n",
       "      <th></th>\n",
       "      <th></th>\n",
       "      <th></th>\n",
       "      <th></th>\n",
       "    </tr>\n",
       "  </thead>\n",
       "  <tbody>\n",
       "    <tr>\n",
       "      <th>892</th>\n",
       "      <td>3</td>\n",
       "      <td>0</td>\n",
       "      <td>0</td>\n",
       "      <td>7.8292</td>\n",
       "      <td>False</td>\n",
       "      <td>3</td>\n",
       "      <td>1</td>\n",
       "      <td>1</td>\n",
       "      <td>0</td>\n",
       "    </tr>\n",
       "    <tr>\n",
       "      <th>893</th>\n",
       "      <td>3</td>\n",
       "      <td>1</td>\n",
       "      <td>0</td>\n",
       "      <td>7.0000</td>\n",
       "      <td>False</td>\n",
       "      <td>3</td>\n",
       "      <td>0</td>\n",
       "      <td>0</td>\n",
       "      <td>1</td>\n",
       "    </tr>\n",
       "    <tr>\n",
       "      <th>894</th>\n",
       "      <td>2</td>\n",
       "      <td>0</td>\n",
       "      <td>0</td>\n",
       "      <td>9.6875</td>\n",
       "      <td>False</td>\n",
       "      <td>4</td>\n",
       "      <td>1</td>\n",
       "      <td>1</td>\n",
       "      <td>0</td>\n",
       "    </tr>\n",
       "    <tr>\n",
       "      <th>895</th>\n",
       "      <td>3</td>\n",
       "      <td>0</td>\n",
       "      <td>0</td>\n",
       "      <td>8.6625</td>\n",
       "      <td>False</td>\n",
       "      <td>2</td>\n",
       "      <td>1</td>\n",
       "      <td>0</td>\n",
       "      <td>1</td>\n",
       "    </tr>\n",
       "    <tr>\n",
       "      <th>896</th>\n",
       "      <td>3</td>\n",
       "      <td>1</td>\n",
       "      <td>1</td>\n",
       "      <td>12.2875</td>\n",
       "      <td>False</td>\n",
       "      <td>2</td>\n",
       "      <td>0</td>\n",
       "      <td>0</td>\n",
       "      <td>1</td>\n",
       "    </tr>\n",
       "    <tr>\n",
       "      <th>...</th>\n",
       "      <td>...</td>\n",
       "      <td>...</td>\n",
       "      <td>...</td>\n",
       "      <td>...</td>\n",
       "      <td>...</td>\n",
       "      <td>...</td>\n",
       "      <td>...</td>\n",
       "      <td>...</td>\n",
       "      <td>...</td>\n",
       "    </tr>\n",
       "    <tr>\n",
       "      <th>1305</th>\n",
       "      <td>3</td>\n",
       "      <td>0</td>\n",
       "      <td>0</td>\n",
       "      <td>8.0500</td>\n",
       "      <td>True</td>\n",
       "      <td>3</td>\n",
       "      <td>1</td>\n",
       "      <td>0</td>\n",
       "      <td>1</td>\n",
       "    </tr>\n",
       "    <tr>\n",
       "      <th>1306</th>\n",
       "      <td>1</td>\n",
       "      <td>0</td>\n",
       "      <td>0</td>\n",
       "      <td>108.9000</td>\n",
       "      <td>False</td>\n",
       "      <td>3</td>\n",
       "      <td>0</td>\n",
       "      <td>0</td>\n",
       "      <td>0</td>\n",
       "    </tr>\n",
       "    <tr>\n",
       "      <th>1307</th>\n",
       "      <td>3</td>\n",
       "      <td>0</td>\n",
       "      <td>0</td>\n",
       "      <td>7.2500</td>\n",
       "      <td>False</td>\n",
       "      <td>3</td>\n",
       "      <td>1</td>\n",
       "      <td>0</td>\n",
       "      <td>1</td>\n",
       "    </tr>\n",
       "    <tr>\n",
       "      <th>1308</th>\n",
       "      <td>3</td>\n",
       "      <td>0</td>\n",
       "      <td>0</td>\n",
       "      <td>8.0500</td>\n",
       "      <td>True</td>\n",
       "      <td>3</td>\n",
       "      <td>1</td>\n",
       "      <td>0</td>\n",
       "      <td>1</td>\n",
       "    </tr>\n",
       "    <tr>\n",
       "      <th>1309</th>\n",
       "      <td>3</td>\n",
       "      <td>1</td>\n",
       "      <td>1</td>\n",
       "      <td>22.3583</td>\n",
       "      <td>True</td>\n",
       "      <td>3</td>\n",
       "      <td>1</td>\n",
       "      <td>0</td>\n",
       "      <td>0</td>\n",
       "    </tr>\n",
       "  </tbody>\n",
       "</table>\n",
       "<p>418 rows × 9 columns</p>\n",
       "</div>"
      ],
      "text/plain": [
       "             Pclass  SibSp  Parch      Fare  AgeMissing  AgeGroupEn  Sex_male  \\\n",
       "PassengerId                                                                     \n",
       "892               3      0      0    7.8292       False           3         1   \n",
       "893               3      1      0    7.0000       False           3         0   \n",
       "894               2      0      0    9.6875       False           4         1   \n",
       "895               3      0      0    8.6625       False           2         1   \n",
       "896               3      1      1   12.2875       False           2         0   \n",
       "...             ...    ...    ...       ...         ...         ...       ...   \n",
       "1305              3      0      0    8.0500        True           3         1   \n",
       "1306              1      0      0  108.9000       False           3         0   \n",
       "1307              3      0      0    7.2500       False           3         1   \n",
       "1308              3      0      0    8.0500        True           3         1   \n",
       "1309              3      1      1   22.3583        True           3         1   \n",
       "\n",
       "             Embarked_Q  Embarked_S  \n",
       "PassengerId                          \n",
       "892                   1           0  \n",
       "893                   0           1  \n",
       "894                   1           0  \n",
       "895                   0           1  \n",
       "896                   0           1  \n",
       "...                 ...         ...  \n",
       "1305                  0           1  \n",
       "1306                  0           0  \n",
       "1307                  0           1  \n",
       "1308                  0           1  \n",
       "1309                  0           0  \n",
       "\n",
       "[418 rows x 9 columns]"
      ]
     },
     "execution_count": 48,
     "metadata": {},
     "output_type": "execute_result"
    }
   ],
   "source": [
    "# missing values, this can have a better treatment\n",
    "test_data.loc[test_data['Fare'].isna(), 'Fare'] = test_data['Fare'].mean()\n",
    "test_data = data_process(test_data)\n",
    "test_data"
   ]
  },
  {
   "cell_type": "code",
   "execution_count": 49,
   "id": "2fdb7386",
   "metadata": {},
   "outputs": [
    {
     "data": {
      "text/plain": [
       "array([0, 0, 0, 0, 0, 0, 0, 0, 1, 0, 0, 0, 1, 0, 1, 1, 0, 0, 0, 0, 0, 0,\n",
       "       1, 0, 1, 0, 1, 0, 0, 0, 0, 0, 0, 0, 0, 0, 0, 0, 0, 0, 0, 0, 0, 1,\n",
       "       1, 0, 0, 0, 1, 1, 0, 0, 1, 1, 0, 0, 0, 0, 0, 1, 0, 0, 0, 1, 1, 1,\n",
       "       1, 0, 0, 1, 1, 0, 0, 0, 1, 0, 0, 1, 0, 1, 1, 0, 0, 0, 0, 0, 1, 0,\n",
       "       1, 1, 0, 0, 1, 0, 0, 0, 1, 0, 0, 0, 1, 0, 0, 0, 1, 0, 0, 0, 0, 0,\n",
       "       0, 1, 1, 1, 1, 0, 0, 1, 0, 1, 1, 0, 1, 0, 0, 1, 0, 1, 0, 0, 0, 0,\n",
       "       0, 0, 0, 0, 0, 0, 0, 0, 0, 1, 0, 0, 0, 0, 0, 0, 0, 0, 1, 0, 0, 1,\n",
       "       0, 0, 1, 0, 0, 1, 1, 1, 1, 0, 0, 0, 0, 0, 1, 0, 0, 0, 0, 0, 0, 1,\n",
       "       1, 0, 1, 1, 0, 0, 1, 0, 1, 0, 1, 0, 0, 0, 0, 0, 0, 0, 1, 0, 1, 0,\n",
       "       0, 0, 1, 1, 0, 1, 0, 0, 0, 0, 1, 0, 0, 0, 0, 1, 0, 0, 1, 0, 1, 0,\n",
       "       1, 0, 1, 0, 1, 0, 0, 1, 0, 0, 0, 1, 0, 0, 0, 0, 0, 0, 1, 1, 1, 1,\n",
       "       0, 0, 0, 0, 1, 0, 1, 0, 1, 0, 0, 0, 0, 0, 0, 0, 1, 0, 0, 0, 1, 1,\n",
       "       0, 0, 0, 0, 0, 0, 0, 0, 1, 1, 0, 1, 0, 0, 0, 0, 0, 1, 1, 1, 1, 0,\n",
       "       0, 0, 0, 0, 0, 0, 0, 0, 0, 0, 1, 0, 0, 0, 0, 0, 0, 0, 1, 1, 0, 1,\n",
       "       0, 0, 0, 0, 0, 0, 1, 1, 0, 0, 0, 0, 0, 0, 0, 0, 1, 0, 1, 0, 0, 0,\n",
       "       1, 0, 0, 1, 0, 0, 0, 0, 0, 0, 0, 0, 0, 1, 0, 1, 0, 0, 0, 1, 1, 0,\n",
       "       0, 0, 1, 0, 1, 0, 0, 0, 0, 1, 1, 0, 1, 0, 0, 0, 1, 0, 0, 1, 0, 0,\n",
       "       1, 1, 0, 0, 0, 0, 0, 0, 0, 0, 0, 1, 0, 0, 0, 0, 0, 1, 0, 0, 0, 1,\n",
       "       0, 1, 0, 0, 1, 0, 1, 0, 0, 0, 0, 0, 1, 1, 1, 1, 0, 0, 1, 0, 0, 0])"
      ]
     },
     "execution_count": 49,
     "metadata": {},
     "output_type": "execute_result"
    }
   ],
   "source": [
    "test_data_pred = final_model.predict(test_data)\n",
    "test_data_pred"
   ]
  },
  {
   "cell_type": "markdown",
   "id": "3c9eee35",
   "metadata": {},
   "source": [
    "### <a id='toc1_5_1_'></a>[Output for submission](#toc0_)"
   ]
  },
  {
   "cell_type": "code",
   "execution_count": 50,
   "id": "16b060ba",
   "metadata": {},
   "outputs": [
    {
     "data": {
      "text/html": [
       "<div>\n",
       "<style scoped>\n",
       "    .dataframe tbody tr th:only-of-type {\n",
       "        vertical-align: middle;\n",
       "    }\n",
       "\n",
       "    .dataframe tbody tr th {\n",
       "        vertical-align: top;\n",
       "    }\n",
       "\n",
       "    .dataframe thead th {\n",
       "        text-align: right;\n",
       "    }\n",
       "</style>\n",
       "<table border=\"1\" class=\"dataframe\">\n",
       "  <thead>\n",
       "    <tr style=\"text-align: right;\">\n",
       "      <th></th>\n",
       "      <th>Survived</th>\n",
       "    </tr>\n",
       "    <tr>\n",
       "      <th>PassengerId</th>\n",
       "      <th></th>\n",
       "    </tr>\n",
       "  </thead>\n",
       "  <tbody>\n",
       "    <tr>\n",
       "      <th>892</th>\n",
       "      <td>0</td>\n",
       "    </tr>\n",
       "    <tr>\n",
       "      <th>893</th>\n",
       "      <td>0</td>\n",
       "    </tr>\n",
       "    <tr>\n",
       "      <th>894</th>\n",
       "      <td>0</td>\n",
       "    </tr>\n",
       "    <tr>\n",
       "      <th>895</th>\n",
       "      <td>0</td>\n",
       "    </tr>\n",
       "    <tr>\n",
       "      <th>896</th>\n",
       "      <td>0</td>\n",
       "    </tr>\n",
       "    <tr>\n",
       "      <th>...</th>\n",
       "      <td>...</td>\n",
       "    </tr>\n",
       "    <tr>\n",
       "      <th>1305</th>\n",
       "      <td>0</td>\n",
       "    </tr>\n",
       "    <tr>\n",
       "      <th>1306</th>\n",
       "      <td>1</td>\n",
       "    </tr>\n",
       "    <tr>\n",
       "      <th>1307</th>\n",
       "      <td>0</td>\n",
       "    </tr>\n",
       "    <tr>\n",
       "      <th>1308</th>\n",
       "      <td>0</td>\n",
       "    </tr>\n",
       "    <tr>\n",
       "      <th>1309</th>\n",
       "      <td>0</td>\n",
       "    </tr>\n",
       "  </tbody>\n",
       "</table>\n",
       "<p>418 rows × 1 columns</p>\n",
       "</div>"
      ],
      "text/plain": [
       "             Survived\n",
       "PassengerId          \n",
       "892                 0\n",
       "893                 0\n",
       "894                 0\n",
       "895                 0\n",
       "896                 0\n",
       "...               ...\n",
       "1305                0\n",
       "1306                1\n",
       "1307                0\n",
       "1308                0\n",
       "1309                0\n",
       "\n",
       "[418 rows x 1 columns]"
      ]
     },
     "execution_count": 50,
     "metadata": {},
     "output_type": "execute_result"
    }
   ],
   "source": [
    "# formatting the output\n",
    "test_output = pd.DataFrame(index=test_data.index)\n",
    "test_output['Survived'] = test_data_pred\n",
    "test_output"
   ]
  },
  {
   "cell_type": "code",
   "execution_count": 51,
   "id": "eff6d02a",
   "metadata": {},
   "outputs": [
    {
     "name": "stdout",
     "output_type": "stream",
     "text": [
      "Sucess saving output\n"
     ]
    }
   ],
   "source": [
    "test_output.to_csv('data/titanic/submission.csv')\n",
    "print('Sucess saving output')"
   ]
  },
  {
   "cell_type": "markdown",
   "id": "2ca4b6d3",
   "metadata": {},
   "source": [
    "**FINAL SCORE: 0.78468**"
   ]
  }
 ],
 "metadata": {
  "kernelspec": {
   "display_name": "Python 3",
   "language": "python",
   "name": "python3"
  },
  "language_info": {
   "codemirror_mode": {
    "name": "ipython",
    "version": 3
   },
   "file_extension": ".py",
   "mimetype": "text/x-python",
   "name": "python",
   "nbconvert_exporter": "python",
   "pygments_lexer": "ipython3",
   "version": "3.11.5"
  },
  "papermill": {
   "default_parameters": {},
   "duration": 54.270766,
   "end_time": "2023-07-26T20:50:24.718909",
   "environment_variables": {},
   "exception": null,
   "input_path": "__notebook__.ipynb",
   "output_path": "__notebook__.ipynb",
   "parameters": {},
   "start_time": "2023-07-26T20:49:30.448143",
   "version": "2.4.0"
  }
 },
 "nbformat": 4,
 "nbformat_minor": 5
}
